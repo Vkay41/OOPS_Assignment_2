{
 "cells": [
  {
   "cell_type": "markdown",
   "id": "cf66a51d",
   "metadata": {},
   "source": [
    "# OOPS Assignment"
   ]
  },
  {
   "cell_type": "markdown",
   "id": "1260bea0",
   "metadata": {},
   "source": [
    "# Abstraction"
   ]
  },
  {
   "cell_type": "markdown",
   "id": "ad7816d9",
   "metadata": {},
   "source": [
    "# 1. What is abstraction in Python, and how does it relate to object-oriented programming?"
   ]
  },
  {
   "cell_type": "markdown",
   "id": "bd5468b1",
   "metadata": {},
   "source": [
    "Abstraction in python is defined as a process of handling complexity by hiding unnecessary information from the user. \n",
    "\n",
    "This is one of the core concepts of object-oriented programming (OOP) languages. \n",
    "\n",
    "That enables the user to implement even more complex logic on top of the provided abstraction without understanding or even thinking about all the hidden background/back-end complexity.\n",
    "\n",
    "That’s a very generic core topic not only limited to object-oriented programming. You can observe it everywhere in the real world or in our surroundings.\n",
    "\n",
    "#### Importance:                   \n",
    "\n",
    "Abstraction provides a programmer to hide all the irrelevant data/process of an application in order to reduce complexity and increase the efficiency of the program. \n",
    "\n",
    "Now, we can start learning how we can achieve abstraction using the Python program."
   ]
  },
  {
   "cell_type": "markdown",
   "id": "ab480a50",
   "metadata": {},
   "source": [
    "# 2. Describe the benefits of abstraction in terms of code organization and complexity reduction."
   ]
  },
  {
   "cell_type": "markdown",
   "id": "02f5b638",
   "metadata": {},
   "source": [
    "Here are some of the benefits of abstraction in Python:\n",
    "\n",
    "#### Simplified code:\n",
    "\n",
    "Abstraction helps in minimizing the complexity of the code written. It makes the code easier to read and understand.\n",
    "\n",
    "#### Reusable code:\n",
    "\n",
    "Abstraction allows us to create reusable code by separating the implementation details from the interface. This means that we can use the same code in multiple places without having to rewrite it.\n",
    "\n",
    "#### Maintainable code:\n",
    "\n",
    "Abstraction makes software easier to maintain by allowing changes only to be made in one place instead of multiple locations within the program.\n",
    "\n",
    "#### Efficient code:\n",
    "\n",
    "Abstraction helps developers create shorter, more efficient programs with fewer lines of code that are easier to debug.\n",
    "\n",
    "#### Secure code:\n",
    "\n",
    "Abstraction enhances security because it hides sensitive information from the user.\n"
   ]
  },
  {
   "cell_type": "markdown",
   "id": "de59b81a",
   "metadata": {},
   "source": [
    "# 3. Create a Python class called `Shape` with an abstract method `calculate_area()`. Then, create child classes (e.g., `Circle`, `Rectangle`) that implement the `calculate_area()` method. Provide an example of using these classes."
   ]
  },
  {
   "cell_type": "code",
   "execution_count": 2,
   "id": "03905d2d",
   "metadata": {},
   "outputs": [
    {
     "name": "stdout",
     "output_type": "stream",
     "text": [
      "20\n",
      "28.274333882308138\n"
     ]
    }
   ],
   "source": [
    "import math\n",
    "from abc import ABC, abstractmethod\n",
    "\n",
    "class Shape(ABC):\n",
    "    @abstractmethod\n",
    "    def area(self):\n",
    "        pass\n",
    "\n",
    "class Rectangle(Shape):\n",
    "    def __init__(self, width, height):\n",
    "        self.width = width\n",
    "        self.height = height\n",
    "\n",
    "    def area(self):\n",
    "        return self.width * self.height\n",
    "\n",
    "class Circle(Shape):\n",
    "    def __init__(self, radius):\n",
    "        self.radius = radius\n",
    "\n",
    "    def area(self):\n",
    "        return math.pi * self.radius ** 2\n",
    "\n",
    "# Create a rectangle object\n",
    "rectangle = Rectangle(4, 5)\n",
    "\n",
    "# Print the area of the rectangle\n",
    "print(rectangle.area())\n",
    "\n",
    "# Create a circle object\n",
    "circle = Circle(3)\n",
    "\n",
    "# Print the area of the circle\n",
    "print(circle.area())"
   ]
  },
  {
   "cell_type": "markdown",
   "id": "0a1be851",
   "metadata": {},
   "source": [
    "In this solution, the Shape class is an abstract class because it has an abstract method called area(). This means that subclasses of Shape must implement the area() method. The Rectangle and Circle classes are concrete classes that implement the area() method.\n",
    "We can create objects of the Rectangle and Circle classes and call the area() method on them. The area() method will return the area of the shape."
   ]
  },
  {
   "cell_type": "markdown",
   "id": "229abd8f",
   "metadata": {},
   "source": [
    "# 4. Explain the concept of abstract classes in Python and how they are defined using the `abc` module. Provide an example."
   ]
  },
  {
   "cell_type": "markdown",
   "id": "53e1975d",
   "metadata": {},
   "source": [
    "By default, Python does not provide abstract classes. Python comes with a module that provides the base for defining Abstract Base classes(ABC) and that module name is ABC.\n",
    "\n",
    "ABC works by decorating methods of the base class as an abstract and then registering concrete classes as implementations of the abstract base. A method becomes abstract when decorated with the keyword @abstractmethod."
   ]
  },
  {
   "cell_type": "code",
   "execution_count": 6,
   "id": "bbab0688",
   "metadata": {},
   "outputs": [
    {
     "name": "stdout",
     "output_type": "stream",
     "text": [
      "I can walk and run\n",
      "I can crawl\n",
      "I can bark\n",
      "I can roar\n"
     ]
    }
   ],
   "source": [
    "# Python program showing\n",
    "# abstract base class work\n",
    "from abc import ABC, abstractmethod\n",
    "\n",
    "\n",
    "class Animal(ABC):\n",
    "\n",
    "    def move(self):\n",
    "        pass\n",
    "\n",
    "class Human(Animal):\n",
    "\n",
    "    def move(self):\n",
    "        print(\"I can walk and run\")\n",
    "\n",
    "class Snake(Animal):\n",
    "\n",
    "    def move(self):\n",
    "        print(\"I can crawl\")\n",
    "\n",
    "class Dog(Animal):\n",
    "\n",
    "    def move(self):\n",
    "        print(\"I can bark\")\n",
    "\n",
    "class Lion(Animal):\n",
    "\n",
    "    def move(self):\n",
    "        print(\"I can roar\")\n",
    "\n",
    "# Driver code\n",
    "R = Human()\n",
    "R.move()\n",
    "\n",
    "K = Snake()\n",
    "K.move()\n",
    "\n",
    "R = Dog()\n",
    "R.move()\n",
    "\n",
    "K = Lion()\n",
    "K.move()"
   ]
  },
  {
   "cell_type": "markdown",
   "id": "f28addb9",
   "metadata": {},
   "source": [
    "# 5. How do abstract classes differ from regular classes in Python? Discuss their use cases."
   ]
  },
  {
   "cell_type": "markdown",
   "id": "ad4c58b0",
   "metadata": {},
   "source": [
    "Here are some of the key differences between abstract classes and regular classes in Python:\n",
    "\n",
    "#### Abstract classes cannot be instantiated.\n",
    "\n",
    "This means that you cannot create an instance of an abstract class directly. Instead, you must create a subclass of the abstract \n",
    "\n",
    "class and then instantiate that subclass.\n",
    "\n",
    "#### Abstract classes can contain abstract methods.\n",
    "\n",
    "Abstract methods are methods that have a declaration but do not have an implementation. When you create a subclass of an abstract class, you must provide an implementation for all of the abstract methods in the parent class.\n",
    "\n",
    "#### Abstract classes are often used to define a common interface for a set of related classes.\n",
    "\n",
    "This allows you to write code that can work with any class that inherits from the abstract class, without having to know the specific details of the concrete class."
   ]
  },
  {
   "cell_type": "markdown",
   "id": "15ffaf1d",
   "metadata": {},
   "source": [
    "# 6. Create a Python class for a bank account and demonstrate abstraction by hiding the account balance and providing methods to deposit and withdraw funds."
   ]
  },
  {
   "cell_type": "code",
   "execution_count": 18,
   "id": "95df583e",
   "metadata": {},
   "outputs": [
    {
     "name": "stdout",
     "output_type": "stream",
     "text": [
      "1300\n"
     ]
    }
   ],
   "source": [
    "class BankAccount:\n",
    "    def __init__(self, account_number, balance):\n",
    "        self.account_number = account_number\n",
    "        self.balance = balance\n",
    "\n",
    "    def deposit(self, amount):\n",
    "        self.balance += amount\n",
    "\n",
    "    def withdraw(self, amount):\n",
    "        if amount > self.balance:\n",
    "            raise ValueError(\"Insufficient funds\")\n",
    "        else:\n",
    "            self.balance -= amount\n",
    "\n",
    "    def get_balance(self):\n",
    "        return self.balance\n",
    "\n",
    "# Create an instance of the BankAccount class\n",
    "account = BankAccount(1234567890, 1000)\n",
    "\n",
    "# Deposit $500 into the account\n",
    "account.deposit(500)\n",
    "\n",
    "# Withdraw $200 from the account\n",
    "account.withdraw(200)\n",
    "\n",
    "# Get the current balance of the account\n",
    "balance = account.get_balance()\n",
    "\n",
    "# Print the balance\n",
    "print(balance)"
   ]
  },
  {
   "cell_type": "markdown",
   "id": "b2cf1f2b",
   "metadata": {},
   "source": [
    "This class demonstrates abstraction by hiding the internal details of how the account balance is stored and managed. The user of the class does not need to know how the balance is implemented, they only need to know how to interact with it using the deposit(), withdraw(), and get_balance() methods.\n",
    "\n",
    "For example, the user does not need to know that the balance is stored as a floating-point number in memory. They also do not need to know how the withdraw() method checks for sufficient funds before withdrawing money. All of these details are hidden behind the abstraction of the BankAccount class.\n",
    "\n",
    "This makes the class easier to use and maintain, as the user does not need to worry about the underlying implementation. It also makes the class more flexible, as the implementation can be changed without affecting the user's code."
   ]
  },
  {
   "cell_type": "markdown",
   "id": "c7ba2e85",
   "metadata": {},
   "source": [
    "# 7. Discuss the concept of interface classes in Python and their role in achieving abstraction."
   ]
  },
  {
   "cell_type": "markdown",
   "id": "148531d0",
   "metadata": {},
   "source": [
    "At a high level, an interface acts as a blueprint for designing classes. Like classes, interfaces define methods. Unlike classes, these methods are abstract. An abstract method is one that the interface simply defines. It doesn’t implement the methods. This is done by classes, which then implement the interface and give concrete meaning to the interface’s abstract methods.\n",
    "\n",
    "Python’s approach to interface design is somewhat different when compared to languages like Java, Go, and C++. These languages all have an interface keyword, while Python does not. Python further deviates from other languages in one other aspect. It doesn’t require the class that’s implementing the interface to define all of the interface’s abstract methods."
   ]
  },
  {
   "cell_type": "markdown",
   "id": "2ed0049e",
   "metadata": {},
   "source": [
    "# 8. Create a Python class hierarchy for animals and implement abstraction by defining common methods (e.g., `eat()`, `sleep()`) in an abstract base class."
   ]
  },
  {
   "cell_type": "code",
   "execution_count": 19,
   "id": "b96dd2e8",
   "metadata": {},
   "outputs": [
    {
     "name": "stdout",
     "output_type": "stream",
     "text": [
      "Woof!\n",
      "Meow!\n",
      "Polly want a cracker!\n"
     ]
    }
   ],
   "source": [
    "from abc import ABC, abstractmethod\n",
    "\n",
    "class Animal(ABC):\n",
    "    def __init__(self, name):\n",
    "        self.name = name\n",
    "\n",
    "    @abstractmethod\n",
    "    def make_sound(self):\n",
    "        pass\n",
    "\n",
    "class Mammal(Animal):\n",
    "    def make_sound(self):\n",
    "        print(\"I am a mammal.\")\n",
    "\n",
    "class Dog(Mammal):\n",
    "    def make_sound(self):\n",
    "        print(\"Woof!\")\n",
    "\n",
    "class Cat(Mammal):\n",
    "    def make_sound(self):\n",
    "        print(\"Meow!\")\n",
    "\n",
    "class Bird(Animal):\n",
    "    def make_sound(self):\n",
    "        print(\"I am a bird.\")\n",
    "\n",
    "class Parrot(Bird):\n",
    "    def make_sound(self):\n",
    "        print(\"Polly want a cracker!\")\n",
    "\n",
    "# Create an instance of each class\n",
    "dog = Dog(\"Fido\")\n",
    "cat = Cat(\"Felix\")\n",
    "parrot = Parrot(\"Polly\")\n",
    "\n",
    "# Call the make_sound() method on each instance\n",
    "dog.make_sound()\n",
    "cat.make_sound()\n",
    "parrot.make_sound()"
   ]
  },
  {
   "cell_type": "markdown",
   "id": "0b93c5b4",
   "metadata": {},
   "source": [
    "In this example, the Animal class is an abstract base class. This means that it cannot be instantiated directly. Instead, it must be subclassed by other classes, such as Mammal, Bird, Dog, Cat, and Parrot.\n",
    "\n",
    "The Animal class has an abstract method called make_sound(). This means that all subclasses of Animal must implement their own version of the make_sound() method.\n",
    "\n",
    "The Mammal, Bird, Dog, Cat, and Parrot classes all implement their own versions of the make_sound() method.\n",
    "When we create an instance of each class and call the make_sound() method, the appropriate version of the method is called.\n",
    "This example demonstrates how to use Python class hierarchies and abstraction to model real-world objects."
   ]
  },
  {
   "cell_type": "markdown",
   "id": "a7bce58d",
   "metadata": {},
   "source": [
    "# 9. Explain the significance of encapsulation in achieving abstraction. Provide examples."
   ]
  },
  {
   "cell_type": "markdown",
   "id": "403af3eb",
   "metadata": {},
   "source": [
    "Encapsulation is a key concept in object-oriented programming that helps achieve data abstraction.\n",
    "\n",
    "Abstraction is the process of representing complex data structures in a simplified form, making them easier to work with. \n",
    "\n",
    "Encapsulation hides an object's internal details, providing a simpler interface for accessing and manipulating it. \n",
    "\n",
    "This makes it easier for outside code to interact with the object through its abstraction, rather than its implementation details.\n",
    "\n",
    "Encapsulation and abstraction are complementary concepts.\n",
    "\n",
    "Abstraction focuses on an object's observable behavior, while encapsulation focuses on the implementation that gives rise to that behavior.\n",
    "\n",
    "Encapsulation is often achieved through information hiding, which is the process of hiding object details that don't contribute to its essential characteristics. \n",
    "\n",
    "For example, a mobile phone's interface is abstracted from the actual code implementation."
   ]
  },
  {
   "cell_type": "markdown",
   "id": "3ba507e1",
   "metadata": {},
   "source": [
    "# 10. What is the purpose of abstract methods, and how do they enforce abstraction in Python classes?"
   ]
  },
  {
   "cell_type": "markdown",
   "id": "e2a0b9b1",
   "metadata": {},
   "source": [
    "#### Abstract methods can be used to:\n",
    "\n",
    "Inherit an abstract class from another class\n",
    "\n",
    "Implement abstract methods\n",
    "\n",
    "Achieve abstraction, which hides non-essential information from the user, reduces program complexity, increases security, and increases code reusability\n",
    "\n",
    "Create blueprints for classes or interfaces\n",
    "\n",
    "Specify the behavior of a particular data type, but not be concerned about who implements its behavior\n",
    "\n",
    "Take advantage of multiple inheritance of type"
   ]
  },
  {
   "cell_type": "markdown",
   "id": "68706632",
   "metadata": {},
   "source": [
    "# 11. Create a Python class for a vehicle system and demonstrate abstraction by defining common methods (e.g., `start()`, `stop()`) in an abstract base class."
   ]
  },
  {
   "cell_type": "code",
   "execution_count": 20,
   "id": "77c2aaea",
   "metadata": {},
   "outputs": [
    {
     "name": "stdout",
     "output_type": "stream",
     "text": [
      "The car is starting.\n",
      "The vehicle is driving.\n",
      "The car is stopping.\n",
      "The truck is starting.\n",
      "The vehicle is driving.\n",
      "The truck is stopping.\n"
     ]
    }
   ],
   "source": [
    "from abc import ABC, abstractmethod\n",
    "\n",
    "class Vehicle(ABC):\n",
    "    def __init__(self, make, model, year):\n",
    "        self.make = make\n",
    "        self.model = model\n",
    "        self.year = year\n",
    "\n",
    "    @abstractmethod\n",
    "    def start(self):\n",
    "        pass\n",
    "\n",
    "    @abstractmethod\n",
    "    def stop(self):\n",
    "        pass\n",
    "\n",
    "    def drive(self):\n",
    "        self.start()\n",
    "        print(\"The vehicle is driving.\")\n",
    "        self.stop()\n",
    "\n",
    "class Car(Vehicle):\n",
    "    def start(self):\n",
    "        print(\"The car is starting.\")\n",
    "\n",
    "    def stop(self):\n",
    "        print(\"The car is stopping.\")\n",
    "\n",
    "class Truck(Vehicle):\n",
    "    def start(self):\n",
    "        print(\"The truck is starting.\")\n",
    "\n",
    "    def stop(self):\n",
    "        print(\"The truck is stopping.\")\n",
    "\n",
    "# Create a car and a truck object\n",
    "car = Car(\"Toyota\", \"Camry\", 2020)\n",
    "truck = Truck(\"Ford\", \"F-150\", 2021)\n",
    "\n",
    "# Drive the car and the truck\n",
    "car.drive()\n",
    "truck.drive()"
   ]
  },
  {
   "cell_type": "markdown",
   "id": "10f049b7",
   "metadata": {},
   "source": [
    "In this solution, the Vehicle class is an abstract class that defines the basic functionality of a vehicle. It has two abstract methods, start() and stop(), which must be implemented by any concrete class that inherits from Vehicle.\n",
    "\n",
    "The Car and Truck classes are concrete classes that inherit from Vehicle. They implement the start() and stop() methods in a way that is specific to each type of vehicle.\n",
    "\n",
    "The drive() method is a concrete method that is defined in the Vehicle class. It calls the start() and stop() methods to start and stop the vehicle.\n",
    "\n",
    "To create a car object, we call the Car() constructor and pass in the make, model, and year of the car. To create a truck object, we call the Truck() constructor and pass in the make, model, and year of the truck.\n",
    "\n",
    "To drive the car and the truck, we call the drive() method on each object.\n",
    "\n",
    "This example demonstrates abstraction because the Vehicle class defines the basic functionality of a vehicle without specifying the details of how that functionality is implemented. The Car and Truck classes implement the start() and stop() methods in a way that is specific to each type of vehicle."
   ]
  },
  {
   "cell_type": "markdown",
   "id": "54364d9a",
   "metadata": {},
   "source": [
    "# 12. Describe the use of abstract properties in Python and how they can be employed in abstract classes."
   ]
  },
  {
   "cell_type": "markdown",
   "id": "85dc112f",
   "metadata": {},
   "source": [
    "Here are some of the benefits of using abstraction in Python:\n",
    "\n",
    "#### Encapsulation:\n",
    "Abstraction in Python allows you to hide the internal details of an object and expose only what is necessary. This promotes encapsulation, a fundamental principle of object-oriented programming.\n",
    "#### Code Reusability:\n",
    "Abstract base classes provide a blueprint for creating subclasses with shared behavior. This promotes code reusability and reduces duplication.\n",
    "#### Simplified Code:\n",
    "Abstraction allows us to simplify complex concepts and focus on the essential details. This can make our code more readable and maintainable."
   ]
  },
  {
   "cell_type": "markdown",
   "id": "f827ae50",
   "metadata": {},
   "source": [
    "# 13. Create a Python class hierarchy for employees in a company (e.g., manager, developer, designer) and implement abstraction by defining a common `get_salary()` method."
   ]
  },
  {
   "cell_type": "code",
   "execution_count": 21,
   "id": "09cc345c",
   "metadata": {},
   "outputs": [
    {
     "name": "stdout",
     "output_type": "stream",
     "text": [
      "I am a manager and I am working.\n",
      "I am an engineer and I am working.\n",
      "I am a salesperson and I am working.\n"
     ]
    }
   ],
   "source": [
    "from abc import ABC, abstractmethod\n",
    "\n",
    "class Employee(ABC):\n",
    "    def __init__(self, name, age, salary):\n",
    "        self.name = name\n",
    "        self.age = age\n",
    "        self.salary = salary\n",
    "\n",
    "    @abstractmethod\n",
    "    def work(self):\n",
    "        pass\n",
    "\n",
    "class Manager(Employee):\n",
    "    def __init__(self, name, age, salary, department):\n",
    "        super().__init__(name, age, salary)\n",
    "        self.department = department\n",
    "\n",
    "    def work(self):\n",
    "        print(\"I am a manager and I am working.\")\n",
    "\n",
    "class Engineer(Employee):\n",
    "    def __init__(self, name, age, salary, skills):\n",
    "        super().__init__(name, age, salary)\n",
    "        self.skills = skills\n",
    "\n",
    "    def work(self):\n",
    "        print(\"I am an engineer and I am working.\")\n",
    "\n",
    "class Salesperson(Employee):\n",
    "    def __init__(self, name, age, salary, commission_rate):\n",
    "        super().__init__(name, age, salary)\n",
    "        self.commission_rate = commission_rate\n",
    "\n",
    "    def work(self):\n",
    "        print(\"I am a salesperson and I am working.\")\n",
    "\n",
    "# Create some employee objects\n",
    "manager = Manager(\"John Doe\", 30, 100000, \"Sales\")\n",
    "engineer = Engineer(\"Jane Doe\", 25, 80000, [\"Python\", \"Java\"])\n",
    "salesperson = Salesperson(\"Bob Smith\", 28, 70000, 0.1)\n",
    "\n",
    "# Call the work() method on each employee object\n",
    "manager.work()\n",
    "engineer.work()\n",
    "salesperson.work()"
   ]
  },
  {
   "cell_type": "markdown",
   "id": "c21e50dd",
   "metadata": {},
   "source": [
    "In this solution, the Employee class is an abstract base class. It defines a constructor and an abstract method called work(). The Manager, Engineer, and Salesperson classes are concrete subclasses that inherit from the Employee class. Each concrete subclass implements the work() method in its own way.\n",
    "\n",
    "The use of abstraction in this example allows us to create a flexible and extensible class hierarchy. We can easily add new types of employees to the hierarchy by creating new concrete subclasses that inherit from the Employee class and implement the work() method."
   ]
  },
  {
   "cell_type": "markdown",
   "id": "88fd74da",
   "metadata": {},
   "source": [
    "# 14. Discuss the differences between abstract classes and concrete classes in Python, including their instantiation."
   ]
  },
  {
   "cell_type": "markdown",
   "id": "5c20ee2c",
   "metadata": {},
   "source": [
    "#### Here are the differences between abstract classes and concrete classes in Python:\n",
    "\n",
    "##### Abstract classes\n",
    "\n",
    "Cannot be instantiated.\n",
    "\n",
    "Can contain abstract methods (methods without a body).\n",
    "\n",
    "Can contain concrete methods (methods with a body).\n",
    "\n",
    "##### Concrete classes\n",
    "Can be instantiated, Cannot contain abstract methods, and Can contain concrete methods."
   ]
  },
  {
   "cell_type": "markdown",
   "id": "3df74f32",
   "metadata": {},
   "source": [
    "# 15. Explain the concept of abstract data types (ADTs) and their role in achieving abstraction in Python."
   ]
  },
  {
   "cell_type": "markdown",
   "id": "8cf5e6f8",
   "metadata": {},
   "source": [
    "In computer science, an abstract data type (ADT) is a mathematical model for data types, defined by its behavior (semantics) from the point of view of a user of the data, specifically in terms of possible values, possible operations on data of this type, and the behavior of these operations. This contrasts with data structures, which are concrete implementations of data types.\n",
    "\n",
    "ADTs are important because they allow programmers to focus on the high-level functionality of their algorithms without getting bogged down in the low-level details of data representation and management. For example, a programmer might use an ADT to represent a queue without having to worry about how the queue is actually implemented in memory.\n",
    "\n",
    "There are many different ADTs, including stacks, queues, lists, trees, and graphs. Each ADT has its own set of operations that can be performed on it. For example, the operations for a stack might include push, pop, and peek. The operations for a queue might include enqueue, dequeue, and front."
   ]
  },
  {
   "cell_type": "markdown",
   "id": "d13c1dd8",
   "metadata": {},
   "source": [
    "# 16. Create a Python class for a computer system, demonstrating abstraction by defining common methods (e.g., `power_on()`, `shutdown()`) in an abstract base class."
   ]
  },
  {
   "cell_type": "code",
   "execution_count": 12,
   "id": "2ebaa877",
   "metadata": {},
   "outputs": [
    {
     "name": "stdout",
     "output_type": "stream",
     "text": [
      "Turning on desktop computer...\n",
      "Turning on laptop computer...\n",
      "Running program Google Chrome on desktop computer...\n",
      "Running program Microsoft Word on laptop computer...\n",
      "Turning off desktop computer...\n",
      "Turning off laptop computer...\n"
     ]
    }
   ],
   "source": [
    "from abc import ABC, abstractmethod\n",
    "\n",
    "class ComputerSystem(ABC):\n",
    "    def __init__(self, cpu, memory, storage):\n",
    "        self.cpu = cpu\n",
    "        self.memory = memory\n",
    "        self.storage = storage\n",
    "\n",
    "    @abstractmethod\n",
    "    def turn_on(self):\n",
    "        pass\n",
    "\n",
    "    @abstractmethod\n",
    "    def turn_off(self):\n",
    "        pass\n",
    "\n",
    "    @abstractmethod\n",
    "    def run_program(self, program):\n",
    "        pass\n",
    "\n",
    "class DesktopComputer(ComputerSystem):\n",
    "    def turn_on(self):\n",
    "        print(\"Turning on desktop computer...\")\n",
    "\n",
    "    def turn_off(self):\n",
    "        print(\"Turning off desktop computer...\")\n",
    "\n",
    "    def run_program(self, program):\n",
    "        print(\"Running program {} on desktop computer...\".format(program))\n",
    "\n",
    "class LaptopComputer(ComputerSystem):\n",
    "    def turn_on(self):\n",
    "        print(\"Turning on laptop computer...\")\n",
    "\n",
    "    def turn_off(self):\n",
    "        print(\"Turning off laptop computer...\")\n",
    "\n",
    "    def run_program(self, program):\n",
    "        print(\"Running program {} on laptop computer...\".format(program))\n",
    "\n",
    "# Create instances of the ComputerSystem class\n",
    "desktop_computer = DesktopComputer(\"Intel Core i7\", \"16GB\", \"1TB SSD\")\n",
    "laptop_computer = LaptopComputer(\"AMD Ryzen 7\", \"8GB\", \"512GB SSD\")\n",
    "\n",
    "# Turn on the computer systems\n",
    "desktop_computer.turn_on()\n",
    "laptop_computer.turn_on()\n",
    "\n",
    "# Run a program on the computer systems\n",
    "desktop_computer.run_program(\"Google Chrome\")\n",
    "laptop_computer.run_program(\"Microsoft Word\")\n",
    "\n",
    "# Turn off the computer systems\n",
    "desktop_computer.turn_off()\n",
    "laptop_computer.turn_off()"
   ]
  },
  {
   "cell_type": "markdown",
   "id": "c02e09fb",
   "metadata": {},
   "source": [
    "In this example, the ComputerSystem class is an abstract class that defines the basic functionality of a computer system. The turn_on(), turn_off(), and run_program() methods are abstract methods, which means that they must be implemented by the concrete subclasses of ComputerSystem.\n",
    "\n",
    "The DesktopComputer and LaptopComputer classes are concrete subclasses of ComputerSystem that implement the abstract methods. The DesktopComputer class implements the turn_on(), turn_off(), and run_program() methods to turn on, turn off, and run a program on a desktop computer. The LaptopComputer class implements the turn_on(), turn_off(), and run_program() methods to turn on, turn off, and run a program on a laptop computer.\n",
    "\n",
    "This example demonstrates abstraction by hiding the implementation details of the computer system from the user. The user does not need to know how the computer system works internally in order to use it. The user can simply interact with the computer system through the abstract methods of the ComputerSystem class."
   ]
  },
  {
   "cell_type": "markdown",
   "id": "643a837e",
   "metadata": {},
   "source": [
    "# 17. Discuss the benefits of using abstraction in large-scale software development projects."
   ]
  },
  {
   "cell_type": "markdown",
   "id": "2c0ee88a",
   "metadata": {},
   "source": [
    "Abstraction is a computer science technique that simplifies complex systems by breaking them down into smaller, more manageable parts. It allows programmers to focus on essential features by hiding complex details. Abstraction can be beneficial in large-scale software development projects because it can:\n",
    "\n",
    "#### Improve maintainability\n",
    "\n",
    "Changes can be made to abstracted components without affecting the entire system, which reduces the risk of introducing new bugs.\n",
    "\n",
    "#### Enhance scalability\n",
    "\n",
    "Abstraction enables the creation of reusable components that can be easily integrated into larger systems.\n",
    "\n",
    "#### Promote code reusability\n",
    "\n",
    "Existing components can be leveraged in new projects or features, saving time and effort.\n",
    "\n",
    "#### Improve readability and understandability\n",
    "\n",
    "Abstraction makes code easier to read and understand by abstracting away unnecessary details.\n",
    "\n",
    "#### Increase reliability and security\n",
    "\n",
    "Only important details are provided to the user, which can help increase the security of an application or program.\n",
    "\n",
    "#### Reduce development time and cost\n",
    "\n",
    "Abstraction can increase product development productivity by reducing the need for deep understanding of implementation details"
   ]
  },
  {
   "cell_type": "markdown",
   "id": "3267ae90",
   "metadata": {},
   "source": [
    "# 18. Explain how abstraction enhances code reusability and modularity in Python programs."
   ]
  },
  {
   "cell_type": "markdown",
   "id": "092ba2d6",
   "metadata": {},
   "source": [
    "Abstraction and modularity can enhance code reusability and modularity in the following ways: \n",
    "\n",
    "#### Abstraction can help you to write more reusable code\n",
    "\n",
    "By hiding unnecessary details. This means that you can use the same code in multiple places without having to worry about the underlying implementation.\n",
    "\n",
    "#### Modularity can help you to write more modular code\n",
    "\n",
    "By dividing your code into smaller, independent components. This makes your code easier to understand, maintain, and extend.\n",
    "Here are some examples of how abstraction and modularity can be used to enhance code reusability and modularity in Python:\n",
    "\n",
    "#### Functions:\n",
    "\n",
    "Functions can be used to abstract away common tasks. For example, you could write a function to calculate the area of a triangle. This function would hide the details of how the area is calculated, and you could use it in multiple places in your code without having to worry about the implementation.\n",
    "\n",
    "#### Classes:\n",
    "\n",
    "Classes can be used to abstract away complex data structures and behaviors. For example, you could write a class to represent a triangle. This class would encapsulate the data and behavior of a triangle, and you could use it in multiple places in your code without having to worry about the implementation.\n",
    "\n",
    "#### Modules:\n",
    "\n",
    "Modules can be used to organize your code into logical units. For example, you could create a module to contain all of your code for calculating the area of shapes. This would make your code easier to understand and maintain."
   ]
  },
  {
   "cell_type": "markdown",
   "id": "0374e521",
   "metadata": {},
   "source": [
    "# 19. Create a Python class for a library system, implementing abstraction by defining common methods (e.g., `add_book()`, `borrow_book()`) in an abstract base class."
   ]
  },
  {
   "cell_type": "code",
   "execution_count": 17,
   "id": "e8c0ed04",
   "metadata": {},
   "outputs": [
    {
     "name": "stdout",
     "output_type": "stream",
     "text": [
      "The Hitchhiker's Guide to the Galaxy\n"
     ]
    }
   ],
   "source": [
    "class Library:\n",
    "  def __init__(self, name):\n",
    "    self.name = name\n",
    "    self.books = {}\n",
    "\n",
    "  def add_book(self, book):\n",
    "    self.books[book.isbn] = book\n",
    "\n",
    "  def remove_book(self, isbn):\n",
    "    del self.books[isbn]\n",
    "\n",
    "  def find_book(self, isbn):\n",
    "    return self.books[isbn]\n",
    "\n",
    "  def list_books(self):\n",
    "    for book in self.books.values():\n",
    "      print(book)\n",
    "\n",
    "class Book:\n",
    "  def __init__(self, title, author, isbn):\n",
    "    self.title = title\n",
    "    self.author = author\n",
    "    self.isbn = isbn\n",
    "\n",
    "# Create a library\n",
    "library = Library(\"My Library\")\n",
    "\n",
    "# Add some books\n",
    "library.add_book(Book(\"The Hitchhiker's Guide to the Galaxy\", \"Douglas Adams\", \"0330258648\"))\n",
    "library.add_book(Book(\"The Restaurant at the End of the Universe\", \"Douglas Adams\", \"0330258656\"))\n",
    "library.add_book(Book(\"Life, the Universe and Everything\", \"Douglas Adams\", \"0330258664\"))\n",
    "\n",
    "# Find a book\n",
    "book = library.find_book(\"0330258648\")\n",
    "print(book.title)\n",
    "\n"
   ]
  },
  {
   "cell_type": "markdown",
   "id": "3f73ed5d",
   "metadata": {},
   "source": [
    "This is just a simple example, of course. A more complete library system would likely include additional features, such as the ability to check out and return books, keep track of overdue books, and generate reports."
   ]
  },
  {
   "cell_type": "markdown",
   "id": "2248d618",
   "metadata": {},
   "source": [
    "# 20. Describe the concept of method abstraction in Python and how it relates to polymorphism."
   ]
  },
  {
   "cell_type": "markdown",
   "id": "088b8a19",
   "metadata": {},
   "source": [
    "Method abstraction in Python is a programming technique that allows you to hide the internal implementation of a method from the user. This can be useful for a variety of reasons, such as:\n",
    "\n",
    "#### To make your code more readable and maintainable.\n",
    "By hiding the implementation of a method, you can make it easier for other programmers to understand and use your code.\n",
    "\n",
    "#### To improve the performance of your code.\n",
    "\n",
    "By hiding the implementation of a method, you can allow the Python interpreter to optimize the code more effectively.\n",
    "#### To protect your intellectual property.\n",
    "\n",
    "By hiding the implementation of a method, you can make it more difficult for others to copy your code."
   ]
  },
  {
   "cell_type": "code",
   "execution_count": null,
   "id": "11e5a1ab",
   "metadata": {},
   "outputs": [],
   "source": []
  },
  {
   "cell_type": "code",
   "execution_count": null,
   "id": "cffe916a",
   "metadata": {},
   "outputs": [],
   "source": []
  },
  {
   "cell_type": "code",
   "execution_count": null,
   "id": "ab836a38",
   "metadata": {},
   "outputs": [],
   "source": []
  }
 ],
 "metadata": {
  "kernelspec": {
   "display_name": "Python 3 (ipykernel)",
   "language": "python",
   "name": "python3"
  },
  "language_info": {
   "codemirror_mode": {
    "name": "ipython",
    "version": 3
   },
   "file_extension": ".py",
   "mimetype": "text/x-python",
   "name": "python",
   "nbconvert_exporter": "python",
   "pygments_lexer": "ipython3",
   "version": "3.11.5"
  }
 },
 "nbformat": 4,
 "nbformat_minor": 5
}
