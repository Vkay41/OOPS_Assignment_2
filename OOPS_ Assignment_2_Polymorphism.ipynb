{
 "cells": [
  {
   "cell_type": "markdown",
   "id": "ca76600f",
   "metadata": {},
   "source": [
    "# OOPS Assignment"
   ]
  },
  {
   "cell_type": "markdown",
   "id": "d201e279",
   "metadata": {},
   "source": [
    "# Polymorphism"
   ]
  },
  {
   "cell_type": "markdown",
   "id": "6245e0cf",
   "metadata": {},
   "source": [
    "# 1. What is polymorphism in Python? Explain how it is related to object-oriented programming."
   ]
  },
  {
   "cell_type": "markdown",
   "id": "ee1132ea",
   "metadata": {},
   "source": [
    "Polymorphism is defined as the circumstance of occurring in several forms. It refers to the usage of a single type entity (method, operator, or object) to represent several types in various contexts. Polymorphism is made from 2 words – ‘poly‘ and ‘morphs.’ The word ‘poly’ means ‘many’ and ‘morphs’ means ‘many forms.’ Polymorphism, in a nutshell, means having multiple forms. To put it simply, polymorphism allows us to do the same activity in a variety of ways.\n",
    "\n",
    "Polymorphism has the following advantages:\n",
    "    \n",
    "    It is beneficial to reuse the codes.\n",
    "    \n",
    "    The codes are simple to debug.\n",
    "    \n",
    "    A single variable can store multiple data types.\n",
    "\n",
    "Polymorphism may be used in one of the following ways in an object-oriented language:\n",
    "    Overloading of operators\n",
    "    \n",
    "    Class Polymorphism in Python\n",
    "    \n",
    "    Method overriding, also referred to as Run time Polymorphism\n",
    "    \n",
    "    Method overloading, also known as Compile time Polymorphism"
   ]
  },
  {
   "cell_type": "markdown",
   "id": "6eda4bc2",
   "metadata": {},
   "source": [
    "# 2. Describe the difference between compile-time polymorphism and runtime polymorphism in Python"
   ]
  },
  {
   "cell_type": "markdown",
   "id": "2c7ddbd2",
   "metadata": {},
   "source": [
    "### Runtime Polymorphism\n",
    "\n",
    "Method overloading can be used to describe compile-time polymorphism. Compile-time polymorphism allows us to use many methods with the same name but differing signatures and return types.\n",
    "\n",
    "It is sometimes referred to as dynamic binding, early binding, and overloading.\n",
    "\n",
    "Method overloading is a compile-time polymorphism in which many methods share the same name but have distinct arguments, signatures, and return types.\n",
    "\n",
    "It is accomplished through the use of function and operator overloading.\n",
    "\n",
    "It delivers quick execution since the method is known early in the compilation process.  \n",
    "\n",
    "Because everything runs at build time, compile time polymorphism is much less versatile.\n",
    "\n",
    "There is no inheritance involved.  \n",
    "\n",
    "### Compile-time Polymorphism\n",
    "\n",
    "Method overriding can be used to demonstrate run-time polymorphism. Run-time polymorphism is associated with different classes, but it allows us to use the same method with different signature names.\n",
    "\n",
    "It is sometimes referred to as dynamic binding, Late binding, and overriding.\n",
    "\n",
    "Method overriding is a runtime polymorphism in which the same method with the same arguments or signature is associated with several classes.\n",
    "\n",
    "It is accomplished via virtual functions & pointers.\n",
    "\n",
    "It delivers slower execution than early binding since the method to be invoked is known at runtime.\n",
    "\n",
    "Because everything happens at run time, run time polymorphism is much more versatile.\n",
    "\n",
    "Inheritance is a factor.\n",
    " "
   ]
  },
  {
   "cell_type": "markdown",
   "id": "ec336bf8",
   "metadata": {},
   "source": [
    "# 3. Create a Python class hierarchy for shapes (e.g., circle, square, triangle) and demonstrate polymorphism  through a common method, such as `calculate_area()`."
   ]
  },
  {
   "cell_type": "code",
   "execution_count": 5,
   "id": "ea55a1cb",
   "metadata": {},
   "outputs": [
    {
     "name": "stdout",
     "output_type": "stream",
     "text": [
      "78.53981633974483\n",
      "100\n",
      "24.0\n"
     ]
    }
   ],
   "source": [
    "import math\n",
    "\n",
    "class Shape:\n",
    "    def __init__(self):\n",
    "        pass\n",
    "\n",
    "    def calculate_area(self):\n",
    "        raise NotImplementedError(\"Subclasses must implement this method.\")\n",
    "\n",
    "class Circle(Shape):\n",
    "    def __init__(self, radius):\n",
    "        self.radius = radius\n",
    "\n",
    "    def calculate_area(self):\n",
    "        return math.pi * self.radius ** 2\n",
    "\n",
    "class Square(Shape):\n",
    "    def __init__(self, side_length):\n",
    "        self.side_length = side_length\n",
    "\n",
    "    def calculate_area(self):\n",
    "        return self.side_length ** 2\n",
    "\n",
    "class Triangle(Shape):\n",
    "    def __init__(self, base, height):\n",
    "        self.base = base\n",
    "        self.height = height\n",
    "\n",
    "    def calculate_area(self):\n",
    "        return 0.5 * self.base * self.height\n",
    "\n",
    "# Example usage:\n",
    "\n",
    "circle = Circle(5)\n",
    "square = Square(10)\n",
    "triangle = Triangle(6, 8)\n",
    "\n",
    "print(circle.calculate_area())  # 78.53981633974483\n",
    "print(square.calculate_area())  # 100\n",
    "print(triangle.calculate_area())  # 24"
   ]
  },
  {
   "cell_type": "markdown",
   "id": "982d6f4d",
   "metadata": {},
   "source": [
    "This is just a simple example, and you can add more shapes to the class hierarchy as needed. You can also add additional methods to the Shape class, such as a method to calculate the perimeter of a shape."
   ]
  },
  {
   "cell_type": "markdown",
   "id": "430e75b8",
   "metadata": {},
   "source": [
    "# 4. Explain the concept of method overriding in polymorphism. Provide an example."
   ]
  },
  {
   "cell_type": "markdown",
   "id": "a44671a7",
   "metadata": {},
   "source": [
    "In Python, child classes, like other programming languages, inherit methods and attributes from the parent class.\n",
    " \n",
    "Method Overriding is the process of redefining certain methods and attributes to fit the child class.\n",
    "\n",
    "This is especially handy when the method inherited from the parent class does not exactly fit the child class. \n",
    "\n",
    "In such circumstances, the method is re-implemented in the child class. \n",
    "\n",
    "Method Overriding refers to the technique of re-implementing a method in a child class."
   ]
  },
  {
   "cell_type": "code",
   "execution_count": 1,
   "id": "551a3587",
   "metadata": {},
   "outputs": [
    {
     "name": "stdout",
     "output_type": "stream",
     "text": [
      "Fido barks.\n",
      "Felix meows.\n"
     ]
    }
   ],
   "source": [
    "class Animal:\n",
    "    def __init__(self, name):\n",
    "        self.name = name\n",
    "\n",
    "    def speak(self):\n",
    "        print(f\"{self.name} makes a sound.\")\n",
    "\n",
    "\n",
    "class Dog(Animal):\n",
    "    def speak(self):\n",
    "        print(f\"{self.name} barks.\")\n",
    "\n",
    "\n",
    "class Cat(Animal):\n",
    "    def speak(self):\n",
    "        print(f\"{self.name} meows.\")\n",
    "\n",
    "\n",
    "# Create an instance of each class\n",
    "dog = Dog(\"Fido\")\n",
    "cat = Cat(\"Felix\")\n",
    "\n",
    "# Call the speak() method on each instance\n",
    "dog.speak()\n",
    "cat.speak()"
   ]
  },
  {
   "cell_type": "markdown",
   "id": "ce66082b",
   "metadata": {},
   "source": [
    "# 5. How is polymorphism different from method overloading in Python? Provide examples for both."
   ]
  },
  {
   "cell_type": "markdown",
   "id": "ebcce415",
   "metadata": {},
   "source": [
    "he main differences are that: -Overriding replaces superclass functionality entirely using an identical method name and parameters and should be annotated.\n",
    "\n",
    "-Overloading is when you take an existing method and essentially define it again, but using different parameters which Java sees an a completely different method.\n",
    "\n",
    "-Polymorphism is when you extend the base functionality of a superclass. You give some base functionality to the child classes and then the child classes can develop their own behaviors."
   ]
  },
  {
   "cell_type": "markdown",
   "id": "7b1ee112",
   "metadata": {},
   "source": [
    "# 6. Create a Python class called `Animal` with a method `speak()`. Then, create child classes like `Dog`, `Cat`, and `Bird`, each with their own `speak()` method. Demonstrate polymorphism by calling the `speak()` methodon objects of different subclasses."
   ]
  },
  {
   "cell_type": "code",
   "execution_count": 4,
   "id": "4128496c",
   "metadata": {},
   "outputs": [
    {
     "name": "stdout",
     "output_type": "stream",
     "text": [
      "Fido barks.\n",
      "Felix meows.\n"
     ]
    }
   ],
   "source": [
    "class Animal:\n",
    "    def __init__(self, name):\n",
    "        self.name = name\n",
    "\n",
    "    def speak(self):\n",
    "        print(f\"{self.name} makes a sound.\")\n",
    "\n",
    "\n",
    "class Dog(Animal):\n",
    "    def speak(self):\n",
    "        print(f\"{self.name} barks.\")\n",
    "\n",
    "\n",
    "class Cat(Animal):\n",
    "    def speak(self):\n",
    "        print(f\"{self.name} meows.\")\n",
    "\n",
    "\n",
    "# Create an instance of each class\n",
    "dog = Dog(\"Fido\")\n",
    "cat = Cat(\"Felix\")\n",
    "\n",
    "# Call the speak() method on each instance\n",
    "dog.speak()\n",
    "cat.speak()"
   ]
  },
  {
   "cell_type": "markdown",
   "id": "3460671e",
   "metadata": {},
   "source": [
    "In this Solution, the speak() method is overridden in the Dog and Cat classes.\n",
    "When we call the speak() method on an instance of the Dog class, the Dog class's implementation of the speak() method is called. \n",
    "\n",
    "When we call the speak() method on an instance of the Cat class, the Cat class's implementation of the speak() method is called.\n",
    "\n",
    "Method overriding is a powerful technique that allows us to customize the behavior of inherited methods.\n",
    "\n",
    "It is one of the key \n",
    "features of polymorphism, which is the ability of objects to take on different forms."
   ]
  },
  {
   "cell_type": "markdown",
   "id": "3e4d3992",
   "metadata": {},
   "source": [
    "# 7. Discuss the use of abstract methods and classes in achieving polymorphism in Python. Provide an exampleusing the `abc` module."
   ]
  },
  {
   "cell_type": "markdown",
   "id": "5892cad5",
   "metadata": {},
   "source": [
    "Polymorphism is a programming concept that allows objects of different types to share the same interface. This means that you can write code that can work with objects of different classes as long as they implement the same abstract methods. This promotes code reuse and flexibility.\n",
    "\n",
    "Abstract classes and methods are used to achieve polymorphism in Python. An abstract class is a class that cannot be instantiated directly. It can only be used as a base class for other classes. Abstract methods are methods that are declared in an abstract class but are not implemented. Subclasses of the abstract class must implement the abstract methods.\n",
    "Here is an example of an abstract class and a subclass that implements the abstract method:"
   ]
  },
  {
   "cell_type": "code",
   "execution_count": 7,
   "id": "c848d8b6",
   "metadata": {},
   "outputs": [
    {
     "name": "stdout",
     "output_type": "stream",
     "text": [
      "78.53981633974483\n"
     ]
    }
   ],
   "source": [
    "import math\n",
    "from abc import ABC, abstractmethod\n",
    "\n",
    "class Shape(ABC):\n",
    "    @abstractmethod\n",
    "    def area(self):\n",
    "        pass\n",
    "\n",
    "class Circle(Shape):\n",
    "    def __init__(self, radius):\n",
    "        self.radius = radius\n",
    "\n",
    "    def area(self):\n",
    "        return math.pi * self.radius ** 2\n",
    "\n",
    "circle = Circle(5)\n",
    "print(circle.area())"
   ]
  },
  {
   "cell_type": "markdown",
   "id": "c4c639c8",
   "metadata": {},
   "source": [
    "# 8. Create a Python class hierarchy for a vehicle system (e.g., car, bicycle, boat) and implement a polymorphic `start()` method that prints a message specific to each vehicle type."
   ]
  },
  {
   "cell_type": "code",
   "execution_count": 19,
   "id": "fbd2fa18",
   "metadata": {},
   "outputs": [
    {
     "name": "stdout",
     "output_type": "stream",
     "text": [
      "Toyota Camry 2020\n",
      "Ford F-150 2021\n",
      "Harley-Davidson Road King 2019\n"
     ]
    }
   ],
   "source": [
    "class Vehicle:\n",
    "    def __init__(self, make, model, year):\n",
    "        self.make = make\n",
    "        self.model = model\n",
    "        self.year = year\n",
    "\n",
    "    def get_info(self):\n",
    "        return f\"{self.make} {self.model} {self.year}\"\n",
    "\n",
    "class Car(Vehicle):\n",
    "    def __init__(self, make, model, year, doors):\n",
    "        super().__init__(make, model, year)\n",
    "        self.doors = doors\n",
    "\n",
    "class Truck(Vehicle):\n",
    "    def __init__(self, make, model, year, bed_length):\n",
    "        super().__init__(make, model, year)\n",
    "        self.bed_length = bed_length\n",
    "\n",
    "class Motorcycle(Vehicle):\n",
    "    def __init__(self, make, model, year, engine_size):\n",
    "        super().__init__(make, model, year)\n",
    "        self.engine_size = engine_size\n",
    "\n",
    "# Example usage:\n",
    "\n",
    "car = Car(\"Toyota\", \"Camry\", 2020, 4)\n",
    "truck = Truck(\"Ford\", \"F-150\", 2021, 8)\n",
    "motorcycle = Motorcycle(\"Harley-Davidson\", \"Road King\", 2019, 107)\n",
    "\n",
    "print(car.get_info())\n",
    "print(truck.get_info())\n",
    "print(motorcycle.get_info())"
   ]
  },
  {
   "cell_type": "markdown",
   "id": "dd8f69ab",
   "metadata": {},
   "source": [
    "Here is an solution of a Python class hierarchy for a vehicle system\n",
    "\n",
    "This is just a simple example, of course. You could add more classes to the hierarchy, such as Bus, Van, SUV, etc., and add more attributes and methods to each class."
   ]
  },
  {
   "cell_type": "markdown",
   "id": "601f7c61",
   "metadata": {},
   "source": [
    "# 9. Explain the significance of the `isinstance()` and `issubclass()` functions in Python polymorphism."
   ]
  },
  {
   "cell_type": "markdown",
   "id": "e5b673af",
   "metadata": {},
   "source": [
    "The isinstance() and issubclass() functions are both used to check the type of an object in Python. However, there is a subtle difference between the two functions.\n",
    "The isinstance() function checks if an object is an instance of a particular class. \n",
    "\n",
    "This is because my_object is an instance of the MyClass class.\n",
    "The issubclass() function, on the other hand, checks if a class is a subclass of another class."
   ]
  },
  {
   "cell_type": "markdown",
   "id": "01aeca13",
   "metadata": {},
   "source": [
    "# 10. What is the role of the `@abstractmethod` decorator in achieving polymorphism in Python? Provide an example."
   ]
  },
  {
   "cell_type": "markdown",
   "id": "d2eef6c6",
   "metadata": {},
   "source": [
    "The @abstractmethod decorator in Python is used to declare abstract methods in an abstract base class.\n",
    "\n",
    "An abstract method is a method that has no implementation in the abstract base class and must be implemented in any subclass of the abstract base class.\n",
    "\n",
    "The @abstractmethod decorator plays an important role in achieving polymorphism in Python. \n",
    "\n",
    "Polymorphism is the ability of objects of different types to respond to the same message in different ways.\n",
    "\n",
    "This is achieved by implementing the same method in different subclasses of an abstract base class, each subclass providing its own implementation of the method.\n",
    "\n",
    "The @abstractmethod decorator ensures that all subclasses of an abstract base class implement the abstract methods of the base class.\n",
    "\n",
    "This helps to prevent errors and ensures that all subclasses of the base class can be used interchangeably.\n",
    "\n",
    "Here is an example of how to use the @abstractmethod decorator to achieve polymorphism in Python:"
   ]
  },
  {
   "cell_type": "code",
   "execution_count": 20,
   "id": "3fe2b3a9",
   "metadata": {},
   "outputs": [
    {
     "name": "stdout",
     "output_type": "stream",
     "text": [
      "Woof!\n",
      "Meow!\n"
     ]
    }
   ],
   "source": [
    "from abc import ABC, abstractmethod\n",
    "\n",
    "class Animal(ABC):\n",
    "    @abstractmethod\n",
    "    def speak(self):\n",
    "        pass\n",
    "\n",
    "class Dog(Animal):\n",
    "    def speak(self):\n",
    "        print(\"Woof!\")\n",
    "\n",
    "class Cat(Animal):\n",
    "    def speak(self):\n",
    "        print(\"Meow!\")\n",
    "\n",
    "# Create an instance of the Dog class\n",
    "dog = Dog()\n",
    "\n",
    "# Call the speak() method on the dog object\n",
    "dog.speak()\n",
    "\n",
    "# Create an instance of the Cat class\n",
    "cat = Cat()\n",
    "\n",
    "# Call the speak() method on the cat object\n",
    "cat.speak()"
   ]
  },
  {
   "cell_type": "markdown",
   "id": "fbdb5a7a",
   "metadata": {},
   "source": [
    "# 11. Create a Python class called `Shape` with a polymorphic method `area()` that calculates the area of different shapes (e.g., circle, rectangle, triangle)."
   ]
  },
  {
   "cell_type": "code",
   "execution_count": 21,
   "id": "677f9740",
   "metadata": {},
   "outputs": [
    {
     "name": "stdout",
     "output_type": "stream",
     "text": [
      "78.53981633974483\n",
      "50\n",
      "25.0\n"
     ]
    }
   ],
   "source": [
    "class Shape:\n",
    "    def __init__(self, name):\n",
    "        self.name = name\n",
    "\n",
    "    def calculate_area(self):\n",
    "        pass\n",
    "\n",
    "class Circle(Shape):\n",
    "    def __init__(self, radius):\n",
    "        super().__init__(\"Circle\")\n",
    "        self.radius = radius\n",
    "\n",
    "    def calculate_area(self):\n",
    "        return math.pi * self.radius ** 2\n",
    "\n",
    "class Rectangle(Shape):\n",
    "    def __init__(self, length, width):\n",
    "        super().__init__(\"Rectangle\")\n",
    "        self.length = length\n",
    "        self.width = width\n",
    "\n",
    "    def calculate_area(self):\n",
    "        return self.length * self.width\n",
    "\n",
    "class Triangle(Shape):\n",
    "    def __init__(self, base, height):\n",
    "        super().__init__(\"Triangle\")\n",
    "        self.base = base\n",
    "        self.height = height\n",
    "\n",
    "    def calculate_area(self):\n",
    "        return 0.5 * self.base * self.height\n",
    "\n",
    "# Example usage:\n",
    "\n",
    "circle = Circle(5)\n",
    "print(circle.calculate_area())  # Output: 78.53981633974483\n",
    "\n",
    "rectangle = Rectangle(10, 5)\n",
    "print(rectangle.calculate_area())  # Output: 50\n",
    "\n",
    "triangle = Triangle(10, 5)\n",
    "print(triangle.calculate_area())  # Output: 25"
   ]
  },
  {
   "cell_type": "markdown",
   "id": "9734290a",
   "metadata": {},
   "source": [
    "This is just a simple example, and you can add more shapes to the class hierarchy as needed. You can also add additional methods to the Shape class, such as a method to calculate the perimeter of a shape."
   ]
  },
  {
   "cell_type": "markdown",
   "id": "2370853c",
   "metadata": {},
   "source": [
    "# 12. Discuss the benefits of polymorphism in terms of code reusability and flexibility in Python programs."
   ]
  },
  {
   "cell_type": "markdown",
   "id": "ed66bf3f",
   "metadata": {},
   "source": [
    "It permits for the execution of dynamic dispatch and the implementation of interfaces.\n",
    "\n",
    "It reduces the number of lines of code and makes it simpler to maintain.\n",
    "\n",
    "It permits for the execution of more generic algorithms.\n",
    "\n",
    "It permits the execution of more adaptable programs."
   ]
  },
  {
   "cell_type": "markdown",
   "id": "3aa20f3d",
   "metadata": {},
   "source": [
    "# 13. Explain the use of the `super()` function in Python polymorphism. How does it help call methods of parent classes?"
   ]
  },
  {
   "cell_type": "markdown",
   "id": "7e94a346",
   "metadata": {},
   "source": [
    "The super() function is a built-in function in Python that provides a convenient way to access and delegate methods and attributes of parent classes. When used, it allows one class to access the methods and properties of another class in the same hierarchy. It is commonly used to avoid redundant code and make it more organized and easier to maintain.\n",
    "\n",
    "When using the Python super() function, you must include the self-argument in your method. This tells Python that you are referring to the current class, not another class in the hierarchy. See the example below:"
   ]
  },
  {
   "cell_type": "code",
   "execution_count": 28,
   "id": "23a8797e",
   "metadata": {},
   "outputs": [],
   "source": [
    "class ParentClass():\n",
    "\n",
    "    def __init__(self):\n",
    "        \n",
    "        self.name = \"ParentClass\"\n",
    "\n",
    "class ChildClass(ParentClass):\n",
    "\n",
    "    def __init__(self):\n",
    "        \n",
    "        super().__init__()\n",
    "        \n",
    "        self.name = \"ChildClass\"\n",
    "\n"
   ]
  },
  {
   "cell_type": "markdown",
   "id": "5b5e01af",
   "metadata": {},
   "source": [
    "# 14. Create a Python class hierarchy for a banking system with various account types (e.g., savings, checking, credit card) and demonstrate polymorphism by implementing a common `withdraw()` method."
   ]
  },
  {
   "cell_type": "code",
   "execution_count": 29,
   "id": "198b7628",
   "metadata": {},
   "outputs": [
    {
     "name": "stdout",
     "output_type": "stream",
     "text": [
      "1575.0\n",
      "200\n"
     ]
    }
   ],
   "source": [
    "class BankAccount:\n",
    "    def __init__(self, name, account_number, balance):\n",
    "        self.name = name\n",
    "        self.account_number = account_number\n",
    "        self.balance = balance\n",
    "\n",
    "    def deposit(self, amount):\n",
    "        self.balance += amount\n",
    "\n",
    "    def withdraw(self, amount):\n",
    "        if self.balance >= amount:\n",
    "            self.balance -= amount\n",
    "        else:\n",
    "            print(\"You don't have enough funds to withdraw.\")\n",
    "\n",
    "    def get_balance(self):\n",
    "        return self.balance\n",
    "\n",
    "class SavingsAccount(BankAccount):\n",
    "    def __init__(self, name, account_number, balance, interest_rate):\n",
    "        super().__init__(name, account_number, balance)\n",
    "        self.interest_rate = interest_rate\n",
    "\n",
    "    def accrue_interest(self):\n",
    "        self.balance += self.balance * self.interest_rate\n",
    "\n",
    "class CheckingAccount(BankAccount):\n",
    "    def __init__(self, name, account_number, balance, overdraft_limit):\n",
    "        super().__init__(name, account_number, balance)\n",
    "        self.overdraft_limit = overdraft_limit\n",
    "\n",
    "    def withdraw(self, amount):\n",
    "        if self.balance >= amount:\n",
    "            self.balance -= amount\n",
    "        elif self.balance + self.overdraft_limit >= amount:\n",
    "            self.balance -= amount\n",
    "            self.overdraft_limit -= amount - self.balance\n",
    "            self.balance = 0\n",
    "        else:\n",
    "            print(\"You don't have enough funds to withdraw.\")\n",
    "\n",
    "# Create a savings account object\n",
    "savings_account = SavingsAccount(\"John Doe\", 1234567890, 1000, 0.05)\n",
    "\n",
    "# Deposit $500 into the savings account\n",
    "savings_account.deposit(500)\n",
    "\n",
    "# Accrue interest on the savings account\n",
    "savings_account.accrue_interest()\n",
    "\n",
    "# Get the balance of the savings account\n",
    "print(savings_account.get_balance())\n",
    "\n",
    "# Create a checking account object\n",
    "checking_account = CheckingAccount(\"Jane Doe\", 9876543210, 500, 100)\n",
    "\n",
    "# Withdraw $300 from the checking account\n",
    "checking_account.withdraw(300)\n",
    "\n",
    "# Get the balance of the checking account\n",
    "print(checking_account.get_balance())"
   ]
  },
  {
   "cell_type": "markdown",
   "id": "2568fa35",
   "metadata": {},
   "source": [
    "In this solution, the BankAccount class is the parent class, and the SavingsAccount and CheckingAccount classes are the child classes. The child classes inherit all of the attributes and methods of the parent class, but they can also have their own unique attributes and methods.\n",
    "\n",
    "For example, the SavingsAccount class has an interest_rate attribute and an accrue_interest() method. The CheckingAccount class has an overdraft_limit attribute and a withdraw() method that overrides the withdraw() method of the parent class.\n",
    "\n",
    "This is just a simple example of how to design a class hierarchy for a bank operation system using inheritance and polymorphism in Python. You can extend this example to include more classes and features, such as a LoanAccount class or a CreditCardAccount class."
   ]
  },
  {
   "cell_type": "markdown",
   "id": "3d7b5b9d",
   "metadata": {},
   "source": [
    "# 15. Describe the concept of operator overloading in Python and how it relates to polymorphism. Provide examples using operators like `+` and `*`."
   ]
  },
  {
   "cell_type": "markdown",
   "id": "6e41e655",
   "metadata": {},
   "source": [
    "Operator overloading in Python is a feature that allows you to change the behavior of built-in operators. This can be useful for creating more expressive and concise code.\n",
    "\n",
    "For example, you could overload the + operator to add two complex numbers together. Or, you could overload the * operator to multiply two matrices together.\n",
    "\n",
    "To overload an operator, you need to define a special method. The name of the method depends on the operator you are overloading.\n",
    "\n",
    "For example, to overload the + operator, you would define the __add__() method.\n",
    "\n",
    "Here is an example of how to overload the + operator to add two complex numbers together:\n"
   ]
  },
  {
   "cell_type": "code",
   "execution_count": 30,
   "id": "4545fb1e",
   "metadata": {},
   "outputs": [
    {
     "name": "stdout",
     "output_type": "stream",
     "text": [
      "4\n",
      "6\n"
     ]
    }
   ],
   "source": [
    "class ComplexNumber:\n",
    "    def __init__(self, real, imag):\n",
    "        self.real = real\n",
    "        self.imag = imag\n",
    "\n",
    "    def __add__(self, other):\n",
    "        return ComplexNumber(self.real + other.real, self.imag + other.imag)\n",
    "\n",
    "a = ComplexNumber(1, 2)\n",
    "b = ComplexNumber(3, 4)\n",
    "\n",
    "c = a + b\n",
    "\n",
    "print(c.real) \n",
    "print(c.imag) "
   ]
  },
  {
   "cell_type": "markdown",
   "id": "dd974471",
   "metadata": {},
   "source": [
    "# 16. What is dynamic polymorphism, and how is it achieved in Python?"
   ]
  },
  {
   "cell_type": "markdown",
   "id": "1cee76e3",
   "metadata": {},
   "source": [
    "Dynamic polymorphism, also known as runtime polymorphism or dynamic method dispatch, is a mechanism in Java that allows a single action to be performed in different ways.\n",
    "\n",
    "It's achieved through method overriding, where an overridden method is called through a reference variable of a superclass.\n",
    "\n",
    "The reference variable determines which method to call based on the object it refers to. \n",
    "\n",
    "Dynamic polymorphism occurs among different classes, as opposed to static polymorphism, which is done during compile-time.\n",
    "\n",
    "Dynamic polymorphism improves readability and maintainability of code by reducing the amount of code that needs to be written and maintained.\n"
   ]
  },
  {
   "cell_type": "markdown",
   "id": "489abe9e",
   "metadata": {},
   "source": [
    "# 17. Create a Python class hierarchy for employees in a company (e.g., manager, developer, designer) and implement polymorphism through a common `calculate_salary()` method."
   ]
  },
  {
   "cell_type": "code",
   "execution_count": 31,
   "id": "63a459ad",
   "metadata": {},
   "outputs": [
    {
     "name": "stdout",
     "output_type": "stream",
     "text": [
      "John Doe 1 100000 Sales ['Jane Doe', 'Bob Smith']\n",
      "Jane Doe 2 90000 Engineering ['Python', 'Java']\n"
     ]
    }
   ],
   "source": [
    "class Employee:\n",
    "    def __init__(self, name, id, salary, department):\n",
    "        self.name = name\n",
    "        self.id = id\n",
    "        self.salary = salary\n",
    "        self.department = department\n",
    "\n",
    "    def get_name(self):\n",
    "        return self.name\n",
    "\n",
    "    def get_id(self):\n",
    "        return self.id\n",
    "\n",
    "    def get_salary(self):\n",
    "        return self.salary\n",
    "\n",
    "    def get_department(self):\n",
    "        return self.department\n",
    "\n",
    "class Manager(Employee):\n",
    "    def __init__(self, name, id, salary, department, team):\n",
    "        super().__init__(name, id, salary, department)\n",
    "        self.team = team\n",
    "\n",
    "    def get_team(self):\n",
    "        return self.team\n",
    "\n",
    "class Engineer(Employee):\n",
    "    def __init__(self, name, id, salary, department, skills):\n",
    "        super().__init__(name, id, salary, department)\n",
    "        self.skills = skills\n",
    "\n",
    "    def get_skills(self):\n",
    "        return self.skills\n",
    "\n",
    "\n",
    "manager = Manager(\"John Doe\", 1, 100000, \"Sales\", [\"Jane Doe\", \"Bob Smith\"])\n",
    "engineer = Engineer(\"Jane Doe\", 2, 90000, \"Engineering\", [\"Python\", \"Java\"])\n",
    "\n",
    " \n",
    "print(manager.get_name(), manager.get_id(), manager.get_salary(), manager.get_department(), manager.get_team())\n",
    "print(engineer.get_name(), engineer.get_id(), engineer.get_salary(), engineer.get_department(), engineer.get_skills())"
   ]
  },
  {
   "cell_type": "markdown",
   "id": "f772dc63",
   "metadata": {},
   "source": [
    "This is just a simple example, and you can add more classes and attributes to the hierarchy as needed. For example, you could add a class for \"Intern\" or \"Salesperson\". You could also add attributes such as \"years of experience\" or \"education level\".\n",
    "\n",
    "Create instances of the classes Print the employee details"
   ]
  },
  {
   "cell_type": "markdown",
   "id": "03ab3bc2",
   "metadata": {},
   "source": [
    "# 18. Discuss the concept of function pointers and how they can be used to achieve polymorphism in Python."
   ]
  },
  {
   "cell_type": "markdown",
   "id": "86a12d96",
   "metadata": {},
   "source": [
    "Function pointers are a way to store the address of a function in memory. This allows you to call a function without knowing its name at compile time. Function pointers are often used in callback functions, where a function is passed as an argument to another function and is called later.\n",
    "\n",
    "In Python, functions are first-class objects, which means that they can be assigned to variables, passed as arguments to other functions, and returned from functions. This makes it possible to use function pointers in Python.\n",
    "\n",
    "To use a function pointer in Python, you first need to declare a variable of the appropriate type. The type of a function pointer is determined by the signature of the function it points to. "
   ]
  },
  {
   "cell_type": "markdown",
   "id": "ba109ec3",
   "metadata": {},
   "source": [
    "# 19. Explain the role of interfaces and abstract classes in polymorphism, drawing comparisons between them"
   ]
  },
  {
   "cell_type": "markdown",
   "id": "1aa5bcd1",
   "metadata": {},
   "source": [
    "Interfaces are a collection of operations that are used to specify a service of a class or a component. Interfaces formalize polymorphism and allow us to define polymorphism in a declarative way, unrelated to implementation. Interfaces are similar to abstract classes that have all abstract methods. However, you can only define methods inside the parent class with interfaces, and you can't implement methods or define variables inside the interface. Interfaces are an excellent choice when a class needs to inherit behavior from multiple sources. \n",
    "\n",
    "Abstract classes can have a mix of defined methods and abstract methods. Any class that contains an abstract method is automatically abstract. Abstract methods are used to ensure that a subclass implements the method. If a subclass fails to override an abstract method, a compiler error will result. \n"
   ]
  },
  {
   "cell_type": "markdown",
   "id": "381614e5",
   "metadata": {},
   "source": [
    "# 20. Create a Python class for a zoo simulation, demonstrating polymorphism with different animal types (e.g., mammals, birds, reptiles) and their behavior (e.g., eating, sleeping, making sounds)."
   ]
  },
  {
   "cell_type": "code",
   "execution_count": 32,
   "id": "93644758",
   "metadata": {},
   "outputs": [
    {
     "name": "stdout",
     "output_type": "stream",
     "text": [
      "Leo is eating.\n",
      "Ellie is eating.\n",
      "Polly is eating.\n",
      "Leo is cleaning its enclosure.\n",
      "Ellie is cleaning its enclosure.\n",
      "Polly is cleaning its enclosure.\n",
      "The zoo is now open!\n",
      "The zoo is now closed.\n"
     ]
    }
   ],
   "source": [
    "class Zoo:\n",
    "    def __init__(self, name):\n",
    "        self.name = name\n",
    "        self.animals = []\n",
    "\n",
    "    def add_animal(self, animal):\n",
    "        self.animals.append(animal)\n",
    "\n",
    "    def remove_animal(self, animal):\n",
    "        self.animals.remove(animal)\n",
    "\n",
    "    def get_animals(self):\n",
    "        return self.animals\n",
    "\n",
    "    def feed_animals(self):\n",
    "        for animal in self.animals:\n",
    "            animal.eat()\n",
    "\n",
    "    def clean_enclosures(self):\n",
    "        for animal in self.animals:\n",
    "            animal.clean_enclosure()\n",
    "\n",
    "    def open_zoo(self):\n",
    "        print(\"The zoo is now open!\")\n",
    "\n",
    "    def close_zoo(self):\n",
    "        print(\"The zoo is now closed.\")\n",
    "\n",
    "class Animal:\n",
    "    def __init__(self, name, species):\n",
    "        self.name = name\n",
    "        self.species = species\n",
    "\n",
    "    def eat(self):\n",
    "        print(f\"{self.name} is eating.\")\n",
    "\n",
    "    def clean_enclosure(self):\n",
    "        print(f\"{self.name} is cleaning its enclosure.\")\n",
    "\n",
    "    def make_sound(self):\n",
    "        print(f\"{self.name} is making a sound.\")\n",
    "\n",
    "# Create a zoo\n",
    "zoo = Zoo(\"Central Park Zoo\")\n",
    "\n",
    "# Add some animals to the zoo\n",
    "zoo.add_animal(Animal(\"Leo\", \"lion\"))\n",
    "zoo.add_animal(Animal(\"Ellie\", \"elephant\"))\n",
    "zoo.add_animal(Animal(\"Polly\", \"parrot\"))\n",
    "\n",
    "# Feed the animals\n",
    "zoo.feed_animals()\n",
    "\n",
    "# Clean the enclosures\n",
    "zoo.clean_enclosures()\n",
    "\n",
    "# Open the zoo\n",
    "zoo.open_zoo()\n",
    "\n",
    "# Close the zoo\n",
    "zoo.close_zoo()"
   ]
  },
  {
   "cell_type": "markdown",
   "id": "5feca7fd",
   "metadata": {},
   "source": [
    "Create a class zoo and define multiple function\n",
    " \n",
    "Add some animals to the zoo\n",
    "\n",
    "Feed the animals\n",
    "\n",
    "Clean the enclosures\n",
    "\n",
    "Open the zoo and Close the zoo\n",
    "\n",
    "This is just a basic example, of course.\n",
    "\n",
    "You could add more features to the zoo class, such as the ability to add and remove enclosures, or to track the number of visitors to the zoo. \n",
    "\n",
    "You could also add more features to the animal class, such as the ability to track the animal's age, weight, and health."
   ]
  }
 ],
 "metadata": {
  "kernelspec": {
   "display_name": "Python 3 (ipykernel)",
   "language": "python",
   "name": "python3"
  },
  "language_info": {
   "codemirror_mode": {
    "name": "ipython",
    "version": 3
   },
   "file_extension": ".py",
   "mimetype": "text/x-python",
   "name": "python",
   "nbconvert_exporter": "python",
   "pygments_lexer": "ipython3",
   "version": "3.11.5"
  }
 },
 "nbformat": 4,
 "nbformat_minor": 5
}
