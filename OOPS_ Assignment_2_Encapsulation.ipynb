{
 "cells": [
  {
   "cell_type": "markdown",
   "id": "8b0fe29b",
   "metadata": {},
   "source": [
    "# OOPS Assignment"
   ]
  },
  {
   "cell_type": "markdown",
   "id": "4543bc35",
   "metadata": {},
   "source": [
    "# Encapsulation:"
   ]
  },
  {
   "cell_type": "markdown",
   "id": "d1ddac5a",
   "metadata": {},
   "source": [
    "# 1. Explain the concept of encapsulation in Python. What is its role in object-oriented programming?"
   ]
  },
  {
   "cell_type": "markdown",
   "id": "cdd8996b",
   "metadata": {},
   "source": [
    "Encapsulation is a way to restrict the direct access to some components of an object, so users cannot access state values for all of the variables of a particular object. \n",
    "\n",
    "Encapsulation can be used to hide both data members and data functions or methods associated with an instantiated class or object.\n",
    "\n",
    "Encapsulation has several benefits:\n",
    "    \n",
    "    It protects the data from being accidentally or maliciously modified.\n",
    "    \n",
    "    It makes the code more readable and maintainable.\n",
    "    \n",
    "    It allows for greater flexibility and reuse of code."
   ]
  },
  {
   "cell_type": "markdown",
   "id": "e2a62f5b",
   "metadata": {},
   "source": [
    "# 2. Describe the key principles of encapsulation, including access control and data hiding."
   ]
  },
  {
   "cell_type": "markdown",
   "id": "baa1a236",
   "metadata": {},
   "source": [
    " Encapsulation is one of the fundamentals of OOP (object-oriented programming). \n",
    " \n",
    " It refers to the bundling of data with the methods that operate on that data.\n",
    " \n",
    " Encapsulation is used to hide the values or state of a structured data object inside a class, preventing unauthorized parties' direct access to them."
   ]
  },
  {
   "cell_type": "markdown",
   "id": "ac7ca017",
   "metadata": {},
   "source": [
    "# 3. How can you achieve encapsulation in Python classes? Provide an example."
   ]
  },
  {
   "cell_type": "code",
   "execution_count": 7,
   "id": "c1527748",
   "metadata": {},
   "outputs": [
    {
     "name": "stdout",
     "output_type": "stream",
     "text": [
      "Name: Rajaram marks: 25\n",
      "Name: Bharat marks: 25\n"
     ]
    }
   ],
   "source": [
    "class Student:\n",
    "   def __init__(self, name=\"Rajaram\", marks=50):\n",
    "      self.name = name\n",
    "      self.marks = marks\n",
    "\n",
    "s1 = Student()\n",
    "s2 = Student(\"Bharat\", 25)\n",
    "\n",
    "print (\"Name: {} marks: {}\".format(s1.name, s2.marks))\n",
    "print (\"Name: {} marks: {}\".format(s2.name, s2.marks))"
   ]
  },
  {
   "cell_type": "markdown",
   "id": "1ea2bdcd",
   "metadata": {},
   "source": [
    "In the above example, the instance variables are initialized inside the class. However, there is no restriction on accessing the value of instance variable from outside the class, which is against the principle of encapsulation.\n",
    "\n",
    "Although there are no keywords to enforce visibility, Python has a convention of naming the instance variables in a peculiar way. In Python, prefixing name of variable/method with single or double underscore to emulate behavior of protected and private access modifiers.\n",
    "\n",
    "If a variable is prefixed by a single double underscore (such as \"__age\"), the instance variable is private, similarly if a variable name is prefixed it with single underscore (such as \"_salary\")"
   ]
  },
  {
   "cell_type": "markdown",
   "id": "5914c56c",
   "metadata": {},
   "source": [
    "# 4. Discuss the difference between public, private, and protected access modifiers in Python."
   ]
  },
  {
   "cell_type": "markdown",
   "id": "4a58e68c",
   "metadata": {},
   "source": [
    "Encapsulation is implemented using access modifiers, which determine the visibility and accessibility of a class's members (attributes and methods) in Python. \n",
    "\n",
    "The three access modifiers are as follows:\n",
    "\n",
    "Public (public): \n",
    "    \n",
    "    Public members are accessible anywhere within and outside the class. By default, all members are public unless explicitly marked as private.\n",
    "\n",
    "Protected (protected): \n",
    "    \n",
    "    Protected members can be accessed within the class and its subclasses. You can designate a member as protected by prefixing its name with an underscore (_).\n",
    "\n",
    "Private (private): \n",
    "    \n",
    "    Private members are exclusively accessible within the class. To mark a member as private, prefix its name with double underscores (__)."
   ]
  },
  {
   "cell_type": "markdown",
   "id": "c46b3009",
   "metadata": {},
   "source": [
    "# 5. Create a Python class called `Person` with a private attribute `__name`. Provide methods to get and set the name attribute."
   ]
  },
  {
   "cell_type": "code",
   "execution_count": 8,
   "id": "9ee56a27",
   "metadata": {},
   "outputs": [
    {
     "name": "stdout",
     "output_type": "stream",
     "text": [
      "Virat Kohli\n",
      "Anushka Sharma\n"
     ]
    }
   ],
   "source": [
    "class Person:\n",
    "    def __init__(self, name):\n",
    "        self.__name = name\n",
    "\n",
    "    def get_name(self):\n",
    "        return self.__name\n",
    "\n",
    "    def set_name(self, name):\n",
    "        self.__name = name\n",
    "\n",
    "        \n",
    "person = Person(\"Virat Kohli\")\n",
    "\n",
    "print(person.get_name()) \n",
    "\n",
    "person.set_name(\"Anushka Sharma\")\n",
    "\n",
    "print(person.get_name()) "
   ]
  },
  {
   "cell_type": "markdown",
   "id": "e34fcfa8",
   "metadata": {},
   "source": [
    "The __name attribute is private, which means that it can only be accessed by methods within the Person class.\n",
    "\n",
    "To get or set the value of the __name attribute, we need to use the get_name() and set_name() methods, respectively.\n",
    "\n",
    "Finally create an example of how to use the Person class."
   ]
  },
  {
   "cell_type": "markdown",
   "id": "eebca545",
   "metadata": {},
   "source": [
    "# 6. Explain the purpose of getter and setter methods in encapsulation. Provide examples."
   ]
  },
  {
   "cell_type": "markdown",
   "id": "66b68956",
   "metadata": {},
   "source": [
    "Getters and setters in Python are different from those in other OOPs languages.\n",
    "\n",
    "The primary use of getters and setters is to ensure data encapsulation in object-oriented programs.\n",
    "\n",
    "In contrast to other object-oriented languages, private variables in Python are not hidden fields."
   ]
  },
  {
   "cell_type": "code",
   "execution_count": 9,
   "id": "eecb2af5",
   "metadata": {},
   "outputs": [
    {
     "name": "stdout",
     "output_type": "stream",
     "text": [
      "0\n",
      "2019\n"
     ]
    }
   ],
   "source": [
    "class year_graduated:\n",
    "    def __init__(self, year=0):\n",
    "        self._year = year\n",
    "    def get_year(self):\n",
    "        return self._year\n",
    "    # setter method\n",
    "    def set_year(self, a):\n",
    "        self._year = a\n",
    "\n",
    "grad_obj = year_graduated()\n",
    "# Before using setter\n",
    "print(grad_obj.get_year())\n",
    "\n",
    "# After using setter\n",
    "grad_obj.set_year(2019)\n",
    "print(grad_obj._year)"
   ]
  },
  {
   "cell_type": "markdown",
   "id": "16d09de1",
   "metadata": {},
   "source": [
    "# 7. What is name mangling in Python, and how does it affect encapsulation?"
   ]
  },
  {
   "cell_type": "markdown",
   "id": "c407d939",
   "metadata": {},
   "source": [
    "Name Mangling is nothing but the mechanism, by which any identifiers with 2 leading underscores ( like __age) are textually replaced with classname_age.\n",
    "\n",
    "Sometimes, mangling can be considered a way to implement private members in python. In the above example, we have seen that AttributeError is raised, when we are trying to access the mangled variables outside the class however inside the class the variables are referenced with the same name. But there is a catch, we can access these private member by referencing the attributes with the mangled name.\n",
    "\n",
    "  print(obj._Parent__age)"
   ]
  },
  {
   "cell_type": "markdown",
   "id": "bca66e12",
   "metadata": {},
   "source": [
    "# 8. Create a Python class called `BankAccount` with private attributes for the account balance (`__balance`)"
   ]
  },
  {
   "cell_type": "code",
   "execution_count": 10,
   "id": "3b1e7e0f",
   "metadata": {},
   "outputs": [
    {
     "name": "stdout",
     "output_type": "stream",
     "text": [
      "1000\n",
      "1500\n",
      "1200\n"
     ]
    }
   ],
   "source": [
    "class BankAccount:\n",
    "    def __init__(self, account_number, balance):\n",
    "        self.__account_number = account_number\n",
    "        self.__balance = balance\n",
    "\n",
    "    def get_balance(self):\n",
    "        return self.__balance\n",
    "\n",
    "    def deposit(self, amount):\n",
    "        self.__balance += amount\n",
    "\n",
    "    def withdraw(self, amount):\n",
    "        if amount <= self.__balance:\n",
    "            self.__balance -= amount\n",
    "        else:\n",
    "            print(\"Insufficient funds\")\n",
    "\n",
    "            \n",
    "my_account = BankAccount(1234567890, 1000)\n",
    "\n",
    "# Get the current balance\n",
    "balance = my_account.get_balance()\n",
    "print(balance)\n",
    "\n",
    "# Deposit $500\n",
    "my_account.deposit(500)\n",
    "\n",
    "# Get the new balance\n",
    "balance = my_account.get_balance()\n",
    "print(balance)\n",
    "\n",
    "# Withdraw $300\n",
    "my_account.withdraw(300)\n",
    "\n",
    "# Get the new balance\n",
    "balance = my_account.get_balance()\n",
    "print(balance)"
   ]
  },
  {
   "cell_type": "markdown",
   "id": "ce74bd7e",
   "metadata": {},
   "source": [
    "In this class, the __account_number and __balance attributes are private, which means that they can only be accessed by methods within the class. \n",
    "\n",
    "This is done by prefixing the attribute names with two underscores.\n",
    "\n",
    "The get_balance() method allows users to get the current balance of their account.\n",
    "\n",
    "The deposit() and withdraw() methods allow users to deposit and withdraw money from their account, respectively.\n",
    "\n",
    "Finally there  is an example of how to use the BankAccount class:\n"
   ]
  },
  {
   "cell_type": "markdown",
   "id": "46c7c47e",
   "metadata": {},
   "source": [
    "# 9. Discuss the advantages of encapsulation in terms of code maintainability and security."
   ]
  },
  {
   "cell_type": "markdown",
   "id": "97d0f18d",
   "metadata": {},
   "source": [
    "Encapsulation has many advantages, including:\n",
    "    \n",
    "Data protection: Encapsulation can help increase data security and privacy from unauthorized access.\n",
    "\n",
    "Flexibility: Encapsulation allows you to make variables read-only or write-only depending on your requirements.\n",
    "\n",
    "Reusability: Encapsulation makes certain elements available for reuse by other classes or modules without needing any modifications.\n",
    "\n",
    "Easy testing: Encapsulated code is easy to test for unit testing.\n",
    "\n",
    "Easier to understand: Encapsulation removes the internal details and complexities from the user's view.\n",
    "\n",
    "Easier maintenance: Encapsulation makes code maintenance more manageable because code changes can be independent.\n",
    "\n",
    "Reduced errors: Encapsulation reduces human errors."
   ]
  },
  {
   "cell_type": "markdown",
   "id": "52abe627",
   "metadata": {},
   "source": [
    "# 10. How can you access private attributes in Python? Provide an example demonstrating the use of name mangling."
   ]
  },
  {
   "cell_type": "markdown",
   "id": "e04a8da9",
   "metadata": {},
   "source": [
    "While private methods are not directly accessible from outside the class, Python does provide a way to call them internally. By using the mangled name (e.g., _ClassName__private_method() ), we can invoke private methods within the class."
   ]
  },
  {
   "cell_type": "markdown",
   "id": "1030dce5",
   "metadata": {},
   "source": [
    "# 11. Create a Python class hierarchy for a school system, including classes for students, teachers, and courses,and implement encapsulation principles to protect sensitive information."
   ]
  },
  {
   "cell_type": "code",
   "execution_count": 11,
   "id": "9347f210",
   "metadata": {},
   "outputs": [
    {
     "name": "stdout",
     "output_type": "stream",
     "text": [
      "Alice\n",
      "Math\n",
      "Central Elementary School\n"
     ]
    }
   ],
   "source": [
    "class Person:\n",
    "    def __init__(self, name, age):\n",
    "        self.name = name\n",
    "        self.age = age\n",
    "\n",
    "class Employee(Person):\n",
    "    def __init__(self, name, age, salary):\n",
    "        super().__init__(name, age)\n",
    "        self.__salary = salary\n",
    "\n",
    "class Student(Person):\n",
    "    def __init__(self, name, age, grade):\n",
    "        super().__init__(name, age)\n",
    "        self.__grade = grade\n",
    "\n",
    "class Teacher(Employee):\n",
    "    def __init__(self, name, age, salary, subject):\n",
    "        super().__init__(name, age, salary)\n",
    "        self.subject = subject\n",
    "\n",
    "class Principal(Employee):\n",
    "    def __init__(self, name, age, salary, school_name):\n",
    "        super().__init__(name, age, salary)\n",
    "        self.school_name = school_name\n",
    "\n",
    "# Example usage:\n",
    "\n",
    "student = Student(\"Alice\", 12, 7)\n",
    "teacher = Teacher(\"Bob\", 35, 50000, \"Math\")\n",
    "principal = Principal(\"Carol\", 50, 100000, \"Central Elementary School\")\n",
    "\n",
    "print(student.name) \n",
    "print(teacher.subject) \n",
    "print(principal.school_name) "
   ]
  },
  {
   "cell_type": "markdown",
   "id": "634b4983",
   "metadata": {},
   "source": [
    "This hierarchy is more complex because it includes the Employee class. This class represents all of the people who work at the school, including teachers, principals, and other staff members. The Teacher and Principal classes inherit from the Employee class, which means that they have all of the same attributes and methods as the Employee class, plus any additional attributes and methods that are specific to teachers and principals.\n",
    "\n",
    "You can continue to add more classes to the hierarchy to represent different types of people and things in the school system. For example, you could add a Class class to represent a group of students, or a Curriculum class to represent the subjects that are taught at the school."
   ]
  },
  {
   "cell_type": "markdown",
   "id": "a391461f",
   "metadata": {},
   "source": [
    "# 12. Explain the concept of property decorators in Python and how they relate to encapsulation."
   ]
  },
  {
   "cell_type": "markdown",
   "id": "312bd8a5",
   "metadata": {},
   "source": [
    "Decorators are Python functions that allow you to wrap another function as an input and modify its behavior without altering the wrapped function’s code. They are used to extend the behavior of a particular object, such as a class, method, or function. This approach promotes reusability, modularity, and separation of concerns in your Python programs.\n",
    "\n",
    "Decorators in Python Syntax\n",
    "\n",
    "The syntax for a decorator in Python is quite simple. It starts with the keyword 'def' to define a function, followed by an (@) and the name of the decorator. After that, you can add any arguments needed and then pass your target function as an argument."
   ]
  },
  {
   "cell_type": "markdown",
   "id": "09d9a40c",
   "metadata": {},
   "source": [
    "# 13. What is data hiding, and why is it important in encapsulation? Provide examples."
   ]
  },
  {
   "cell_type": "markdown",
   "id": "eb173160",
   "metadata": {},
   "source": [
    "Data hiding is a part of object-oriented programming, which is generally used to hide the data information from the user. It includes internal object details such as data members, internal working. It maintained the data integrity and restricted access to the class member. The main working of data hiding is that it combines the data and functions into a single unit to conceal data within a class. We cannot directly access the data from outside the class.\n",
    "\n",
    "This process is also known as the data encapsulation. It is done by hiding the working information to user. In the process, we declare class members as private so that no other class can access these data members. It is accessible only within the class."
   ]
  },
  {
   "cell_type": "markdown",
   "id": "aad603d9",
   "metadata": {},
   "source": [
    "# 14. Create a Python class called `Employee` with private attributes for salary (`__salary`) and employee ID (`__employee_id`). Provide a method to calculate yearly bonuses."
   ]
  },
  {
   "cell_type": "code",
   "execution_count": 12,
   "id": "4084f6c5",
   "metadata": {},
   "outputs": [
    {
     "name": "stdout",
     "output_type": "stream",
     "text": [
      "Original Employee Details:\n",
      "\n",
      "Name:  Vikas\n",
      "ID:  E7876\n",
      "Salary:  50000\n",
      "Department:  ACCOUNTING\n",
      "Year of Joining:  2019\n",
      " Annual Bonus of Rs : 50000 /-\n",
      "----------------------\n",
      "\n",
      "Name:  Ranjan\n",
      "ID:  E7499\n",
      "Salary:  45000\n",
      "Department:  RESEARCH\n",
      "Year of Joining:  2023\n",
      "No Bonus..\n",
      "----------------------\n",
      "\n",
      "Name:  Nitin\n",
      "ID:  E7900\n",
      "Salary:  50000\n",
      "Department:  SALES\n",
      "Year of Joining:  2017\n",
      " Annual Bonus of Rs : 50000 /-\n",
      "----------------------\n",
      "\n",
      "Name:  Sachin\n",
      "ID:  E7698\n",
      "Salary:  55000\n",
      "Department:  OPERATIONS\n",
      "Year of Joining:  2020\n",
      " Annual Bonus of Rs : 50000 /-\n",
      "----------------------\n"
     ]
    }
   ],
   "source": [
    "class Employee:\n",
    "    def __init__(self, name, emp_id, salary, department,Year_of_joining):\n",
    "        self.name = name\n",
    "        self.__id = emp_id\n",
    "        self.__salary = salary\n",
    "        self.department = department\n",
    "        self.Year_of_joining = Year_of_joining\n",
    "\n",
    "\n",
    "    def print_employee_details(self):\n",
    "        print(\"\\nName: \", self.name)\n",
    "        print(\"ID: \", self.__id)\n",
    "        print(\"Salary: \", self.__salary)\n",
    "        print(\"Department: \", self.department)\n",
    "        print(\"Year of Joining: \", self.Year_of_joining)\n",
    "        diff=2024-self.Year_of_joining\n",
    "        if(diff>=3):\n",
    "            print(\" Annual Bonus of Rs : 50000 /-\")\n",
    "        else:\n",
    "            print(\"No Bonus..\")\n",
    "        print(\"----------------------\")\n",
    "\n",
    "\n",
    "employee1 = Employee(\"Vikas\", \"E7876\", 50000, \"ACCOUNTING\",2019)\n",
    "employee2 = Employee(\"Ranjan\", \"E7499\", 45000, \"RESEARCH\",2023)\n",
    "employee3 = Employee(\"Nitin\", \"E7900\", 50000, \"SALES\",2017)\n",
    "employee4 = Employee(\"Sachin\", \"E7698\", 55000, \"OPERATIONS\",2020)\n",
    "\n",
    "print(\"Original Employee Details:\")\n",
    "employee1.print_employee_details()\n",
    "employee2.print_employee_details()\n",
    "employee3.print_employee_details()\n",
    "employee4.print_employee_details()\n"
   ]
  },
  {
   "cell_type": "markdown",
   "id": "73e270b8",
   "metadata": {},
   "source": [
    "Create a class Employee and by init fuction take and store the basic information like as name, emp_id, salary, department,Year_of_joining\n",
    "\n",
    "Now define a functions print_employee_details to print all the details of the employee by the calling that function.\n",
    "\n",
    "For the bonus part in the same function use conditional statement  for calculating the same.\n",
    "\n",
    "Now in the drivers code first call the class and create an object and by using that object use function declared in the class .\n",
    "\n",
    "Program ends"
   ]
  },
  {
   "cell_type": "markdown",
   "id": "b29d7b4a",
   "metadata": {},
   "source": [
    "# 15. Discuss the use of accessors and mutators in encapsulation. How do they help maintain control over attribute access?"
   ]
  },
  {
   "cell_type": "markdown",
   "id": "5ea83ab3",
   "metadata": {},
   "source": [
    "### Accessor Methods\n",
    "\n",
    "Accessor method is used to access object data. The private variables of the object can be accessed using the accessor methods. The accessor methods are declared public methods which return private member data of an object. The Accessor methods are also called getter methods as they are used to get an object data.\n",
    "\n",
    "In Python the accessor method is defined using @property decorator. When the accessor method is called it returns the private member variable value of the object.\n",
    "\n",
    "### Mutator Method\n",
    "\n",
    "Mutator methods are used to modify an object's private data. Mutator methods are also called setter methods as they are used to set/modify the value of an object private variable. Mutator methods are declared private which modifies the private value of the object variables.\n",
    "\n",
    "In python mutator methods are defined using the @.setter decorator which specifies that the particular method behaves like a setter method. When the mutator method is called it sets the value of the object private variable."
   ]
  },
  {
   "cell_type": "markdown",
   "id": "494cb853",
   "metadata": {},
   "source": [
    "# 16. What are the potential drawbacks or disadvantages of using encapsulation in Python?"
   ]
  },
  {
   "cell_type": "markdown",
   "id": "1375c231",
   "metadata": {},
   "source": [
    "Disadvantages of Encapsulation\n",
    "\n",
    "Complexity: Encapsulation can increase the complexity of the codebase, making it harder for new developers to understand the internal workings of classes.\n",
    "\n",
    "Overhead: It may introduce performance overhead due to getter and setter methods, especially if not properly optimized.\n",
    "Tight Coupling: Can lead to tightly coupled code if not carefully designed, making modifications and maintenance challenging.\n",
    "\n",
    "Accessibility: Restricts direct access to class fields, which might be inconvenient in some scenarios where direct access is necessary for efficiency.\n",
    "\n",
    "Inflexibility: Overuse of encapsulation might lead to inflexible code, making it hard to extend or modify the behavior of classes without altering their interfaces."
   ]
  },
  {
   "cell_type": "markdown",
   "id": "a2fd70a2",
   "metadata": {},
   "source": [
    "# 17. Create a Python class for a library system that encapsulates book information, including titles, authors, and availability status."
   ]
  },
  {
   "cell_type": "code",
   "execution_count": 13,
   "id": "feb7c26e",
   "metadata": {},
   "outputs": [
    {
     "name": "stdout",
     "output_type": "stream",
     "text": [
      "/n !!!!****Fiction Books****!!!!/n\n",
      "Book's Name :  Amnesty\n",
      "Written by :  Davidar\n",
      "Language : English\n",
      "Number of copies available 10\n",
      "----------------------\n",
      "/n !!!!****Fiction Books****!!!!/n\n",
      "Book's Name :  The Inheritance of Loss\n",
      "Written by :  Kiran Desai\n",
      "Language : English\n",
      "Number of copies available 10\n",
      "----------------------\n",
      "/n !!!!****Fiction Books****!!!!/n\n",
      "Book's Name :  The Bollywood Bride\n",
      "Written by :  Sonali Dev\n",
      "Language : English\n",
      "Number of copies available 10\n",
      "----------------------\n",
      "/n !!!!****Fiction Books****!!!!/n\n",
      "Book's Name :  One Amazing Thing\n",
      "Written by :   Chitra Banerjee\n",
      "Language : English\n",
      "Number of copies available 10\n",
      "----------------------\n",
      "/n !!!!****Fiction Books****!!!!/n\n",
      "Book's Name :  Gunahon ka Devta\n",
      "Written by :   Dharamveer Bharti\n",
      "Language : Hindi\n",
      "Number of copies available 10\n",
      "----------------------\n",
      "/n !!!!****Fiction Books****!!!!/n\n",
      "Book's Name :  Godan\n",
      "Written by :  Munshi Premchand\n",
      "Language : Hindi\n",
      "Number of copies available 10\n",
      "----------------------\n",
      "/n !!!!****Fiction Books****!!!!/n\n",
      "Book's Name :  Mahabhoj\n",
      "Written by :  Mannu Bhandari\n",
      "Language : Hindi\n",
      "Number of copies available 10\n",
      "----------------------\n",
      "/n !!!!****Fiction Books****!!!!/n\n",
      "Book's Name :  Yayati\n",
      "Written by :   Visnu Sakharam\n",
      "Language : Hindi\n",
      "Number of copies available 10\n",
      "----------------------\n",
      "/n !!!!****Fiction Books****!!!!/n\n",
      "Book's Name :  The Sixth Extinction\n",
      "Written by :  Elizabeth Kolbert\n",
      "Language : English\n",
      "Number of copies available 10\n",
      "----------------------\n",
      "/n !!!!****Nonfiction Books:****!!!!/n\n",
      "Book's Name :  The Year of Magical Thinking \n",
      "Written by :  Joan Didio\n",
      "Language : English\n",
      "Number of copies available 10\n",
      "----------------------\n",
      "/n !!!!****Nonfiction Books:****!!!!/n\n",
      "Book's Name :  Dreams from My Father \n",
      "Written by :  Barack Obama\n",
      "Language : English\n",
      "Number of copies available 10\n",
      "----------------------\n",
      "/n !!!!****Nonfiction Books:****!!!!/n\n",
      "Book's Name :  A Brief History of Time \n",
      "Written by :   Stephen Hawking\n",
      "Language : English\n",
      "Number of copies available 10\n",
      "----------------------\n",
      "/n !!!!****Nonfiction Books:****!!!!/n\n",
      "Book's Name :  Vivekanand Ki Atmakatha\n",
      "Written by :   Sankar\n",
      "Language : Hindi\n",
      "Number of copies available 10\n",
      "----------------------\n",
      "/n !!!!****Nonfiction Books:****!!!!/n\n",
      "Book's Name :  The Argumentative Indian\n",
      "Written by :  Amartya Sen\n",
      "Language : Hindi\n",
      "Number of copies available 10\n",
      "----------------------\n",
      "/n !!!!****Nonfiction Books:****!!!!/n\n",
      "Book's Name :  कुछ इश्क किया कुछ काम किया\n",
      "Written by :  Piyush Mishra\n",
      "Language : Hindi\n",
      "Number of copies available 10\n",
      "----------------------\n",
      "/n !!!!****Nonfiction Books:****!!!!/n\n",
      "Book's Name :  Astavakra Gita\n",
      "Written by :   Kriya Lahiri Mahasaya\n",
      "Language : Hindi\n",
      "Number of copies available 10\n",
      "----------------------\n",
      "Genre Name Hindu Mythology Books\n",
      "Book's Name :  Mahabharata\n",
      "Written by :   Vyasa ji\n",
      "Language : Hindi\n",
      "Number of copies available 10\n",
      "----------------------\n",
      "Genre Name Hindu Mythology Books\n",
      "Book's Name :  Ramayana \n",
      "Written by :  Valmiki ji\n",
      "Language : Hindi\n",
      "Number of copies available 10\n",
      "----------------------\n",
      "Genre Name Hindu Mythology Books\n",
      "Book's Name :  Lanka’s Princess\n",
      "Written by :  Kavita Kane\n",
      "Language : Hindi\n",
      "Number of copies available 10\n",
      "----------------------\n",
      "Genre Name Hindu Mythology Books\n",
      "Book's Name :  Dharmyoddha Kalki \n",
      "Written by :   Kevin Missal\n",
      "Language : Hindi\n",
      "Number of copies available 10\n",
      "----------------------\n",
      "Genre Name Hindu Mythology Books\n",
      "Book's Name :  The Pandava Series \n",
      "Written by :   Roshani Chokshi\n",
      "Language : Hindi\n",
      "Number of copies available 10\n",
      "----------------------\n",
      "------------------------------------------------------------------------------------------------------------------------------------------\n",
      "/n !!!!****Fiction Books****!!!!/n\n",
      "Book's Name :  Amnesty\n",
      "Written by :  Davidar\n",
      "Language : English\n",
      "Number of copies available 9\n",
      "----------------------\n",
      "/n !!!!****Nonfiction Books:****!!!!/n\n",
      "Book's Name :  Dreams from My Father \n",
      "Written by :  Barack Obama\n",
      "Language : English\n",
      "Number of copies available 9\n",
      "----------------------\n",
      "Genre Name Hindu Mythology Books\n",
      "Book's Name :  The Pandava Series \n",
      "Written by :   Roshani Chokshi\n",
      "Language : Hindi\n",
      "Number of copies available 9\n",
      "----------------------\n",
      "/n !!!!****Fiction Books****!!!!/n\n",
      "Book's Name :  Amnesty\n",
      "Written by :  Davidar\n",
      "Language : English\n",
      "Number of copies available 8\n",
      "----------------------\n",
      "/n !!!!****Fiction Books****!!!!/n\n",
      "Book's Name :  Amnesty\n",
      "Written by :  Davidar\n",
      "Language : English\n",
      "Number of copies available 9\n",
      "----------------------\n",
      "/n !!!!****Nonfiction Books:****!!!!/n\n",
      "Book's Name :  Dreams from My Father \n",
      "Written by :  Barack Obama\n",
      "Language : English\n",
      "Number of copies available 10\n",
      "----------------------\n",
      "Genre Name Hindu Mythology Books\n",
      "Book's Name :  The Pandava Series \n",
      "Written by :   Roshani Chokshi\n",
      "Language : Hindi\n",
      "Number of copies available 10\n",
      "----------------------\n"
     ]
    }
   ],
   "source": [
    "class Library:\n",
    "    def __init__(self,Category_of_book,Book_Name,Author,Language,Book_count):\n",
    "        self.__Category_of_book=Category_of_book\n",
    "        self.__Book_Name=Book_Name\n",
    "        self.__Author=Author\n",
    "        self.__Language=Language\n",
    "        self.__Book_count=Book_count\n",
    "    def book_borrow(self,Book_count):  \n",
    "        self.__Book_count -= 1\n",
    "    def book_return (self,Book_count):\n",
    "        self.__Book_count += 1\n",
    "    def display(self):\n",
    "        if self.__Category_of_book ==\"Fiction Books\":\n",
    "            print(\"/n !!!!****Fiction Books****!!!!/n\")\n",
    "            print(\"Book's Name : \",self.__Book_Name)\n",
    "            print(\"Written by : \",self.__Author)\n",
    "            print(\"Language :\",self.__Language)\n",
    "            print(\"Number of copies available\",self.__Book_count)\n",
    "            print(\"----------------------\")\n",
    "        elif self.__Category_of_book == \"Nonfiction Books\":\n",
    "            print(\"/n !!!!****Nonfiction Books:****!!!!/n\")\n",
    "            print(\"Book's Name : \",self.__Book_Name)\n",
    "            print(\"Written by : \",self.__Author)\n",
    "            print(\"Language :\",self.__Language)\n",
    "            print(\"Number of copies available\",self.__Book_count)\n",
    "            print(\"----------------------\")\n",
    "        else:\n",
    "            print(\"Genre Name\",self.__Category_of_book)\n",
    "            print(\"Book's Name : \",self.__Book_Name)\n",
    "            print(\"Written by : \",self.__Author)\n",
    "            print(\"Language :\",self.__Language)\n",
    "            print(\"Number of copies available\",self.__Book_count)\n",
    "            print(\"----------------------\")\n",
    "        \n",
    "        \n",
    "\n",
    "        \n",
    "        \n",
    "Book1=Library(\"Fiction Books\",\"Amnesty\",\"Davidar\",\"English\",10)\n",
    "Book2=Library(\"Fiction Books\",\"The Inheritance of Loss\",\"Kiran Desai\",\"English\",10)\n",
    "Book3=Library(\"Fiction Books\",\"The Bollywood Bride\",\"Sonali Dev\",\"English\",10)\n",
    "Book4=Library(\"Fiction Books\",\"One Amazing Thing\",\" Chitra Banerjee\",\"English\",10)\n",
    "Book5=Library(\"Fiction Books\",\"Gunahon ka Devta\",\" Dharamveer Bharti\",\"Hindi\",10)\n",
    "Book6=Library(\"Fiction Books\",\"Godan\",\"Munshi Premchand\",\"Hindi\",10)\n",
    "Book7=Library(\"Fiction Books\",\"Mahabhoj\",\"Mannu Bhandari\",\"Hindi\",10)\n",
    "Book8=Library(\"Fiction Books\",\"Yayati\",\" Visnu Sakharam\",\"Hindi\",10)\n",
    "Book9=Library(\"Fiction Books\",\"The Sixth Extinction\",\"Elizabeth Kolbert\",\"English\",10)\n",
    "Book10=Library(\"Nonfiction Books\",\"The Year of Magical Thinking \",\"Joan Didio\",\"English\",10)\n",
    "Book11=Library(\"Nonfiction Books\",\"Dreams from My Father \",\"Barack Obama\",\"English\",10)\n",
    "Book12=Library(\"Nonfiction Books\",\"A Brief History of Time \",\" Stephen Hawking\",\"English\",10)\n",
    "Book13=Library(\"Nonfiction Books\",\"Vivekanand Ki Atmakatha\",\" Sankar\",\"Hindi\",10)\n",
    "Book14=Library(\"Nonfiction Books\",\"The Argumentative Indian\",\"Amartya Sen\",\"Hindi\",10)\n",
    "Book15=Library(\"Nonfiction Books\",\"कुछ इश्क किया कुछ काम किया\",\"Piyush Mishra\",\"Hindi\",10)\n",
    "Book16=Library(\"Nonfiction Books\",\"Astavakra Gita\",\" Kriya Lahiri Mahasaya\",\"Hindi\",10)\n",
    "Book17=Library(\"Hindu Mythology Books\",\"Mahabharata\",\" Vyasa ji\",\"Hindi\",10)\n",
    "Book18=Library(\"Hindu Mythology Books\",\"Ramayana \",\"Valmiki ji\",\"Hindi\",10)\n",
    "Book19=Library(\"Hindu Mythology Books\",\"Lanka’s Princess\",\"Kavita Kane\",\"Hindi\",10)\n",
    "Book20=Library(\"Hindu Mythology Books\",\"Dharmyoddha Kalki \",\" Kevin Missal\",\"Hindi\",10)\n",
    "Book21=Library(\"Hindu Mythology Books\",\"The Pandava Series \",\" Roshani Chokshi\",\"Hindi\",10)\n",
    "\n",
    "\n",
    "Book1.display()\n",
    "Book2.display()\n",
    "Book3.display()\n",
    "Book4.display()\n",
    "Book5.display()\n",
    "Book6.display()\n",
    "Book7.display()\n",
    "Book8.display()\n",
    "Book9.display()\n",
    "Book10.display()\n",
    "Book11.display()\n",
    "Book12.display()\n",
    "Book13.display()\n",
    "Book14.display()\n",
    "Book15.display()\n",
    "Book16.display()\n",
    "Book17.display()\n",
    "Book18.display()\n",
    "Book19.display()\n",
    "Book20.display()\n",
    "Book21.display()\n",
    "\n",
    "print(\"------------------------------------------------------------------------------------------------------------------------------------------\")\n",
    "\n",
    "Book1.book_borrow(10)\n",
    "Book1.display()\n",
    "Book11.book_borrow(10)\n",
    "Book11.display()\n",
    "Book21.book_borrow(10)\n",
    "Book21.display()\n",
    "Book1.book_borrow(10)\n",
    "Book1.display()\n",
    "Book1.book_return(8)\n",
    "Book1.display()\n",
    "Book11.book_return(9)\n",
    "Book11.display()\n",
    "Book21.book_return(9)\n",
    "Book21.display()"
   ]
  },
  {
   "cell_type": "markdown",
   "id": "1caecb43",
   "metadata": {},
   "source": [
    "Create a class Library and by init fuction take and store the basic information of the product book like as Category_of_book,Book_Name,Author,Language,Book_count\n",
    "\n",
    "Now define multiple functions book_borrow for the informaton wchich book has been borrowed , book_return forr the details that the book has been recovered & display for the details of all books and inventory of the books.\n",
    "\n",
    "For differentiating the category of the book in the display section we have used the conditional statement .\n",
    "\n",
    "Diffrent categories of  like as Fiction Books , Nonfiction Books ,Hindu Mythology Books.\n",
    "\n",
    "Now in the driver code firstly declare all the books using init function .\n",
    "\n",
    "After that try every function using the objects defined .\n",
    "\n",
    "Program ends."
   ]
  },
  {
   "cell_type": "markdown",
   "id": "53af349a",
   "metadata": {},
   "source": [
    "# 18. Explain how encapsulation enhances code reusability and modularity in Python programs."
   ]
  },
  {
   "cell_type": "markdown",
   "id": "1c726b21",
   "metadata": {},
   "source": [
    "Encapsulation in object-oriented programming (OOP) enhances code reusability by making it easier to use and modify existing code for new applications. Encapsulation groups data and methods within a class, allowing the class to be used as a black box without needing to know its implementation details. This makes it easier to use, test, and modify the code.\n",
    "\n",
    "Encapsulation also enhances code modularity and maintainability. It allows objects to be reused in different contexts and scenarios without affecting their internal state or logic. Encapsulation also enables controlled access to object members and protects the internal state. \n",
    "\n",
    "\n",
    "Encapsulation focuses on runtime polymorphism, which allows objects of different classes to be treated as objects of a common superclass. Encapsulation also allows for multiple inheritance, which enables a class to inherit methods and properties from multiple parent classes. \n"
   ]
  },
  {
   "cell_type": "markdown",
   "id": "b47d5ad6",
   "metadata": {},
   "source": [
    "# 19. Describe the concept of information hiding in encapsulation. Why is it essential in software development?"
   ]
  },
  {
   "cell_type": "markdown",
   "id": "9f69ff16",
   "metadata": {},
   "source": [
    "Information hiding is a programming principle that restricts access to internal implementation details, and encapsulation is an object-oriented programming paradigm that groups data and methods together in a class. Information hiding is the most common encapsulation method. \n",
    "\n",
    "Encapsulation is used to hide the values or state of a structured data object inside a class, preventing unauthorized parties' direct access to them. Information hiding means separating the description of how to use a class from the implementation details. This allows a programmer to use a class without needing to know how the methods are implemented"
   ]
  },
  {
   "cell_type": "markdown",
   "id": "a417fa30",
   "metadata": {},
   "source": [
    "# 20. Create a Python class called `Customer` with private attributes for customer details like name, address,and contact information. Implement encapsulation to ensure data integrity and security"
   ]
  },
  {
   "cell_type": "code",
   "execution_count": 14,
   "id": "2f7e6e4f",
   "metadata": {},
   "outputs": [
    {
     "name": "stdout",
     "output_type": "stream",
     "text": [
      "Peter Parker\n",
      "Rose\n",
      "123 Main Street\n",
      "456 Elm Street\n",
      "123-456-7890\n",
      "987-654-3210\n"
     ]
    }
   ],
   "source": [
    "class Customer:\n",
    "    def __init__(self, name, address, contact_information):\n",
    "        self.__name = name\n",
    "        self.__address = address\n",
    "        self.__contact_information = contact_information\n",
    "\n",
    "    def get_name(self):\n",
    "        return self.__name\n",
    "\n",
    "    def set_name(self, name):\n",
    "        self.__name = name\n",
    "\n",
    "    def get_address(self):\n",
    "        return self.__address\n",
    "\n",
    "    def set_address(self, address):\n",
    "        self.__address = address\n",
    "\n",
    "    def get_contact_information(self):\n",
    "        return self.__contact_information\n",
    "\n",
    "    def set_contact_information(self, contact_information):\n",
    "        self.__contact_information = contact_information\n",
    "\n",
    "# Example usage:\n",
    "\n",
    "customer = Customer(\"Peter Parker\", \"123 Main Street\", \"123-456-7890\")\n",
    "\n",
    "print(customer.get_name()) \n",
    "\n",
    "customer.set_name(\"Rose\")\n",
    "\n",
    "print(customer.get_name()) \n",
    "\n",
    "print(customer.get_address()) \n",
    "\n",
    "customer.set_address(\"456 Elm Street\")\n",
    "\n",
    "print(customer.get_address()) \n",
    "\n",
    "print(customer.get_contact_information()) \n",
    "\n",
    "customer.set_contact_information(\"987-654-3210\")\n",
    "\n",
    "print(customer.get_contact_information()) "
   ]
  },
  {
   "cell_type": "markdown",
   "id": "4bd3f8d6",
   "metadata": {},
   "source": [
    "In this solution , the __name, __address, and __contact_information attributes are private, meaning that they can only be accessed from within the Customer class. To access these attributes from outside the class, we use the getter and setter methods that we have defined.\n",
    "\n",
    "For example, to get the customer's name, we would call the get_name() method. To set the customer's name, we would call the set_name() method.\n",
    "\n",
    "By using private attributes, we can help to protect the customer's data from being accidentally or maliciously modified."
   ]
  },
  {
   "cell_type": "code",
   "execution_count": null,
   "id": "33bfd441",
   "metadata": {},
   "outputs": [],
   "source": []
  }
 ],
 "metadata": {
  "kernelspec": {
   "display_name": "Python 3 (ipykernel)",
   "language": "python",
   "name": "python3"
  },
  "language_info": {
   "codemirror_mode": {
    "name": "ipython",
    "version": 3
   },
   "file_extension": ".py",
   "mimetype": "text/x-python",
   "name": "python",
   "nbconvert_exporter": "python",
   "pygments_lexer": "ipython3",
   "version": "3.11.5"
  }
 },
 "nbformat": 4,
 "nbformat_minor": 5
}
