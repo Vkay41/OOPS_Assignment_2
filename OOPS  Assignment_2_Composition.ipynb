{
 "cells": [
  {
   "cell_type": "markdown",
   "id": "9956c765",
   "metadata": {},
   "source": [
    "# OOPS Assignment"
   ]
  },
  {
   "cell_type": "markdown",
   "id": "8780500d",
   "metadata": {},
   "source": [
    "# Composition"
   ]
  },
  {
   "cell_type": "markdown",
   "id": "a4c19abc",
   "metadata": {},
   "source": [
    "# 1. Explain the concept of composition in Python and how it is used to build complex objects from simpler ones"
   ]
  },
  {
   "cell_type": "markdown",
   "id": "e4a67533",
   "metadata": {},
   "source": [
    "Composition is one of the fundamental concepts in object-oriented programming. \n",
    "\n",
    "It describes a class that references one or more objects of other classes in instance variables. \n",
    "\n",
    "This allows you to model a has-a association between objects.\n",
    "\n",
    "You can find such relationships quite regularly in the real world.\n",
    "\n",
    "A car, for example, has an engine and modern coffee machines often have an integrated grinder and a brewing unit.\n",
    "\n",
    "#### Main benefits of composition\n",
    "Given its broad use in the real world, it’s no surprise that composition is also commonly used in carefully designed software components. When you use this concept, you can:\n",
    "                  \n",
    "        reuse existing code\n",
    "        \n",
    "        design clean APIs\n",
    "        \n",
    "        change the implementation of a class used in a composition without adapting any external clients"
   ]
  },
  {
   "cell_type": "markdown",
   "id": "20cf33ec",
   "metadata": {},
   "source": [
    "# 2. Describe the difference between composition and inheritance in object-oriented programming."
   ]
  },
  {
   "cell_type": "markdown",
   "id": "58cdb7c2",
   "metadata": {},
   "source": [
    "### Inheritance\n",
    "is a relationship between classes where one class (the child class) inherits the attributes and methods of another class (the parent class).\n",
    "\n",
    "The child class can then override or extend the inherited attributes and methods.\n",
    "### Composition\n",
    "is a relationship between classes where one class (the owner class) has an instance of another class (the owned class) as a member variable.\n",
    "\n",
    "The owner class can then use the attributes and methods of the owned class."
   ]
  },
  {
   "cell_type": "markdown",
   "id": "7aaf1d27",
   "metadata": {},
   "source": [
    "# 3. Create a Python class called `Author` with attributes for name and birthdate. Then, create a `Book` class that contains an instance of `Author` as a composition. Provide an example of creating a `Book` object."
   ]
  },
  {
   "cell_type": "code",
   "execution_count": 43,
   "id": "7d92233e",
   "metadata": {},
   "outputs": [
    {
     "name": "stdout",
     "output_type": "stream",
     "text": [
      "Harry Potter and the Sorcerer's Stone\n",
      "J.K. Rowling (1965)\n"
     ]
    }
   ],
   "source": [
    "class Author:\n",
    "    def __init__(self, name, birthdate):\n",
    "        self.name = name\n",
    "        self.birthdate = birthdate\n",
    "\n",
    "    def get_name(self):\n",
    "        return self.name\n",
    "\n",
    "    def get_birthdate(self):\n",
    "        return self.birthdate\n",
    "\n",
    "    def set_name(self, name):\n",
    "        self.name = name\n",
    "\n",
    "    def set_birthdate(self, birthdate):\n",
    "        self.birthdate = birthdate\n",
    "\n",
    "    def __str__(self):\n",
    "        return f\"{self.name} ({self.birthdate})\"\n",
    "\n",
    "\n",
    "class Book:\n",
    "    def __init__(self, title, author):\n",
    "        self.title = title\n",
    "        self.author = author\n",
    "\n",
    "    def get_title(self):\n",
    "        return self.title\n",
    "\n",
    "    def get_author(self):\n",
    "        return self.author\n",
    "\n",
    "    def set_title(self, title):\n",
    "        self.title = title\n",
    "\n",
    "    def set_author(self, author):\n",
    "        self.author = author\n",
    "\n",
    "    def __str__(self):\n",
    "        return f\"{self.title} by {self.author}\"\n",
    "    \n",
    "\n",
    "    \n",
    "author = Author(\"J.K. Rowling\", 1965)\n",
    "book = Book(\"Harry Potter and the Sorcerer's Stone\", author)\n",
    "\n",
    "print(book.get_title())\n",
    "print(book.get_author())"
   ]
  },
  {
   "cell_type": "markdown",
   "id": "aefe1606",
   "metadata": {},
   "source": [
    "Firstly, create a Python class called Author with attributes for name and birthdate.\n",
    "\n",
    "After that create a Book class that contains an instance of Author as a composition.\n",
    "\n",
    "Finally provide an example of creating a Book object."
   ]
  },
  {
   "cell_type": "markdown",
   "id": "3c28628d",
   "metadata": {},
   "source": [
    "# 4. Discuss the benefits of using composition over inheritance in Python, especially in terms of code flexibility and reusability"
   ]
  },
  {
   "cell_type": "markdown",
   "id": "b9ed0b27",
   "metadata": {},
   "source": [
    "Here are some of the benefits of using composition over inheritance in Python:\n",
    "\n",
    "### Flexibility:\n",
    "\n",
    "Composition is more flexible than inheritance, as it allows for more dynamic behavior. For example, you can use composition to create a class that can have different types of objects as members, depending on the situation. This can be useful for modeling complex relationships between objects.\n",
    "\n",
    "### Loose coupling:\n",
    "\n",
    "Composition can lead to loose coupling between classes, which can make the code easier to maintain and modify. For example, if you use composition to create a class that has a member of another class, you can change the implementation of the other class without affecting the first class. This is because the first class only has a reference to the other class, not a copy of its code.\n",
    "\n",
    "### Code reuse:\n",
    "\n",
    "Composition can also lead to code reuse, as it allows you to use existing classes in new ways. For example, you can use composition to create a class that combines the functionality of two or more existing classes. This can save you time and effort, as you don't have to write new code from scratch.\n",
    "\n",
    "### Testability:\n",
    "\n",
    "Composition can make code easier to test, as it allows you to isolate the functionality of each class. For example, you can test a class that uses composition by creating mock objects for its members. This can help you to identify and fix bugs more quickly."
   ]
  },
  {
   "cell_type": "markdown",
   "id": "8af6a232",
   "metadata": {},
   "source": [
    "# 5. How can you implement composition in Python classes? Provide examples of using composition to create complex objects."
   ]
  },
  {
   "cell_type": "markdown",
   "id": "2d59aca4",
   "metadata": {},
   "source": [
    "Here is an example of how to implement composition in Python classes:"
   ]
  },
  {
   "cell_type": "code",
   "execution_count": 61,
   "id": "2e05cfe3",
   "metadata": {},
   "outputs": [
    {
     "name": "stdout",
     "output_type": "stream",
     "text": [
      "The engine is starting.\n",
      "The car is driving.\n"
     ]
    }
   ],
   "source": [
    "class Car:\n",
    "    def __init__(self, make, model, year):\n",
    "        self.make = make\n",
    "        self.model = model\n",
    "        self.year = year\n",
    "\n",
    "    def drive(self):\n",
    "        print(\"The car is driving.\")\n",
    "\n",
    "class Engine:\n",
    "    def __init__(self, horsepower, torque):\n",
    "        self.horsepower = horsepower\n",
    "        self.torque = torque\n",
    "\n",
    "    def start(self):\n",
    "        print(\"The engine is starting.\")\n",
    "\n",
    "class CarWithEngine:\n",
    "    def __init__(self, make, model, year, engine):\n",
    "        self.car = Car(make, model, year)\n",
    "        self.engine = engine\n",
    "\n",
    "    def drive(self):\n",
    "        self.engine.start()\n",
    "        self.car.drive()\n",
    "\n",
    "\n",
    "engine = Engine(100, 200)\n",
    "car = CarWithEngine(\"Toyota\", \"Camry\", 2020, engine)\n",
    "car.drive()"
   ]
  },
  {
   "cell_type": "markdown",
   "id": "908a81b5",
   "metadata": {},
   "source": [
    "In this example, the CarWithEngine class composes the Car and Engine classes. \n",
    "\n",
    "The CarWithEngine class has a car attribute that is an instance of the Car class, and an engine attribute that is an instance of the Engine class.\n",
    "\n",
    "To drive the car, the CarWithEngine class calls the start() method on the engine attribute, and then the drive() method on the car attribute.\n",
    "\n",
    "This is just one example of how to implement composition in Python classes. \n",
    "\n",
    "There are many other ways to do it, and the best approach will vary depending on the specific needs of your application."
   ]
  },
  {
   "cell_type": "markdown",
   "id": "288a1042",
   "metadata": {},
   "source": [
    "# 6. Create a Python class hierarchy for a music player system, using composition to represent playlists and songs."
   ]
  },
  {
   "cell_type": "code",
   "execution_count": 45,
   "id": "4f71759c",
   "metadata": {},
   "outputs": [],
   "source": [
    "class Song:\n",
    "    def __init__(self, title, artist, album):\n",
    "        self.title = title\n",
    "        self.artist = artist\n",
    "        self.album = album\n",
    "\n",
    "class Playlist:\n",
    "    def __init__(self, name):\n",
    "        self.name = name\n",
    "        self.songs = []\n",
    "\n",
    "    def add_song(self, song):\n",
    "        self.songs.append(song)\n",
    "\n",
    "    def remove_song(self, song):\n",
    "        self.songs.remove(song)\n",
    "\n",
    "class MusicPlayer:\n",
    "    def __init__(self):\n",
    "        self.playlist = None\n",
    "        self.current_song = None\n",
    "\n",
    "    def play(self):\n",
    "        if self.current_song is not None:\n",
    "            self.current_song.play()\n",
    "\n",
    "    def pause(self):\n",
    "        if self.current_song is not None:\n",
    "            self.current_song.pause()\n",
    "\n",
    "    def stop(self):\n",
    "        if self.current_song is not None:\n",
    "            self.current_song.stop()\n",
    "\n",
    "    def set_playlist(self, playlist):\n",
    "        self.playlist = playlist\n",
    "        self.current_song = playlist.songs[0]\n",
    "\n",
    "    def next_song(self):\n",
    "        if self.current_song is not None:\n",
    "            index = self.playlist.songs.index(self.current_song)\n",
    "            if index < len(self.playlist.songs) - 1:\n",
    "                self.current_song = self.playlist.songs[index + 1]\n",
    "            else:\n",
    "                self.current_song = self.playlist.songs[0]\n",
    "\n",
    "    def previous_song(self):\n",
    "        if self.current_song is not None:\n",
    "            index = self.playlist.songs.index(self.current_song)\n",
    "            if index > 0:\n",
    "                self.current_song = self.playlist.songs[index - 1]\n",
    "            else:\n",
    "                self.current_song = self.playlist.songs[-1]\n",
    "\n",
    "                \n",
    "                \n",
    "# Create a playlist\n",
    "playlist = Playlist(\"My Playlist\")\n",
    "\n",
    "# Add some songs to the playlist\n",
    "playlist.add_song(Song(\"Title 1\", \"Artist 1\", \"Album 1\"))\n",
    "playlist.add_song(Song(\"Title 2\", \"Artist 2\", \"Album 2\"))\n",
    "\n",
    "# Create a music player\n",
    "music_player = MusicPlayer()\n",
    "\n"
   ]
  },
  {
   "cell_type": "markdown",
   "id": "d1995fbb",
   "metadata": {},
   "source": [
    "In this example, the Song class represents a single song. \n",
    "\n",
    "The Playlist class represents a collection of songs. \n",
    "\n",
    "The MusicPlayer class represents the music player itself.\n",
    "The MusicPlayer class uses composition to contain a Playlist object.\n",
    "\n",
    "This means that the MusicPlayer class does not inherit from the Playlist class. \n",
    "\n",
    "Instead, it has a Playlist object as an attribute.\n",
    "\n",
    "This allows the MusicPlayer class to be more flexible.\n",
    "\n",
    "For example, the MusicPlayer class could be used to play songs from a variety of different sources, such as a local file system, a streaming service, or a CD."
   ]
  },
  {
   "cell_type": "markdown",
   "id": "8b2b0057",
   "metadata": {},
   "source": [
    "# 7. Explain the concept of \"has-a\" relationships in composition and how it helps design software systems."
   ]
  },
  {
   "cell_type": "markdown",
   "id": "0e40a9ab",
   "metadata": {},
   "source": [
    "In object-oriented programming and design, a \"has-a\" relationship is a composition relationship that indicates that one object belongs to another and behaves according to ownership rules.\n",
    "\n",
    "In a Unified Modeling Language (UML) Class diagram, a \"has-a\" relationship is represented by a black diamond, with the object closest to the diamond containing the other object.\n",
    "\n",
    "For example, a car has a carburetor, or a car is composed of a carburetor. \n",
    "\n",
    "Here are some examples of \"has-a\" relationships in different programming languages:\n",
    "\n",
    "### C++:\n",
    "\n",
    "A Course class can have an array of Student objects as one of its data members.\n",
    "\n",
    "### Python:\n",
    "\n",
    "A class Composite can contain an object of another class Component.\n",
    "\n",
    "### Java:\n",
    "\n",
    "An instance of one class has a reference to an instance of another class or another instance of the same class. For example, a vehicle has a motor, a dog has a tail. "
   ]
  },
  {
   "cell_type": "markdown",
   "id": "e460330c",
   "metadata": {},
   "source": [
    "# 8. Create a Python class for a computer system, using composition to represent components like CPU, RAM, and storage devices."
   ]
  },
  {
   "cell_type": "code",
   "execution_count": 46,
   "id": "79403bf7",
   "metadata": {},
   "outputs": [
    {
     "name": "stdout",
     "output_type": "stream",
     "text": [
      "Intel Core i7-12700K\n"
     ]
    }
   ],
   "source": [
    "class ComputerSystem:\n",
    "    def __init__(self, processor, memory, storage):\n",
    "        self.processor = processor\n",
    "        self.memory = memory\n",
    "        self.storage = storage\n",
    "\n",
    "    def get_processor(self):\n",
    "        return self.processor\n",
    "\n",
    "    def get_memory(self):\n",
    "        return self.memory\n",
    "\n",
    "    def get_storage(self):\n",
    "        return self.storage\n",
    "\n",
    "class Processor:\n",
    "    def __init__(self, name, cores, speed):\n",
    "        self.name = name\n",
    "        self.cores = cores\n",
    "        self.speed = speed\n",
    "\n",
    "    def get_name(self):\n",
    "        return self.name\n",
    "\n",
    "    def get_cores(self):\n",
    "        return self.cores\n",
    "\n",
    "    def get_speed(self):\n",
    "        return self.speed\n",
    "\n",
    "class Memory:\n",
    "    def __init__(self, size, type):\n",
    "        self.size = size\n",
    "        self.type = type\n",
    "\n",
    "    def get_size(self):\n",
    "        return self.size\n",
    "\n",
    "    def get_type(self):\n",
    "        return self.type\n",
    "\n",
    "class Storage:\n",
    "    def __init__(self, capacity, type):\n",
    "        self.capacity = capacity\n",
    "        self.type = type\n",
    "\n",
    "    def get_capacity(self):\n",
    "        return self.capacity\n",
    "\n",
    "    def get_type(self):\n",
    "        return self.type\n",
    "\n",
    "# Create a computer system object\n",
    "computer_system = ComputerSystem(\n",
    "    Processor(\"Intel Core i7-12700K\", 12, 5.0),\n",
    "    Memory(32, \"DDR4\"),\n",
    "    Storage(1000, \"SSD\")\n",
    ")\n",
    "\n",
    "# Get the computer system's processor\n",
    "processor = computer_system.get_processor()\n",
    "\n",
    "# Print the processor's name\n",
    "print(processor.get_name())"
   ]
  },
  {
   "cell_type": "markdown",
   "id": "22ff9d31",
   "metadata": {},
   "source": [
    "This code creates a ComputerSystem class that uses composition to represent a computer system. The ComputerSystem class has three attributes: processor, memory, and storage. Each of these attributes is an object of another class: Processor, Memory, or Storage.\n",
    "\n",
    "The ComputerSystem class also has three methods: get_processor(), get_memory(), and get_storage(). These methods return the computer system's processor, memory, and storage objects, respectively.\n",
    "The example code also creates a computer system object and prints the name of the computer system's processor."
   ]
  },
  {
   "cell_type": "markdown",
   "id": "5e6f2c65",
   "metadata": {},
   "source": [
    "# 9. Describe the concept of \"delegation\" in composition and how it simplifies the design of complex systems."
   ]
  },
  {
   "cell_type": "markdown",
   "id": "a6e65a3b",
   "metadata": {},
   "source": [
    "Delegation is an object-oriented design pattern that allows an object to delegate some of its responsibilities to another object. This can be useful for a number of reasons, such as:\n",
    "\n",
    "### Reusability:\n",
    "\n",
    "Delegation can allow you to reuse existing code without having to modify it or inherit from it. For example, you could create a Printer object that delegates the printing task to a Paper object, a Ink object, or a Network object, depending on the type of printer.\n",
    "\n",
    "### Flexibility:\n",
    "\n",
    "Delegation can make your code more flexible and adaptable to change. For example, you could create a Window object that delegates the area() call to its internal Rectangle object. If you later decide to change the way that the area() function is calculated, you only need to change the code in the Rectangle object.\n",
    "\n",
    "### Encapsulation:\n",
    "\n",
    "Delegation can help you to encapsulate your code and make it more maintainable. For example, you could create a Logger object that delegates the logging task to a File object or a Database object. This would allow you to change the way that logging is done without having to modify the code that uses the Logger object."
   ]
  },
  {
   "cell_type": "markdown",
   "id": "a8973faa",
   "metadata": {},
   "source": [
    "# 10. Create a Python class for a car, using composition to represent components like the engine, wheels, and transmission."
   ]
  },
  {
   "cell_type": "code",
   "execution_count": 47,
   "id": "edb6b9d6",
   "metadata": {},
   "outputs": [
    {
     "name": "stdout",
     "output_type": "stream",
     "text": [
      "The engine is starting.\n",
      "The car is driving.\n"
     ]
    }
   ],
   "source": [
    "class Car:\n",
    "    def __init__(self, make, model, year):\n",
    "        self.make = make\n",
    "        self.model = model\n",
    "        self.year = year\n",
    "\n",
    "    def drive(self):\n",
    "        print(\"The car is driving.\")\n",
    "\n",
    "class Engine:\n",
    "    def __init__(self, horsepower, torque):\n",
    "        self.horsepower = horsepower\n",
    "        self.torque = torque\n",
    "\n",
    "    def start(self):\n",
    "        print(\"The engine is starting.\")\n",
    "\n",
    "class CarWithEngine:\n",
    "    def __init__(self, make, model, year, engine):\n",
    "        self.car = Car(make, model, year)\n",
    "        self.engine = engine\n",
    "\n",
    "    def drive(self):\n",
    "        self.engine.start()\n",
    "        self.car.drive()\n",
    "\n",
    "\n",
    "engine = Engine(100, 200)\n",
    "car = CarWithEngine(\"Toyota\", \"Camry\", 2020, engine)\n",
    "car.drive()"
   ]
  },
  {
   "cell_type": "markdown",
   "id": "592dcd1c",
   "metadata": {},
   "source": [
    "In this solution, the CarWithEngine class composes the Car and Engine classes. \n",
    "\n",
    "The CarWithEngine class has a car attribute that is an instance of the Car class, and an engine attribute that is an instance of the Engine class.\n",
    "\n",
    "To drive the car, the CarWithEngine class calls the start() method on the engine attribute, and then the drive() method on the car attribute.\n",
    "\n",
    "This is just one example of how to implement composition in Python classes. \n",
    "\n",
    "There are many other ways to do it, and the best approach will vary depending on the specific needs of your application."
   ]
  },
  {
   "cell_type": "markdown",
   "id": "a15c902a",
   "metadata": {},
   "source": [
    "# 11. How can you encapsulate and hide the details of composed objects in Python classes to maintain abstraction?\n"
   ]
  },
  {
   "cell_type": "markdown",
   "id": "76fb1b30",
   "metadata": {},
   "source": [
    "Encapsulation is a software technique that bundles data with the methods that operate on it, and limits direct access to some of that data. This prevents external code from being concerned with an object's internal workings.\n",
    "\n",
    "In encapsulation, you can hide the internal state of an object by declaring variables as private and providing getter and setter methods to access and modify the data. This ensures data integrity and allows for validation and control over data access and modification. \n"
   ]
  },
  {
   "cell_type": "markdown",
   "id": "118e866d",
   "metadata": {},
   "source": [
    "# 12. Create a Python class for a university course, using composition to represent students, instructors, and course materials."
   ]
  },
  {
   "cell_type": "code",
   "execution_count": 55,
   "id": "a781a35c",
   "metadata": {},
   "outputs": [
    {
     "name": "stdout",
     "output_type": "stream",
     "text": [
      "Introduction to Computer Science (CS101) - Professor Smith (4 credits)\n"
     ]
    }
   ],
   "source": [
    "class Course:\n",
    "    def __init__(self, name, number, instructor, credits):\n",
    "        self.name = name\n",
    "        self.number = number\n",
    "        self.instructor = instructor\n",
    "        self.credits = credits\n",
    "\n",
    "    def get_name(self):\n",
    "        return self.name\n",
    "\n",
    "    def get_number(self):\n",
    "        return self.number\n",
    "\n",
    "    def get_instructor(self):\n",
    "        return self.instructor\n",
    "\n",
    "    def get_credits(self):\n",
    "        return self.credits\n",
    "\n",
    "    def __str__(self):\n",
    "        return f\"{self.name} ({self.number}) - {self.instructor} ({self.credits} credits)\"\n",
    "\n",
    "\n",
    "# Create an instance of the Course class\n",
    "course = Course(\"Introduction to Computer Science\", \"CS101\", \"Professor Smith\", 4)\n",
    "\n",
    "# Print the course information\n",
    "print(course)"
   ]
  },
  {
   "cell_type": "markdown",
   "id": "b78fedd9",
   "metadata": {},
   "source": [
    "This is just a basic example, of course. You could add more attributes and methods to the class to make it more useful. For example, you could add a method to add students to the course, or a method to calculate the course grade."
   ]
  },
  {
   "cell_type": "markdown",
   "id": "e821eeab",
   "metadata": {},
   "source": [
    "# 13. Discuss the challenges and drawbacks of composition, such as increased complexity and potential for tight coupling between objects."
   ]
  },
  {
   "cell_type": "markdown",
   "id": "c28e8550",
   "metadata": {},
   "source": [
    "Cognitive Load\n",
    "\n",
    "OOP introduces several layers of abstraction, which for small-scale problems can result in a disproportionate increase in cognitive load.\n",
    "Concepts like encapsulation and modularity, which shine in large, complex systems, may add unnecessary complexity to simple programs where a few functions would suffice.\n",
    "Overhead and Performance\n",
    "The instantiation of objects, the overhead of method calls, and the management of object lifecycles can introduce significant performance overhead.\n",
    "This is particularly problematic in environments where resources are limited or where performance is a critical factor.\n",
    "Learning Curve\n",
    "For those new to programming, the OOP paradigm, with its abstract concepts such as inheritance and polymorphism, can be daunting.\n",
    "The necessity to comprehend and implement abstract classes, interfaces, and other OOP constructs may detract from learning fundamental programming principles."
   ]
  },
  {
   "cell_type": "markdown",
   "id": "3a2bae1e",
   "metadata": {},
   "source": [
    "# 14. Create a Python class hierarchy for a restaurant system, using composition to represent menus, dishes, and ingredients."
   ]
  },
  {
   "cell_type": "code",
   "execution_count": 49,
   "id": "89c832a1",
   "metadata": {},
   "outputs": [
    {
     "name": "stdout",
     "output_type": "stream",
     "text": [
      "0\n"
     ]
    }
   ],
   "source": [
    "class MenuItem:\n",
    "    def __init__(self, name, price):\n",
    "        self.name = name\n",
    "        self.price = price\n",
    "\n",
    "class Menu:\n",
    "    def __init__(self):\n",
    "        self.items = []\n",
    "\n",
    "    def add_item(self, item):\n",
    "        self.items.append(item)\n",
    "\n",
    "    def get_item(self, name):\n",
    "        for item in self.items:\n",
    "            if item.name == name:\n",
    "                return item\n",
    "\n",
    "class Customer:\n",
    "    def __init__(self, name):\n",
    "        self.name = name\n",
    "        self.orders = []\n",
    "\n",
    "    def place_order(self, order):\n",
    "        self.orders.append(order)\n",
    "\n",
    "class Order:\n",
    "    def __init__(self, customer, items):\n",
    "        self.customer = customer\n",
    "        self.items = items\n",
    "\n",
    "    def get_total_price(self):\n",
    "        total_price = 0\n",
    "        for item in self.items:\n",
    "            total_price += item.price\n",
    "        return total_price\n",
    "\n",
    "class Restaurant:\n",
    "    def __init__(self):\n",
    "        self.menu = Menu()\n",
    "        self.customers = []\n",
    "\n",
    "    def add_customer(self, customer):\n",
    "        self.customers.append(customer)\n",
    "\n",
    "    def get_customer(self, name):\n",
    "        for customer in self.customers:\n",
    "            if customer.name == name:\n",
    "                return customer\n",
    "\n",
    "    def place_order(self, customer, items):\n",
    "        order = Order(customer, items)\n",
    "        customer.place_order(order)\n",
    "\n",
    "    def get_total_sales(self):\n",
    "        total_sales = 0\n",
    "        for customer in self.customers:\n",
    "            for order in customer.orders:\n",
    "                total_sales += order.get_total_price()\n",
    "        return total_sales\n",
    "\n",
    "    \n",
    "# Create a restaurant object\n",
    "restaurant = Restaurant()\n",
    "\n",
    "# Add some menu items\n",
    "restaurant.menu.add_item(MenuItem(\"Cheeseburger\", 9.99))\n",
    "restaurant.menu.add_item(MenuItem(\"Caesar Salad\", 8))\n",
    "restaurant.menu.add_item(MenuItem(\"Grilled Salmon\", 19.99))\n",
    "\n",
    "# Create a customer object\n",
    "customer = Customer(\"John Doe\")\n",
    "\n",
    "# Place an order\n",
    "restaurant.place_order(customer, [restaurant.menu.get_item(\"Cheeseburger\"), restaurant.menu.get_item(\"Caesar Salad\")])\n",
    "\n",
    "# Get the total sales\n",
    "total_sales = restaurant.get_total_sales()\n",
    "\n",
    "# Print the total sales\n",
    "print(total_sales)"
   ]
  },
  {
   "cell_type": "markdown",
   "id": "dad43932",
   "metadata": {},
   "source": [
    "This class hierarchy uses composition to model the relationships between the different entities in a restaurant system. For example, a Restaurant object has a Menu object, which contains a list of MenuItem objects. A Customer object can place an Order object, which contains a list of MenuItem objects.\n",
    "\n",
    "Here is an example of how to use this class hierarchy:"
   ]
  },
  {
   "cell_type": "markdown",
   "id": "0ac149d8",
   "metadata": {},
   "source": [
    "# 15. Explain how composition enhances code maintainability and modularity in Python programs"
   ]
  },
  {
   "cell_type": "markdown",
   "id": "4c752792",
   "metadata": {},
   "source": [
    "Here are some of the benefits of using composition:\n",
    "\n",
    "### Modularity:\n",
    "Composition allows you to break down your code into smaller, more manageable pieces. This makes it easier to understand, test, and maintain your code.\n",
    "\n",
    "### Reusability:\n",
    "\n",
    "Composition allows you to reuse existing code in new ways. This can save you time and effort, and it can help to reduce code duplication.\n",
    "\n",
    "### Flexibility:\n",
    "\n",
    "Composition allows you to create flexible and adaptable code. This is because you can easily swap out one object for another without affecting the rest of your code."
   ]
  },
  {
   "cell_type": "markdown",
   "id": "a6cf144d",
   "metadata": {},
   "source": [
    "# 16. Create a Python class for a computer game character, using composition to represent attributes like weapons, armor, and inventory."
   ]
  },
  {
   "cell_type": "code",
   "execution_count": 59,
   "id": "a9d8018d",
   "metadata": {},
   "outputs": [],
   "source": [
    "class Character:\n",
    "    def __init__(self, name, health, attack, defense):\n",
    "        self.name = name\n",
    "        self.health = health\n",
    "        self.attack = attack\n",
    "        self.defense = defense\n",
    "\n",
    "    def attack(self, other_character):\n",
    "        other_character.health -= self.attack\n",
    "\n",
    "    def defend(self, damage):\n",
    "        self.health -= damage * (1 - self.defense)\n",
    "\n",
    "    def is_alive(self):\n",
    "        return self.health > 0\n",
    "    \n",
    "    \n",
    "    \n",
    "    \n",
    "player = Character(\"Player\", 100, 10, 5)\n",
    "    "
   ]
  },
  {
   "cell_type": "markdown",
   "id": "5802cbc0",
   "metadata": {},
   "source": [
    "This class has four attributes:\n",
    "name: The name of the character.\n",
    "health: The amount of health the character has.\n",
    "attack: The amount of damage the character does when it attacks.\n",
    "defense: The amount of damage the character reduces when it is attacked.\n",
    "The class also has three methods:\n",
    "attack(): This method attacks another character, reducing their health by the amount of the character's attack.\n",
    "defend(): This method reduces the amount of damage the character takes when it is attacked.\n",
    "is_alive(): This method returns True if the character is alive, False otherwise.\n",
    "To use this class, you would first create a new instance of the class, passing in the character's name, health, attack, and defense"
   ]
  },
  {
   "cell_type": "markdown",
   "id": "572c3d38",
   "metadata": {},
   "source": [
    "# 17. Describe the concept of \"aggregation\" in composition and how it differs from simple composition."
   ]
  },
  {
   "cell_type": "markdown",
   "id": "0258dd9c",
   "metadata": {},
   "source": [
    "Aggregation is a type of association in object-oriented programming that represents a \"has-a\" relationship between objects. In aggregation, one object (the parent) has a reference to another object (the child), but the child object can still exist independently of the parent object.\n",
    "\n",
    "For example, a car has an engine, but the engine can exist independently of the car. The car is the parent object, and the engine is the child object. The car has a reference to the engine, but the engine can still exist without the car."
   ]
  },
  {
   "cell_type": "markdown",
   "id": "7b62fc83",
   "metadata": {},
   "source": [
    "# 18. Create a Python class for a house, using composition to represent rooms, furniture, and appliances."
   ]
  },
  {
   "cell_type": "code",
   "execution_count": null,
   "id": "6bd3768f",
   "metadata": {},
   "outputs": [],
   "source": [
    "class House:\n",
    "    def __init__(self, address, rooms):\n",
    "        self.address = address\n",
    "        self.rooms = rooms\n",
    "\n",
    "    def get_address(self):\n",
    "        return self.address\n",
    "\n",
    "    def get_rooms(self):\n",
    "        return self.rooms\n",
    "\n",
    "class Room:\n",
    "    def __init__(self, name, size):\n",
    "        self.name = name\n",
    "        self.size = size\n",
    "\n",
    "    def get_name(self):\n",
    "        return self.name\n",
    "\n",
    "    def get_size(self):\n",
    "        return self.size\n",
    "\n",
    "# Create a house object\n",
    "house = House(\"123 Main Street\", [\n",
    "    Room(\"Living room\", 200),\n",
    "    Room(\"Kitchen\", 150),\n",
    "    Room(\"Bedroom\", 100),\n",
    "    Room(\"Bathroom\", 50)\n",
    "])\n",
    "\n",
    "# Print the address of the house\n",
    "print(house.get_address())\n",
    "\n",
    "# Print the rooms in the house\n",
    "for room in house.get_rooms():\n",
    "    print(room.get_name())"
   ]
  },
  {
   "cell_type": "markdown",
   "id": "54ab279e",
   "metadata": {},
   "source": [
    "This code defines two classes: House and Room. The House class has two attributes: address and rooms. The rooms attribute is a list of Room objects. The Room class has two attributes: name and size.\n",
    "\n",
    "The constructor for the House class takes two arguments: address and rooms. The constructor for the Room class takes two arguments: name and size.\n",
    "\n",
    "The get_address() method of the House class returns the address of the house. The get_rooms() method of the House class returns a list of the rooms in the house.\n",
    "\n",
    "The get_name() method of the Room class returns the name of the room. The get_size() method of the Room class returns the size of the room.\n",
    "\n",
    "The main() function creates a House object and prints the address of the house and the rooms in the house.\n",
    "\n",
    "This is just a simple example of how to use composition to create a class for a house in Python. You can add more attributes and methods to the House and Room classes to create a more complex model of a house."
   ]
  },
  {
   "cell_type": "markdown",
   "id": "c6a151bc",
   "metadata": {},
   "source": [
    "# 19. How can you achieve flexibility in composed objects by allowing them to be replaced or modified dynamically at runtime?"
   ]
  },
  {
   "cell_type": "markdown",
   "id": "2a3d5842",
   "metadata": {},
   "source": [
    "Here are some ways to achieve flexibility in composite objects in Python:\n",
    "\n",
    "### Use composition instead of inheritance.\n",
    "\n",
    "Composition allows you to create new objects by combining existing objects, while inheritance allows you to create new objects that are based on existing objects. Composition is more flexible because it allows you to combine objects from different classes, while inheritance only allows you to combine objects from the same class or its subclasses.\n",
    "\n",
    "### Use interfaces.\n",
    "\n",
    "Interfaces allow you to define a set of methods that a class must implement, without specifying how those methods are implemented. This allows you to create different classes that implement the same interface, and you can use those classes interchangeably. This is useful for creating composite objects because it allows you to combine objects from different classes without having to worry about their specific implementations.\n",
    "\n",
    "### Use dependency injection.\n",
    "\n",
    "Dependency injection is a design pattern that allows you to inject dependencies into objects at runtime. This allows you to create objects that are not tightly coupled to their dependencies, which makes them more flexible and reusable. This is useful for creating composite objects because it allows you to inject different objects into the composite object at runtime, depending on the specific needs of the application."
   ]
  },
  {
   "cell_type": "markdown",
   "id": "2c72bb34",
   "metadata": {},
   "source": [
    "# 20. Create a Python class for a social media application, using composition to represent users, posts, and comments."
   ]
  },
  {
   "cell_type": "code",
   "execution_count": 62,
   "id": "8b9741d8",
   "metadata": {},
   "outputs": [
    {
     "name": "stdout",
     "output_type": "stream",
     "text": [
      "Robert clee\n",
      "Jade Clee\n"
     ]
    }
   ],
   "source": [
    "class SocialMedia:\n",
    "    def __init__(self, name, users):\n",
    "        self.name = name\n",
    "        self.users = users\n",
    "\n",
    "    def add_user(self, user):\n",
    "        self.users.append(user)\n",
    "\n",
    "    def remove_user(self, user):\n",
    "        self.users.remove(user)\n",
    "\n",
    "    def get_users(self):\n",
    "        return self.users\n",
    "\n",
    "class User:\n",
    "    def __init__(self, name, username, password):\n",
    "        self.name = name\n",
    "        self.username = username\n",
    "        self.password = password\n",
    "\n",
    "    def get_name(self):\n",
    "        return self.name\n",
    "\n",
    "    def get_username(self):\n",
    "        return self.username\n",
    "\n",
    "    def get_password(self):\n",
    "        return self.password\n",
    "\n",
    "# Create a new social media instance\n",
    "social_media = SocialMedia(\"Facebook\", [])\n",
    "\n",
    "# Add some users\n",
    "user1 = User(\"Robert clee\", \"johndoe\", \"password123\")\n",
    "user2 = User(\"Jade Clee\", \"janedoe\", \"password456\")\n",
    "social_media.add_user(user1)\n",
    "social_media.add_user(user2)\n",
    "\n",
    "# Get all users\n",
    "users = social_media.get_users()\n",
    "\n",
    "# Print the users\n",
    "for user in users:\n",
    "    print(user.get_name())"
   ]
  },
  {
   "cell_type": "markdown",
   "id": "af143aa7",
   "metadata": {},
   "source": [
    "This is just a simple example, of course. You could add more features to the SocialMedia and User classes, such as the ability to post messages, follow other users, and so on."
   ]
  },
  {
   "cell_type": "code",
   "execution_count": null,
   "id": "7a2efaad",
   "metadata": {},
   "outputs": [],
   "source": []
  }
 ],
 "metadata": {
  "kernelspec": {
   "display_name": "Python 3 (ipykernel)",
   "language": "python",
   "name": "python3"
  },
  "language_info": {
   "codemirror_mode": {
    "name": "ipython",
    "version": 3
   },
   "file_extension": ".py",
   "mimetype": "text/x-python",
   "name": "python",
   "nbconvert_exporter": "python",
   "pygments_lexer": "ipython3",
   "version": "3.11.5"
  }
 },
 "nbformat": 4,
 "nbformat_minor": 5
}
