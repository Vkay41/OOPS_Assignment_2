{
 "cells": [
  {
   "cell_type": "markdown",
   "id": "614d5134",
   "metadata": {},
   "source": [
    "# OOPS Assignment"
   ]
  },
  {
   "cell_type": "markdown",
   "id": "863f2a37",
   "metadata": {},
   "source": [
    "# Constructor:"
   ]
  },
  {
   "cell_type": "markdown",
   "id": "0eb87b62",
   "metadata": {},
   "source": [
    "# 1. What is a constructor in Python? Explain its purpose and usage."
   ]
  },
  {
   "cell_type": "markdown",
   "id": "7b88356b",
   "metadata": {},
   "source": [
    "Constructors are generally used for instantiating an object.The task of constructors is to initialize(assign values) to the data members of the class when an object of class is created.In Python the __init__() method is called the constructor and is always called when an object is created.\n",
    "\n",
    "Syntax of constructor declaration :\n",
    "\n",
    "                    def __init__(self):\n",
    "                            #body of the constructor\n",
    "                            \n",
    "                            \n",
    "Types of constructors :\n",
    "\n",
    "Default constructor :The default constructor is simple constructor which doesn’t accept any arguments.It’s definition has only one argument which is a reference to the instance being constructed.\n",
    "\n",
    "Parameterized constructor :constructor with parameters is known as parameterized constructor.The parameterized constructor take its first argument as a reference to the instance being constructed known as self and the rest of the arguments are provided by the programmer.\n",
    "\n",
    "Advantages of using constructors in Python:\n",
    "\n",
    "Initialization of objects: Constructors are used to initialize the objects of a class.\n",
    "\n",
    "They allow you to set default values for attributes or properties, and also allow you to initialize the object with custom data.\n",
    "\n",
    "Easy to implement: Constructors are easy to implement in Python, and can be defined using the __init__() method.\n",
    "\n",
    "Better readability: Constructors improve the readability of the code by making it clear what values are being initialized and how they are being initialized.\n",
    "\n",
    "Encapsulation: Constructors can be used to enforce encapsulation, by ensuring that the object’s attributes are initialized correctly and in a controlled manner."
   ]
  },
  {
   "cell_type": "markdown",
   "id": "dd5c1980",
   "metadata": {},
   "source": [
    "# 2. Differentiate between a parameterless constructor and a parameterized constructor in Python."
   ]
  },
  {
   "cell_type": "markdown",
   "id": "94c9ede7",
   "metadata": {},
   "source": [
    "Default constructors: \n",
    "\n",
    "A default constructor is a constructor that does not take any arguments. \n",
    "\n",
    "It is used to create an object with default values for its attributes.\n",
    "\n",
    "When to use a default constructor:\n",
    "\n",
    "When you want to create an object with default values for its attributes.\n",
    "\n",
    "When you do not need to customize the values of the object's attributes when you create it.\n",
    "\n",
    "class MyClass:\n",
    "    def __init__(self):\n",
    "        self.name = \"John Doe\"\n",
    "\n",
    "my_object = MyClass()\n",
    "\n",
    "print(my_object.name)\n",
    "\n",
    "\n",
    "Execution output:\n",
    "John Doe\n",
    "\n",
    "Parameterized constructors: \n",
    "\n",
    "A parameterized constructor is a constructor that takes one or more arguments.\n",
    "\n",
    "It is used to create an object with custom values for its attributes.\n",
    "\n",
    "When to use a parameterized constructor:\n",
    "\n",
    "When you want to create an object with custom values for its attributes.\n",
    "\n",
    "When you need to pass data to the object when you create it.\n",
    "\n",
    "class MyClass:\n",
    "    def __init__(self, name):\n",
    "        self.name = name\n",
    "\n",
    "my_object = MyClass(\"Virat Kohli\")\n",
    "\n",
    "print(my_object.name)\n",
    "\n",
    "\n",
    "\n",
    "Execution output:\n",
    "John Doe"
   ]
  },
  {
   "cell_type": "markdown",
   "id": "e8b85c2e",
   "metadata": {},
   "source": [
    "# 3. How do you define a constructor in a Python class? Provide an example."
   ]
  },
  {
   "cell_type": "markdown",
   "id": "9bec3327",
   "metadata": {},
   "source": [
    "In Python, a constructor is a special method that is called when an object is created.\n",
    "\n",
    "The purpose of a python constructor is to assign values to the data members within the class when an object is initialized. \n",
    "\n",
    "The name of the constructor method is always __init__.\n",
    "\n",
    "Here is an example of a simple class with a constructor:\n",
    "    \n",
    "    class Person:\n",
    "        def __init__(self, name, age):\n",
    "            self.name = name\n",
    "            self.age = age\n",
    "    \n",
    "    person = Person(\"John\", 30)\n",
    "    print(person.name)\n",
    "    print(person.age)\n",
    "    \n",
    "    \n",
    "    Output:\n",
    "        John\n",
    "        30"
   ]
  },
  {
   "cell_type": "markdown",
   "id": "6d07387d",
   "metadata": {},
   "source": [
    "# 4. Explain the `__init__` method in Python and its role in constructors."
   ]
  },
  {
   "cell_type": "markdown",
   "id": "adfdea0d",
   "metadata": {},
   "source": [
    "The __init__ method in Python is a special method that is called when an object is created from a class. \n",
    "\n",
    "It is used to initialize the object's attributes and serves no other purpose. It is only used within classes.\n",
    "\n",
    "The __init__ method takes the object as its first argument, followed by any additional arguments that need to be passed to it. \n",
    "\n",
    "These arguments are used to initialize the object's attributes.\n",
    "\n",
    "For example, the following class has a __init__ method that takes two arguments, name and age:\n",
    "    \n",
    "    class Person:\n",
    "        def __init__(self, name, age):\n",
    "            self.name = name\n",
    "            self.age = age\n",
    "\n",
    "            \n",
    "When an object is created from this class, the __init__ method is called with the name and age of the person as arguments. \n",
    "\n",
    "These arguments are then used to initialize the object's name and age attributes.\n",
    "\n",
    "The __init__ method is not required, but it is a good practice to include it in all classes. \n",
    "\n",
    "This is because it allows you to initialize the object's attributes in a consistent way.\n",
    "\n",
    "The __init__ method is also used to implement constructors in Python. "
   ]
  },
  {
   "cell_type": "markdown",
   "id": "72300d97",
   "metadata": {},
   "source": [
    "# 5. In a class named `Person`, create a constructor that initializes the `name` and `age` attributes. Provide an example of creating an object of this class."
   ]
  },
  {
   "cell_type": "code",
   "execution_count": 3,
   "id": "39c1451a",
   "metadata": {},
   "outputs": [
    {
     "name": "stdout",
     "output_type": "stream",
     "text": [
      "Vikas\n",
      "26\n"
     ]
    }
   ],
   "source": [
    "class Person:\n",
    "    def __init__(self, name, age):\n",
    "        self.name = name\n",
    "        self.age = age\n",
    "\n",
    "person = Person(\"Vikas\", 26)\n",
    "print(person.name)\n",
    "print(person.age)"
   ]
  },
  {
   "cell_type": "markdown",
   "id": "de3d7956",
   "metadata": {},
   "source": [
    "In this solution, the __init__ method is called when the Person object is created, and it sets the name and age attributes of the object.\n",
    "\n",
    "The __init__ method is commonly referred to as the “constructor” because it is responsible for constructing the object. \n",
    "\n",
    "It is called automatically when the object is created, and it is used to initialize the object’s attributes."
   ]
  },
  {
   "cell_type": "markdown",
   "id": "6080d5a8",
   "metadata": {},
   "source": [
    "# 6. How can you call a constructor explicitly in Python? Give an example."
   ]
  },
  {
   "cell_type": "markdown",
   "id": "65de203e",
   "metadata": {},
   "source": [
    "In Python, constructors are special methods that are called when an object is created. \n",
    "\n",
    "They are used to initialize the object's state. The constructor method is always called __init__().\n",
    "\n",
    "You can call a constructor explicitly by using the __class__() method. The __class__() method returns the class of the object. \n",
    "\n",
    "You can then call the __init__() method of the class to initialize the object.\n",
    "\n",
    "For example, the following code shows how to call a constructor explicitly:\n",
    "    \n",
    "    class Person:\n",
    "        def __init__(self, name, age):\n",
    "            self.name = name\n",
    "            self.age = age\n",
    "    \n",
    "    person = Person.__class__.__call__(Person, \"John\", 30)\n",
    "    print(person.name)\n",
    "    print(person.age)\n",
    "    \n",
    "    Execution output:\n",
    "        Jhon\n",
    "        30"
   ]
  },
  {
   "cell_type": "markdown",
   "id": "94a081fd",
   "metadata": {},
   "source": [
    "# 7. What is the significance of the `self` parameter in Python constructors? Explain with an example."
   ]
  },
  {
   "cell_type": "markdown",
   "id": "ec5142df",
   "metadata": {},
   "source": [
    "The self parameter in Python constructors is significant because it allows the constructor to access and modify the attributes of the instance being created.\n",
    "\n",
    "When you create a new instance of a class, the constructor is called. The constructor is a special method that is used to initialize the instance's attributes.\n",
    "\n",
    "The self parameter is the first parameter of the constructor, and it refers to the instance being created.\n",
    "\n",
    "Inside the constructor, you can use the self parameter to access and modify the instance's attributes.\n",
    "\n",
    "For example, the following code shows a constructor that initializes two attributes, name and age:\n",
    "    \n",
    "    class Person:\n",
    "        def __init__(self, name, age):\n",
    "            self.name = name\n",
    "            self.age = age\n",
    "    \n",
    "    # Create a new instance of the Person class\n",
    "    person = Person(\"Alice\", 25)"
   ]
  },
  {
   "cell_type": "markdown",
   "id": "eec43f7c",
   "metadata": {},
   "source": [
    "# 8. Discuss the concept of default constructors in Python. When are they used?"
   ]
  },
  {
   "cell_type": "markdown",
   "id": "f89db5f6",
   "metadata": {},
   "source": [
    "Default constructors are useful when you want to create an object with a predefined set of attributes, but you don’t want to specify the values of those attributes when the object is created.\n",
    "\n",
    "Here is an example of a default constructor:\n",
    "    \n",
    "    class Person:\n",
    "        def __init__(self):\n",
    "            self.name = \"Vikas\"\n",
    "            self.age = 26\n",
    "    person = Person()\n",
    "    print(person.name)\n",
    "    print(person.age)\n",
    "    \n",
    "    \n",
    "Output:\n",
    "\n",
    "Vikas\n",
    "\n",
    "26\n",
    "\n",
    "In this example, the __init__ method is the default constructor for the Person class. \n",
    "\n",
    "It is called automatically when the object is created, and it sets the default values for the name and age attributes."
   ]
  },
  {
   "cell_type": "markdown",
   "id": "b0ef78b4",
   "metadata": {},
   "source": [
    "# 9. Create a Python class called `Rectangle` with a constructor that initializes the `width` and `height`attributes. Provide a method to calculate the area of the rectangle."
   ]
  },
  {
   "cell_type": "code",
   "execution_count": 8,
   "id": "cf35eb59",
   "metadata": {},
   "outputs": [
    {
     "name": "stdout",
     "output_type": "stream",
     "text": [
      "76\n",
      "357\n"
     ]
    }
   ],
   "source": [
    "class Rectangle:\n",
    "    def __init__(self,length,width):\n",
    "        self.length=length\n",
    "        self.width=width\n",
    "    \n",
    "    def perimeter(self):\n",
    "        print(2*(self.length+self.width))\n",
    "    \n",
    "    def area(self):\n",
    "        print(self.length*self.width)\n",
    "        \n",
    "\n",
    "        \n",
    "rect1=Rectangle(21,17)\n",
    "rect1.perimeter()\n",
    "rect1.area()"
   ]
  },
  {
   "cell_type": "markdown",
   "id": "0965c30d",
   "metadata": {},
   "source": [
    "In this solution, the __init__ method is called when the Rectangle object is created, and it sets the length and width attributes of the object.\n",
    "\n",
    "The __init__ method is commonly referred to as the “constructor” because it is responsible for constructing the object. \n",
    "\n",
    "It is called automatically when the object is created, and it is used to initialize the object’s attributes.\n",
    "\n",
    "Now 2 functions are also created perimeter for finding the perimeter of rectangle and area for the area of Rectangle"
   ]
  },
  {
   "cell_type": "markdown",
   "id": "b9a9d789",
   "metadata": {},
   "source": [
    "# 10. How can you have multiple constructors in a Python class? Explain with an example."
   ]
  },
  {
   "cell_type": "markdown",
   "id": "bc816929",
   "metadata": {},
   "source": [
    "Python does not support constructor overloading. If you try to overload the constructor, the last implementation will be executed each time. Any previous implementation will be over-written by the latest one.\n",
    "\n",
    "Example Consider the following example. In class Person two __init__() functions are provided, however the implementation of the first __init__() function is over-written by the later implementation.\n",
    "\n",
    "class Person:\n",
    "    def __init__(self, name:str):\n",
    "        # Constructor with only name\n",
    "        self.name = name\n",
    "        self.age = 20\n",
    "        \n",
    "    def __init__(self, name:str, age:int):\n",
    "        # Constructor with name and age. Overwrites above implementation.\n",
    "        self.name = name\n",
    "        self.age = age\n",
    "        \n",
    "    def __str__(self):\n",
    "        # Returns a string representation of the object.\n",
    "        return \"Person(Name: {}, Age: {})\".format(self.name, self.age)\n",
    "    \n",
    "\n",
    "    obj1 = Person(\"Alice\", 20)\n",
    "    print(obj1)\n",
    "    # Throws error\n",
    "    obj2 = Person(\"Alice\")\n",
    "\n",
    "\n",
    "Output\n",
    "\n",
    "Person(Name: Alice, Age: 20)\n",
    "Traceback (most recent call last):\n",
    "  File \"<string>\", line 19, in <module>\n",
    "TypeError: __init__() missing 1 required positional argument: 'age'"
   ]
  },
  {
   "cell_type": "markdown",
   "id": "9e2de59c",
   "metadata": {},
   "source": [
    "# 11. What is method overloading, and how is it related to constructors in Python?"
   ]
  },
  {
   "cell_type": "markdown",
   "id": "89ccb177",
   "metadata": {},
   "source": [
    "Method overloading is an important feature of object-oriented programming. Java, C++, and C# languages support method overloading, but in Python it is not possible to perform method overloading.\n",
    "\n",
    "When you have a class with the method of one name defined more than once but with different argument types and/or return types, it is a case of method overloading."
   ]
  },
  {
   "cell_type": "markdown",
   "id": "849be7b4",
   "metadata": {},
   "source": [
    "# 12. Explain the use of the `super()` function in Python constructors. Provide an example."
   ]
  },
  {
   "cell_type": "markdown",
   "id": "955db792",
   "metadata": {},
   "source": [
    "The super() function is used to access the parent class of a class. It can be used to call methods of the parent class, or to access the attributes of the parent class.\n",
    "\n",
    "In Python constructors, the super() function is often used to call the constructor of the parent class. This ensures that the parent class is initialized before the child class is initialized.\n",
    "\n",
    "For example, the following code shows a class called Person with a constructor that initializes the name and age attributes:\n",
    "\n",
    "class Student(Person):\n",
    "    def __init__(self, name, age, school):\n",
    "        super().__init__(name, age)\n",
    "        self.school = school\n",
    "\n",
    "    def get_name(self):\n",
    "        return super().name\n",
    "        \n"
   ]
  },
  {
   "cell_type": "markdown",
   "id": "0417f573",
   "metadata": {},
   "source": [
    "## 13. Create a class called `Book` with a constructor that initializes the `title`, `author`, and `published_year` attributes. Provide a method to display book details."
   ]
  },
  {
   "cell_type": "code",
   "execution_count": 13,
   "id": "452a43fb",
   "metadata": {},
   "outputs": [
    {
     "name": "stdout",
     "output_type": "stream",
     "text": [
      "Incredible Hulk: Cry of the Beast\n",
      "Richard S. Meyers\n",
      "1979\n"
     ]
    }
   ],
   "source": [
    "class book:\n",
    "    def __init__(self,title, author,published_year):\n",
    "        self.title=title\n",
    "        self.author=author\n",
    "        self.published_year=published_year\n",
    "    def display(self):\n",
    "        print(self.title)\n",
    "        print(self.author)\n",
    "        print(self.published_year)\n",
    "        \n",
    "a=book(\"Incredible Hulk: Cry of the Beast\",\"Richard S. Meyers\",1979)\n",
    "a.display()"
   ]
  },
  {
   "cell_type": "markdown",
   "id": "ae925430",
   "metadata": {},
   "source": [
    "In this solution, the __init__ method is called when the Rectangle object is created, and it sets the title, author, and published_year attributes of the object.\n",
    "\n",
    "The __init__ method is commonly referred to as the “constructor” because it is responsible for constructing the object. \n",
    "\n",
    "It is called automatically when the object is created, and it is used to initialize the object’s attributes.\n",
    "\n",
    "Now create a function display for display book details."
   ]
  },
  {
   "cell_type": "markdown",
   "id": "e3f143aa",
   "metadata": {},
   "source": [
    "# 14. Discuss the differences between constructors and regular methods in Python classes."
   ]
  },
  {
   "cell_type": "markdown",
   "id": "4930fd8a",
   "metadata": {},
   "source": [
    "Constructor\n",
    "\n",
    "A constructor initializes an object.\n",
    "\n",
    "The 'new' keyword is crucial for calling the constructor.\n",
    "\n",
    "It lacks a return type.\n",
    "\n",
    "The constructor and class always have identical names.\n",
    "\n",
    "A constructor initializes an object that doesn't exist yet.\n",
    "\n",
    "A class can have multiple constructors with varying parameters.\n",
    "\n",
    "It can't be inherited by subclasses.\n",
    "\n",
    "Method\n",
    "\n",
    "A method is a set of instructions that returns a value after execution.\n",
    "\n",
    "Method calls are essential for invoking methods.\n",
    "\n",
    "It has a return type.\n",
    "\n",
    "Methods can bear any name.\n",
    "\n",
    "A method operates on objects that have already been created.\n",
    "\n",
    "A class can have numerous methods with different parameters.\n",
    "\n",
    "It can be inherited by subclasses."
   ]
  },
  {
   "cell_type": "markdown",
   "id": "eeb4a488",
   "metadata": {},
   "source": [
    "# 15. Explain the role of the `self` parameter in instance variable initialization within a constructor."
   ]
  },
  {
   "cell_type": "markdown",
   "id": "5bc6b2e6",
   "metadata": {},
   "source": [
    "The self parameter in Python is used to represent the instance of the class. It is used to access the attributes and methods of the class. The self parameter is also used to initialize instance variables within a constructor.\n",
    "\n",
    "When a constructor is called, it is passed the arguments that are used to initialize the instance variables. The self parameter is also passed to the constructor. The self parameter is used to access the instance variables and initialize them with the values that are passed to the constructor.\n",
    "\n",
    "For example, the following code shows a constructor that initializes two instance variables, name and age:\n",
    "\n",
    "class Person:\n",
    "\n",
    "    def __init__(self, name, age):\n",
    "        self.name = name\n",
    "        self.age = age\n",
    "\n",
    "#Create a new instance of the Person class\n",
    "\n",
    "person = Person(\"John Doe\", 30)\n",
    "\n",
    "#Print the values of the instance variables\n",
    "\n",
    "print(person.name) \n",
    "print(person.age) \n",
    "\n",
    "\n",
    "In the above example, the __init__() method is called with two arguments, name and age. The self parameter is also passed to the __init__() method. The self parameter is used to access the instance variables and initialize them with the values that are passed to the constructor."
   ]
  },
  {
   "cell_type": "markdown",
   "id": "7bcb6f3b",
   "metadata": {},
   "source": [
    "# 16. How do you prevent a class from having multiple instances by using constructors in Python? Provide an example."
   ]
  },
  {
   "cell_type": "markdown",
   "id": "aff1a6d3",
   "metadata": {},
   "source": [
    "There are two ways to prevent a class from having multiple instances by using constructors in Python:\n",
    "    \n",
    "Use a private constructor.: \n",
    "    \n",
    "    This will make it impossible for external code to create instances of the class. \n",
    "\n",
    "    To do this, you simply need to declare the constructor with the __ prefix. For example:\n",
    "        \n",
    "    class MyClass:\n",
    "        def __init__(self):\n",
    "            pass\n",
    "        \n",
    "    my_instance = MyClass()\n",
    "        \n",
    "Use a static class:\n",
    "    \n",
    "    Static classes cannot be instantiated, so they can only have one instance. \n",
    "    \n",
    "    To create a static class, you simply need to declare the class with the @staticmethod decorator. For example:\n",
    "        \n",
    "        @staticmethod \n",
    "        class MyClass:\n",
    "            pass\n",
    "        my_instance = MyClass()"
   ]
  },
  {
   "cell_type": "markdown",
   "id": "f531d1b6",
   "metadata": {},
   "source": [
    "#  17. Create a Python class called `Student` with a constructor that takes a list of subjects as a parameter and initializes the `subjects` attribute."
   ]
  },
  {
   "cell_type": "code",
   "execution_count": 9,
   "id": "6c08d981",
   "metadata": {},
   "outputs": [
    {
     "name": "stdout",
     "output_type": "stream",
     "text": [
      "['Math', 'English', 'Science']\n"
     ]
    }
   ],
   "source": [
    "class Student:\n",
    "  def __init__(self, subjects):\n",
    "    self.subjects = subjects\n",
    "\n",
    "# Create a new student object with a list of subjects\n",
    "student = Student([\"Math\", \"English\", \"Science\"])\n",
    "\n",
    "# Print the student's subjects\n",
    "print(student.subjects)"
   ]
  },
  {
   "cell_type": "markdown",
   "id": "1913aa24",
   "metadata": {},
   "source": [
    "The __init__() method is a special method that is called when a new object is created. In this case, the __init__() method takes a list of subjects as a parameter and initializes the subjects attribute of the new student object.\n",
    "\n",
    "The subjects attribute is a list of the subjects that the student is taking. In the example above, the student is taking Math, English, and Science.\n",
    "\n",
    "To create a new student object, you can simply call the Student() class constructor and pass in a list of subjects as a parameter."
   ]
  },
  {
   "cell_type": "markdown",
   "id": "5d19cfbb",
   "metadata": {},
   "source": [
    "# 18. What is the purpose of the `__del__` method in Python classes, and how does it relate to constructors?"
   ]
  },
  {
   "cell_type": "markdown",
   "id": "fe14ea0f",
   "metadata": {},
   "source": [
    "The __del__ method in Python classes is a special method that is called when an object is garbage collected. This happens after all references to the object have been deleted. The __del__ method is used to destroy an instance of a class.\n",
    "\n",
    "Constructors in Python are special methods that are called when an object is created. They are used to initialize the object's attributes and perform any necessary setup.\n",
    "\n",
    "The __del__ method is related to constructors in that it is used to clean up any resources that were allocated by the constructor. For example, if the constructor opens a file, the __del__ method should close the file.\n",
    "\n",
    "It is important to note that the __del__ method is not always called. The garbage collector may not call the __del__ method if the object is still referenced by other objects. It is also important to note that the __del__ method should not be used to raise exceptions.\n",
    "\n",
    "Here is an example of a class with a __del__ method:\n",
    "\n",
    "class MyClass:\n",
    "\n",
    "    def __init__(self):\n",
    "    \n",
    "        self.file = open(\"my_file.txt\", \"w\")\n",
    "\n",
    "    def __del__(self):\n",
    "    \n",
    "        self.file.close()\n",
    "\n",
    "my_object = MyClass()\n",
    "\n",
    "#...\n",
    "\n",
    "del my_object"
   ]
  },
  {
   "cell_type": "markdown",
   "id": "fef7d229",
   "metadata": {},
   "source": [
    "# 19. Explain the use of constructor chaining in Python. Provide a practical example."
   ]
  },
  {
   "cell_type": "markdown",
   "id": "b2d20c6a",
   "metadata": {},
   "source": [
    "Constructor chaining is a technique in Python that allows you to call one constructor from another constructor within the same class. This can be useful for initializing objects in a specific order, or for reusing code between constructors.\n",
    "\n",
    "To use constructor chaining, you simply need to call the super() function within the constructor that you want to chain. The super() function will call the constructor of the parent class, passing in any arguments that you provide.\n",
    "\n",
    "For example, the following code shows how to use constructor chaining to initialize a Person object:\n",
    "\n",
    "class Person:\n",
    "\n",
    "    def __init__(self, name, age):\n",
    "    \n",
    "        self.name = name\n",
    "        \n",
    "        self.age = age\n",
    "\n",
    "class Employee(Person):\n",
    "\n",
    "    def __init__(self, name, age, job_title):\n",
    "    \n",
    "        super().__init__(name, age)\n",
    "        \n",
    "        self.job_title = job_title\n",
    "\n",
    "class Manager(Employee):\n",
    "\n",
    "    def __init__(self, name, age, job_title, department):\n",
    "    \n",
    "        super().__init__(name, age, job_title)\n",
    "        \n",
    "        self.department = department\n",
    "\n",
    "manager = Manager(\"Jane Doe\", 35, \"Manager\", \"Engineering\")\n",
    "\n",
    "print(manager.name) \n",
    "\n",
    "print(manager.age) \n",
    "\n",
    "print(manager.job_title)\n",
    "\n",
    "print(manager.department) "
   ]
  },
  {
   "cell_type": "markdown",
   "id": "129af6e2",
   "metadata": {},
   "source": [
    "# 20. Create a Python class called `Car` with a default constructor that initializes the `make` and `model`attributes. Provide a method to display car information."
   ]
  },
  {
   "cell_type": "code",
   "execution_count": 11,
   "id": "23f6068e",
   "metadata": {},
   "outputs": [
    {
     "name": "stdout",
     "output_type": "stream",
     "text": [
      "Make: Toyota\n",
      "Model: Camry\n"
     ]
    }
   ],
   "source": [
    "class Car:\n",
    "    def __init__(self, make=\"Toyota\", model=\"Camry\"):\n",
    "        self.make = make\n",
    "        self.model = model\n",
    "\n",
    "    def display_car_info(self):\n",
    "        print(f\"Make: {self.make}\")\n",
    "        print(f\"Model: {self.model}\")\n",
    "\n",
    "# Example usage:\n",
    "\n",
    "car = Car()\n",
    "car.display_car_info()\n",
    "# Model: Camry"
   ]
  },
  {
   "cell_type": "markdown",
   "id": "41a62d63",
   "metadata": {},
   "source": [
    "The default constructor initializes the make and model attributes to \"Toyota\" and \"Camry\", respectively. \n",
    "\n",
    "This means that if you create a new Car object without passing in any arguments, the object will be initialized with these default values.\n",
    "\n",
    "The display_car_info() method simply prints the make and model attributes of the car object.\n",
    "\n",
    "You can create a new Car object and call the display_car_info() method as shown in the example above.\n",
    "\n",
    "This will print the car's make and model to the console."
   ]
  },
  {
   "cell_type": "code",
   "execution_count": null,
   "id": "e65025b0",
   "metadata": {},
   "outputs": [],
   "source": []
  }
 ],
 "metadata": {
  "kernelspec": {
   "display_name": "Python 3 (ipykernel)",
   "language": "python",
   "name": "python3"
  },
  "language_info": {
   "codemirror_mode": {
    "name": "ipython",
    "version": 3
   },
   "file_extension": ".py",
   "mimetype": "text/x-python",
   "name": "python",
   "nbconvert_exporter": "python",
   "pygments_lexer": "ipython3",
   "version": "3.11.5"
  }
 },
 "nbformat": 4,
 "nbformat_minor": 5
}
