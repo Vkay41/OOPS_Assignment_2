{
 "cells": [
  {
   "cell_type": "markdown",
   "id": "f7b12bb6",
   "metadata": {},
   "source": [
    "# OOPS Assignment"
   ]
  },
  {
   "cell_type": "markdown",
   "id": "3869b823",
   "metadata": {},
   "source": [
    "# Inheritance:"
   ]
  },
  {
   "cell_type": "markdown",
   "id": "5779ac2b",
   "metadata": {},
   "source": [
    "# 1. What is inheritance in Python? Explain its significance in object-oriented programming."
   ]
  },
  {
   "cell_type": "markdown",
   "id": "e0c5cdb9",
   "metadata": {},
   "source": [
    "The method of inheriting the properties of parent class into a child class is known as inheritance. It is an OOP concept. The following are the benefits of inheritance.\n",
    "\n",
    "Code reusability- we do not have to write the same code, again and again, we can just inherit the properties we need in a child class.\n",
    "\n",
    "It represents a real-world relationship between parent class and child class.\n",
    "\n",
    "It is transitive in nature. If a child class inherits properties from a parent class, then all other sub-classes of the child class will also inherit the properties of the parent class.\n",
    "\n",
    "Below is a simple example of inheritance in Python.\n",
    "\n"
   ]
  },
  {
   "cell_type": "code",
   "execution_count": 3,
   "id": "d8e53ab3",
   "metadata": {},
   "outputs": [
    {
     "name": "stdout",
     "output_type": "stream",
     "text": [
      "first function\n",
      "second function\n"
     ]
    }
   ],
   "source": [
    "class Parent():\n",
    "    def first(self):\n",
    "        print('first function')\n",
    "\n",
    "class Child(Parent):\n",
    "    def second(self):\n",
    "        print('second function')\n",
    "\n",
    "        \n",
    "ob = Child()\n",
    "ob.first()\n",
    "ob.second()"
   ]
  },
  {
   "cell_type": "markdown",
   "id": "e601f57b",
   "metadata": {},
   "source": [
    "# 2. Differentiate between single inheritance and multiple inheritance in Python. Provide examples for each."
   ]
  },
  {
   "cell_type": "markdown",
   "id": "990a7b98",
   "metadata": {},
   "source": [
    "\n",
    "### Single Inheritance\n",
    "\n",
    "In single inheritance, a derived class inherits from one base class.\n",
    "\n",
    "Single inheritance has less overhead.\n",
    "\n",
    "Due to less overhead, single inheritance has a shorter run time.\n",
    "\n",
    "Single inheritance is akin to specialization.\n",
    "\n",
    "Single inheritance is simpler than multiple inheritance.\n",
    "\n",
    "Single inheritance can be implemented in any programming language.\n",
    "\n",
    "### Multiple Inheritance \n",
    "\n",
    "In multiple inheritance, a derived class inherits from several base classes.\n",
    "\n",
    "The derived class can use features from all inherited base classes.\n",
    "\n",
    "Multiple inheritance has more overhead.\n",
    "\n",
    "Due to more overhead, multiple inheritance has a longer run time.\n",
    "\n",
    "Multiple inheritance is akin to generalization.\n",
    "\n",
    "Multiple inheritance is more complex than single inheritance.\n",
    "\n",
    "Multiple inheritance can't be implemented in all programming languages.\n",
    "\n",
    "For example, Java and C# do not support multiple inheritance."
   ]
  },
  {
   "cell_type": "markdown",
   "id": "949f3c43",
   "metadata": {},
   "source": [
    "# 3. Create a Python class called `Vehicle` with attributes `color` and `speed`. Then, create a child class called `Car` that inherits from `Vehicle` and adds a `brand` attribute. Provide an example of creating a `Car` object."
   ]
  },
  {
   "cell_type": "code",
   "execution_count": 8,
   "id": "884a9ada",
   "metadata": {},
   "outputs": [
    {
     "name": "stdout",
     "output_type": "stream",
     "text": [
      "red\n",
      "100\n",
      "Toyota\n"
     ]
    }
   ],
   "source": [
    "class Vehicle:\n",
    "    def __init__(self, color, speed):\n",
    "        self.color = color\n",
    "        self.speed = speed\n",
    "\n",
    "class Car(Vehicle):\n",
    "    def __init__(self, color, speed, brand):\n",
    "        super().__init__(color, speed)\n",
    "        self.brand = brand\n",
    "\n",
    "# Create a Car object\n",
    "car = Car(\"red\", 100, \"Toyota\")\n",
    "\n",
    "# Print the car's color, speed, and brand\n",
    "print(car.color)\n",
    "print(car.speed)\n",
    "print(car.brand)"
   ]
  },
  {
   "cell_type": "markdown",
   "id": "07a6ecf6",
   "metadata": {},
   "source": [
    "Firstly , Create a Python class called `Vehicle` with attributes `color` and `speed`.\n",
    "\n",
    "After that  create a child class called `Car` that inherits from `Vehicle` and adds a `brand` attribute.\n",
    "\n",
    "At last provide an example of creating a `Car` object"
   ]
  },
  {
   "cell_type": "markdown",
   "id": "68c0758f",
   "metadata": {},
   "source": [
    "# 4. Explain the concept of method overriding in inheritance. Provide a practical example."
   ]
  },
  {
   "cell_type": "markdown",
   "id": "05247d5d",
   "metadata": {},
   "source": [
    "Method Overriding is derived from the concept of object oriented programming\n",
    "\n",
    "Method Overriding allows us to change the implementation of a function in the child class which is defined in the parent class.\n",
    "\n",
    "Method Overriding is a part of the inheritance mechanism\n",
    "\n",
    "Method Overriding avoids duplication of code\n",
    "\n",
    "Method Overriding also enhances the code adding some additional properties.\n",
    "\n",
    "#Parent class \n",
    "class Shape:\n",
    "    # properties \n",
    "    data1 = \"abc\"\n",
    "\n",
    "    # function no_of_sides \n",
    "    def no_of_sides(self):\n",
    "        print(\"My sides need to be defined. I am from shape class.\")\n",
    "\n",
    "    # function two_dimensional \n",
    "    def two_dimensional(self):\n",
    "        print(\"I am a 2D object. I am from shape class\")\n"
   ]
  },
  {
   "cell_type": "markdown",
   "id": "a05823e7",
   "metadata": {},
   "source": [
    "# 5. How can you access the methods and attributes of a parent class from a child class in Python? Give an example."
   ]
  },
  {
   "cell_type": "markdown",
   "id": "cbe34aec",
   "metadata": {},
   "source": [
    "Here are two ways to access the methods and attributes of a parent class from a child class in Python:\n",
    "\n",
    "Using the super() function: \n",
    "\n",
    "The super() function is a built-in function that allows you to access the methods and attributes of a parent class from a child class. To use the super() function, you must first call the parent class's constructor in the child class's constructor. Then, you can use the super() function to access any method or attribute of the parent class. \n",
    "\n",
    "For example:\n",
    "\n",
    "class Parent:\n",
    "\n",
    "    def __init__(self):\n",
    "    \n",
    "        self.parent_attribute = \"I'm from the parent class\"\n",
    "\n",
    "    def parent_method(self):\n",
    "    \n",
    "        print(\"I'm a parent method\")\n",
    "\n",
    "class Child(Parent):\n",
    "\n",
    "    def __init__(self):\n",
    "    \n",
    "        super().__init__()\n",
    "        \n",
    "        self.child_attribute = \"I'm from the child class\"\n",
    "\n",
    "    def child_method(self):\n",
    "    \n",
    "        super().parent_method()\n",
    "        \n",
    "        print(\"I'm a child method\")\n",
    "\n",
    "child = Child()\n",
    "\n",
    "child.child_method()\n",
    "\n",
    "Using the dot notation: \n",
    "\n",
    "You can also use the dot notation to access the methods and attributes of a parent class from a child class. To do this, you must first create an instance of the parent class. Then, you can use the dot notation to access any method or attribute of the parent class. \n",
    "\n",
    "For example:\n",
    "\n",
    "class Parent:\n",
    "\n",
    "    def __init__(self):\n",
    "    \n",
    "        self.parent_attribute = \"I'm from the parent class\"\n",
    "\n",
    "    def parent_method(self):\n",
    "    \n",
    "        print(\"I'm a parent method\")\n",
    "\n",
    "class Child:\n",
    "\n",
    "    def __init__(self):\n",
    "    \n",
    "        self.parent = Parent()\n",
    "\n",
    "    def child_method(self):\n",
    "    \n",
    "        self.parent.parent_method()\n",
    "\n",
    "child = Child()\n",
    "\n",
    "child.child_method()"
   ]
  },
  {
   "cell_type": "markdown",
   "id": "63823081",
   "metadata": {},
   "source": [
    "# 6. Discuss the use of the `super()` function in Python inheritance. When and why is it used? Provide an example."
   ]
  },
  {
   "cell_type": "markdown",
   "id": "758e4f0b",
   "metadata": {},
   "source": [
    "The super() function is a built-in function that allows you to access the methods and attributes of a parent class from a child class. To use the super() function, you must first call the parent class's constructor in the child class's constructor. Then, you can use the super() function to access any method or attribute of the parent class.\n",
    "\n",
    "For example:\n",
    "\n",
    "class Parent:\n",
    "\n",
    "def __init__(self):\n",
    "\n",
    "    self.parent_attribute = \"I'm from the parent class\"\n",
    "\n",
    "def parent_method(self):\n",
    "\n",
    "    print(\"I'm a parent method\")\n",
    "class Child(Parent):\n",
    "\n",
    "def __init__(self):\n",
    "\n",
    "    super().__init__()\n",
    "    \n",
    "    self.child_attribute = \"I'm from the child class\"\n",
    "\n",
    "def child_method(self):\n",
    "\n",
    "    super().parent_method()\n",
    "    \n",
    "    print(\"I'm a child method\")\n",
    "child = Child()\n",
    "\n",
    "child.child_method()"
   ]
  },
  {
   "cell_type": "markdown",
   "id": "4bc55bbe",
   "metadata": {},
   "source": [
    "# 7. Create a Python class called `Animal` with a method `speak()`. Then, create child classes `Dog` and `Cat`"
   ]
  },
  {
   "cell_type": "code",
   "execution_count": 30,
   "id": "127d4f6d",
   "metadata": {},
   "outputs": [
    {
     "name": "stdout",
     "output_type": "stream",
     "text": [
      "Genric Sound of the animal\n",
      "meow\n",
      "bark , whine, whimper , howl, huff, growl, yelp, and yip \n"
     ]
    }
   ],
   "source": [
    "class Animal:\n",
    "    def speak(self):\n",
    "        print(\"Genric Sound of the animal\")\n",
    "class dog(Animal):\n",
    "    def speak (self):\n",
    "        print (\"bark , whine, whimper , howl, huff, growl, yelp, and yip \")\n",
    "class cat (Animal):\n",
    "    def speak (self):\n",
    "        print(\"meow\")\n",
    "        \n",
    "Animal=Animal()       \n",
    "cat=cat()\n",
    "dog=dog()\n",
    "Animal.speak()\n",
    "cat.speak()\n",
    "dog.speak()"
   ]
  },
  {
   "cell_type": "markdown",
   "id": "1d66a767",
   "metadata": {},
   "source": [
    "Firstly define a class called Animal with a method speak().\n",
    "\n",
    "Then, create 2 child classes Dog and Cat with a same method speak().\n",
    "\n",
    "Now create an example to show how to use the 3 clases."
   ]
  },
  {
   "cell_type": "markdown",
   "id": "4d868018",
   "metadata": {},
   "source": [
    "# 8. Explain the role of the `isinstance()` function in Python and how it relates to inheritance."
   ]
  },
  {
   "cell_type": "markdown",
   "id": "496b9b8d",
   "metadata": {},
   "source": [
    "Python isinstance() Function\n",
    "Python isinstance() function is used to check whether the given object is an instance of that class. If the object belongs to the class, it returns True. Otherwise returns False. It also returns true if the class is a subclass.\n",
    "\n",
    "The isinstance() function takes two arguments object and classinfo and returns either True or False. The signature of the function is given below.\n",
    "\n",
    "Syntax:\n",
    "isinstance(object, classinfo)  \n",
    "Parameters\n",
    "object: It is an object of string, int, float, long or custom type.\n",
    "\n",
    "classinfo: Class name.\n",
    "\n",
    "Return\n",
    "It returns boolean either True or False.\n",
    "\n",
    "\n",
    "Python Isinstance() Examples:\n",
    "We utilize the isinstance() function to check whether various variables are instances of their separate data types or classes.\n",
    "\n",
    "1. Integer\n",
    "Code\n",
    "\n",
    "#Check if an integer is an int  \n",
    "n = 100  \n",
    "print(isinstance(n, int))    \n",
    "Output:\n",
    "\n",
    "True"
   ]
  },
  {
   "cell_type": "markdown",
   "id": "82f61ca6",
   "metadata": {},
   "source": [
    "# 9. What is the purpose of the `issubclass()` function in Python? Provide an example."
   ]
  },
  {
   "cell_type": "markdown",
   "id": "249f1b2e",
   "metadata": {},
   "source": [
    "The Python issubclass() function checks if a class is a subclass of another class or not. The syntax is:\n",
    "Python\n",
    "\n",
    "issubclass(sub, sup)\n",
    "sub is the subclass and sup is the superclass.\n",
    "\n",
    "The issubclass() function returns True if the sub class is a subclass of the sup class, otherwise it returns False.\n",
    "\n",
    "For example, the following code returns True:\n",
    "\n",
    "Python\n",
    "\n",
    "class A:\n",
    "    pass\n",
    "\n",
    "class B(A):\n",
    "    pass\n",
    "\n",
    "issubclass(B, A)\n",
    "\n",
    "The issubclass() function can also be used to check if a class is a subclass of a tuple of classes."
   ]
  },
  {
   "cell_type": "markdown",
   "id": "7c8f63a1",
   "metadata": {},
   "source": [
    "# 10. Discuss the concept of constructor inheritance in Python. How are constructors inherited in child classes?"
   ]
  },
  {
   "cell_type": "markdown",
   "id": "53b41f4a",
   "metadata": {},
   "source": [
    "In Python, when a class inherits from another class, it also inherits the constructor of the parent class. \n",
    "\n",
    "This means that when you create an object of the child class, the constructor of the parent class will be called automatically.\n",
    "\n",
    "This can be useful for initializing the attributes of the child class, as well as for calling any necessary setup code in the parent class.\n",
    "\n",
    "For example, the following code shows a parent class called Person and a child class called Employee. The Employee class inherits from the Person class, so it will automatically inherit the constructor of the Person class.\n",
    "\n",
    "class Person:\n",
    "\n",
    "    def __init__(self, name, age):\n",
    "    \n",
    "        self.name = name\n",
    "        \n",
    "        self.age = age\n",
    "\n",
    "class Employee(Person):\n",
    "\n",
    "    pass\n",
    "\n",
    "employee = Employee(\"John Doe\", 30)\n",
    "\n",
    "print(employee.name)\n",
    "\n",
    "print(employee.age)"
   ]
  },
  {
   "cell_type": "markdown",
   "id": "ba14cea5",
   "metadata": {},
   "source": [
    "# 11. Create a Python class called `Shape` with a method `area()` that calculates the area of a shape. Then, create child classes `Circle` and `Rectangle` that inherit from `Shape` and implement the `area()` method accordingly. Provide an example."
   ]
  },
  {
   "cell_type": "code",
   "execution_count": 32,
   "id": "14cfa3fe",
   "metadata": {},
   "outputs": [
    {
     "name": "stdout",
     "output_type": "stream",
     "text": [
      "78.57142857142857\n",
      "200\n"
     ]
    }
   ],
   "source": [
    "\n",
    "class Shape:\n",
    "    def area(self):\n",
    "        pass\n",
    "\n",
    "class Circle(Shape):\n",
    "    def __init__(self, radius):\n",
    "        self.radius = radius\n",
    "\n",
    "    def area(self):\n",
    "        return 22/7 * self.radius ** 2\n",
    "\n",
    "class Rectangle(Shape):\n",
    "    def __init__(self, length, width):\n",
    "        self.length = length\n",
    "        self.width = width\n",
    "\n",
    "    def area(self):\n",
    "        return self.length * self.width\n",
    "\n",
    "# Example usage:\n",
    "\n",
    "circle = Circle(5)\n",
    "rectangle = Rectangle(10, 20)\n",
    "\n",
    "print(circle.area())  # Output: 78.53981633974483\n",
    "print(rectangle.area())  # Output: 200"
   ]
  },
  {
   "cell_type": "markdown",
   "id": "82b8f33b",
   "metadata": {},
   "source": [
    "In this example, the Shape class defines a placeholder area() method that must be implemented by its child classes.\n",
    "\n",
    "The Circle and Rectangle classes then override the area() method to implement the specific area calculation for each shape.\n",
    "\n",
    "To use the Shape class, we can create instances of the Circle and Rectangle classes and call the area() method on them. \n",
    "\n",
    "The area() method will then calculate the area of the shape and return the result."
   ]
  },
  {
   "cell_type": "markdown",
   "id": "03cf2548",
   "metadata": {},
   "source": [
    "# 12. Explain the use of abstract base classes (ABCs) in Python and how they relate to inheritance. Provide an example using the `abc` module."
   ]
  },
  {
   "cell_type": "markdown",
   "id": "4ed911d1",
   "metadata": {},
   "source": [
    "Abstract base classes (ABCs) in Python are classes that cannot be instantiated, but are meant to be inherited by other classes. They are useful for defining common methods and properties that should be implemented by their concrete subclasses.\n",
    "\n",
    "ABCs are related to inheritance in that they provide a way to define a common interface for a set of classes. This can be useful for ensuring that all of the classes in a hierarchy implement the same methods and properties in a consistent way.\n",
    "\n",
    "For example, you might create an abstract base class called Animal that defines methods like eat() and sleep(). Any class that inherits from Animal would then be required to implement these methods. This would ensure that all of your animal classes have a consistent interface, even if they implement the methods in different ways.\n",
    "\n",
    "To create an ABC in Python, you need to import the abc module and then use the @abstractmethod decorator to mark any methods that you want to be abstract. For example:"
   ]
  },
  {
   "cell_type": "code",
   "execution_count": 33,
   "id": "67a1a780",
   "metadata": {},
   "outputs": [
    {
     "name": "stdout",
     "output_type": "stream",
     "text": [
      "The dog is eating.\n",
      "The dog is sleeping.\n"
     ]
    }
   ],
   "source": [
    "from abc import ABC, abstractmethod\n",
    "\n",
    "class Animal(ABC):\n",
    "    @abstractmethod\n",
    "    def eat(self):\n",
    "        pass\n",
    "\n",
    "    @abstractmethod\n",
    "    def sleep(self):\n",
    "        pass\n",
    "\n",
    "class Dog(Animal):\n",
    "    def eat(self):\n",
    "        print(\"The dog is eating.\")\n",
    "\n",
    "    def sleep(self):\n",
    "        print(\"The dog is sleeping.\")\n",
    "\n",
    "# Create a new dog object\n",
    "dog = Dog()\n",
    "\n",
    "# Call the eat() and sleep() methods\n",
    "dog.eat()\n",
    "dog.sleep()"
   ]
  },
  {
   "cell_type": "markdown",
   "id": "3356bfe9",
   "metadata": {},
   "source": [
    "# 13. How can you prevent a child class from modifying certain attributes or methods inherited from a parent class in Python?"
   ]
  },
  {
   "cell_type": "markdown",
   "id": "e09c0111",
   "metadata": {},
   "source": [
    "There are two ways to prevent a child class from modifying certain attributes or methods inherited from a parent class in Python:\n",
    "\n",
    "Use the readonly property decorator.:\n",
    "\n",
    "The readonly property decorator prevents a property from being modified after it has been initialized. \n",
    "\n",
    "Use the super() function.:\n",
    "\n",
    "The super() function allows you to call methods on the parent class from the child class."
   ]
  },
  {
   "cell_type": "markdown",
   "id": "21936fa4",
   "metadata": {},
   "source": [
    "# 14. Create a Python class called `Employee` with attributes `name` and `salary`. Then, create a child class `Manager` that inherits from `Employee` and adds an attribute `department`. Provide an example."
   ]
  },
  {
   "cell_type": "code",
   "execution_count": 34,
   "id": "1ea3146c",
   "metadata": {},
   "outputs": [
    {
     "name": "stdout",
     "output_type": "stream",
     "text": [
      "\n",
      "Name:  Virat\n",
      "Salary:  50000\n",
      "----------------------\n",
      "\n",
      "Name:  Jatin\n",
      "Salary:  60000\n",
      "Department:  Sales\n",
      "----------------------\n"
     ]
    }
   ],
   "source": [
    "class Employee:\n",
    "    def __init__(self, name, salary):\n",
    "        self.name = name\n",
    "        self.salary = salary\n",
    "\n",
    "    def print_employee_details(self):\n",
    "        print(\"\\nName: \", self.name)\n",
    "        print(\"Salary: \", self.salary)\n",
    "        print(\"----------------------\")\n",
    "\n",
    "        \n",
    "class Manager(Employee):\n",
    "    def __init__(self, name, salary, department):\n",
    "        super().__init__(name, salary)\n",
    "        self.department = department\n",
    "\n",
    "    def print_manager_details(self):\n",
    "        print(\"\\nName: \", self.name)\n",
    "        print(\"Salary: \", self.salary)\n",
    "        print(\"Department: \", self.department)\n",
    "        print(\"----------------------\")\n",
    "\n",
    "        \n",
    "employee1 = Employee(\"Virat\", 50000)\n",
    "employee2 = Manager(\"Jatin\", 60000, \"Sales\")\n",
    "\n",
    "employee1.print_employee_details()\n",
    "employee2.print_manager_details()\n"
   ]
  },
  {
   "cell_type": "markdown",
   "id": "1b252416",
   "metadata": {},
   "source": [
    "Firstly create a class called Employee with attributes name and salary.\n",
    "\n",
    "After that create a child class called Manager that inherits from Employee and adds an attribute department.\n",
    "\n",
    "Now create an  example to show  how to use the Employee and Manager classes."
   ]
  },
  {
   "cell_type": "markdown",
   "id": "9ce66153",
   "metadata": {},
   "source": [
    "# 15. Discuss the concept of method overloading in Python inheritance. How does it differ from method overriding?"
   ]
  },
  {
   "cell_type": "markdown",
   "id": "19e87afd",
   "metadata": {},
   "source": [
    "Python does not support method overloading by default, but there are ways to achieve it.\n",
    "\n",
    "Method overloading is a feature that allows a class to have multiple methods with the same name but different parameter lists. \n",
    "\n",
    "This can be useful for providing different implementations of a method for different types of data.\n",
    "\n",
    "One way to achieve method overloading in Python is to use default arguments.\n",
    "\n",
    "For example, you could have a method called add that takes two arguments, a and b. You could then define a second add method that takes three arguments, a, b, and c. \n",
    "\n",
    "The second add method would use the default value of 0 for c if it is not specified.\n",
    "\n",
    "Another way to achieve method overloading in Python is to use variable-length argument lists. For example, you could have a method called add that takes any number of arguments.\n",
    "\n",
    "This method would then use the *args syntax to access the arguments that are passed in.\n",
    "\n",
    "It is important to note that method overloading in Python is not the same as method overriding. \n",
    "\n",
    "Method overriding is a feature that allows a subclass to provide a different implementation of a method that is already defined in its superclass.\n",
    "\n",
    "Method overloading, on the other hand, allows a class to have multiple methods with the same name but different parameter lists.\n"
   ]
  },
  {
   "cell_type": "markdown",
   "id": "344b2d04",
   "metadata": {},
   "source": [
    "# 16. Explain the purpose of the `__init__()` method in Python inheritance and how it is utilized in child classes."
   ]
  },
  {
   "cell_type": "markdown",
   "id": "1c020b4d",
   "metadata": {},
   "source": [
    "The __init__() method in Python inheritance is used to initialize the attributes of an object when it is created.\n",
    "\n",
    "It is also called a constructor. The __init__() method is similar to the default constructor in C++ and Java.\n",
    "\n",
    "The __init__() method is called automatically when an object is created. It can take any number of arguments, but the first argument must always be the object itself. This is referred to as the self parameter.\n",
    "\n",
    "The __init__() method can be used to initialize any attributes of the object."
   ]
  },
  {
   "cell_type": "markdown",
   "id": "9957cd5d",
   "metadata": {},
   "source": [
    "# 17. Create a Python class called `Bird` with a method `fly()`. Then, create child classes `Eagle` and `Sparrow` that inherit from `Bird` and implement the `fly()` method differently. Provide an example of using these classes."
   ]
  },
  {
   "cell_type": "code",
   "execution_count": 49,
   "id": "37938a38",
   "metadata": {},
   "outputs": [
    {
     "name": "stdout",
     "output_type": "stream",
     "text": [
      "The eagle is soaring through the sky.\n",
      "The sparrow is flitting from branch to branch.\n"
     ]
    }
   ],
   "source": [
    "class Bird:\n",
    "    def fly(self):\n",
    "        print(\"The bird is flying.\")\n",
    "\n",
    "class Eagle(Bird):\n",
    "    def fly(self):\n",
    "        print(\"The eagle is soaring through the sky.\")\n",
    "\n",
    "class Sparrow(Bird):\n",
    "    def fly(self):\n",
    "        print(\"The sparrow is flitting from branch to branch.\")\n",
    "\n",
    "# Create an instance of each class and call the fly() method\n",
    "eagle = Eagle()\n",
    "eagle.fly()\n",
    "\n",
    "sparrow = Sparrow()\n",
    "sparrow.fly()"
   ]
  },
  {
   "cell_type": "markdown",
   "id": "0e9ff789",
   "metadata": {},
   "source": [
    "Python class called Bird with a method fly(), and two child classes Eagle and Sparrow that inherit from Bird and implement the fly() method differently.\n",
    "\n",
    "As you can see, the Eagle and Sparrow classes inherit the fly() method from the Bird class, but they implement it differently. The Eagle class prints \"The eagle is soaring through the sky.\", while the Sparrow class prints \"The sparrow is flitting from branch to branch.\"."
   ]
  },
  {
   "cell_type": "markdown",
   "id": "8f99932d",
   "metadata": {},
   "source": [
    "# 18. What is the \"diamond problem\" in multiple inheritance, and how does Python address it?"
   ]
  },
  {
   "cell_type": "markdown",
   "id": "138e14ef",
   "metadata": {},
   "source": [
    "The \"diamond problem\" is an issue that can occur in object-oriented programming (OOP) languages that support multiple inheritance, such as C++ and Java.\n",
    "\n",
    "It happens when a class inherits from two or more classes that share a common base class, creating a diamond-shaped inheritance hierarchy. \n",
    "\n",
    "This can lead to ambiguity because the derived class inherits multiple copies of the common base class, which can result in conflicting or ambiguous method or attribute references."
   ]
  },
  {
   "cell_type": "markdown",
   "id": "0e593cd5",
   "metadata": {},
   "source": [
    "# 19. Discuss the concept of \"is-a\" and \"has-a\" relationships in inheritance, and provide examples of each."
   ]
  },
  {
   "cell_type": "markdown",
   "id": "89257480",
   "metadata": {},
   "source": [
    "An \"is-a\" relationship occurs when one class inherits another class. For example, an apple is a fruit, so you would extend fruit to get apple. An \"is-a\" relationship is used for code reusability and when there is a clear hierarchy and specialization with shared behavior and attributes. \n",
    "\n",
    "A \"has-a\" relationship occurs when an instance of one class is used in another class. For example, a room has a table, or a car has an engine. A \"has-a\" relationship is also known as composition, and is used for code reusability when dealing with complex relationships or when there is no clear specialization"
   ]
  },
  {
   "cell_type": "markdown",
   "id": "8a0573ad",
   "metadata": {},
   "source": [
    "# 20. Create a Python class hierarchy for a university system. Start with a base class `Person` and create child classes `Student` and `Professor`, each with their own attributes and methods. Provide an example of using these classes in a university context."
   ]
  },
  {
   "cell_type": "code",
   "execution_count": 50,
   "id": "dbb2779a",
   "metadata": {},
   "outputs": [
    {
     "name": "stdout",
     "output_type": "stream",
     "text": [
      "Virat\n",
      "CSE\n",
      "34\n",
      "CSE-Last year\n",
      "-------------------------------------------------------------------------------------------------------------------------------\n",
      "Sambhavi\n",
      "CSE\n",
      "653620\n",
      "DBMS\n",
      "-------------------------------------------------------------------------------------------------------------------------------\n"
     ]
    }
   ],
   "source": [
    "class Person:\n",
    "    def __init__(self,Name,Department):\n",
    "        self.Name=Name\n",
    "        self.Department=Department\n",
    "\n",
    "        \n",
    "class Student(Person):\n",
    "    def __init__(self,Name,Department,Roll_Number,Class):\n",
    "        super().__init__(Name,Department)\n",
    "        self.Roll_Number=Roll_Number\n",
    "        self.Class=Class\n",
    "    def display(self):\n",
    "        print(self.Name)\n",
    "        print(self.Department)\n",
    "        print(self.Roll_Number)\n",
    "        print(self.Class)\n",
    "        print(\"-------------------------------------------------------------------------------------------------------------------------------\")\n",
    "        \n",
    "class Proffesor(Person):\n",
    "    def __init__(self,Name,Department,Emp_Id,Subject):\n",
    "        super().__init__(Name,Department)\n",
    "        self.Emp_Id=Emp_Id\n",
    "        self.Subject=Subject\n",
    "    def display(self):\n",
    "        print(self.Name)\n",
    "        print(self.Department)\n",
    "        print(self.Emp_Id)\n",
    "        print(self.Subject)\n",
    "        print(\"-------------------------------------------------------------------------------------------------------------------------------\")\n",
    "        \n",
    "        \n",
    "s1=Student(\"Virat\",\"CSE\",34,\"CSE-Last year\")\n",
    "p1=Proffesor(\"Sambhavi\",\"CSE\",653620,\"DBMS\")\n",
    "s1.display()\n",
    "p1.display()"
   ]
  },
  {
   "cell_type": "markdown",
   "id": "dc88fb06",
   "metadata": {},
   "source": [
    "For Creating Python class hierarchy for a university system.\n",
    "\n",
    "Firstly Start with a base class `Person` and create child classes `Student` and `Professor`, each with their own attributes and methods.\n",
    "\n",
    "Lastly Provide an example of using these classes in a university content."
   ]
  },
  {
   "cell_type": "code",
   "execution_count": null,
   "id": "6c279a82",
   "metadata": {},
   "outputs": [],
   "source": []
  }
 ],
 "metadata": {
  "kernelspec": {
   "display_name": "Python 3 (ipykernel)",
   "language": "python",
   "name": "python3"
  },
  "language_info": {
   "codemirror_mode": {
    "name": "ipython",
    "version": 3
   },
   "file_extension": ".py",
   "mimetype": "text/x-python",
   "name": "python",
   "nbconvert_exporter": "python",
   "pygments_lexer": "ipython3",
   "version": "3.11.5"
  }
 },
 "nbformat": 4,
 "nbformat_minor": 5
}
